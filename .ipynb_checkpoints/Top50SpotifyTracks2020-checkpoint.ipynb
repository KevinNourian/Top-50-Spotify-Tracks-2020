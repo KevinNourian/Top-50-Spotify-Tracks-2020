{
 "cells": [
  {
   "cell_type": "markdown",
   "id": "southeast-perspective",
   "metadata": {},
   "source": [
    "# Top 50 Spotify Tracks of 2020"
   ]
  },
  {
   "cell_type": "markdown",
   "id": "naval-edmonton",
   "metadata": {},
   "source": [
    "## Introduction\n",
    "This project uses a dataset obtained from Kaggle. The data contains information about the top 50 Spodify tracks of 2020. I will perform the following tasks on this dataset: \n",
    "\n",
    "1. Load the data into Pandas\n",
    "2. Provide basic information about the data\n",
    "3. Clean the data to prepare it for analysis\n",
    "4. Provide basic descriptive statistics\n",
    "5. Deal with outlier data\n",
    "6. Perform Exploratory Data Analysis (EDA)\n",
    "7. Summarize my findings\n",
    "8. Discuss possible further analysis"
   ]
  },
  {
   "cell_type": "markdown",
   "id": "universal-philippines",
   "metadata": {},
   "source": [
    "## Goals\n",
    "\n",
    "The goal of this project is to analyze the Top 50 Spotify Tracks 2020 dataset and determine insights about its features. This analysis could be useful for an artist who might be interested in placing an album or track on Spodify. It could also be useful for those who want to gain financial benefit from marketing music.\n",
    "\n",
    "For this project, I will answer the following questions:\n",
    "\n",
    "**Dataset**\n",
    "1. How many observations are there in this dataset?\n",
    "2. How many features does this dataset have?\n",
    "3. Which of the features are categorical?\n",
    "4. Which of the features are numeric?\n",
    "\n",
    "**Artists**\n",
    "1. Are there any artists that have more than 1 popular track? If yes, which and how many?\n",
    "2. Who was the most popular artist?\n",
    "3. How many artists in total have their songs in the top 50?\n",
    "\n",
    "**Albums**\n",
    "1. Are there any albums that have more than 1 popular track? If yes, which and how many?\n",
    "2. How many albums in total have their songs in the top 50?\n",
    "\n",
    "**Tracks**\n",
    "1. Which tracks have a danceability score above 0.7?\n",
    "2. Which tracks have a danceability score below 0.4?\n",
    "3. Which tracks have their loudness above -5?\n",
    "4. Which tracks have their loudness below -8?\n",
    "5. Which track is the longest?\n",
    "6. Which track is the shortest?\n",
    "\n",
    "**Genre**\n",
    "1. Which genre is the most popular?\n",
    "2. Which genres have just one song on the top 50?\n",
    "3. How many genres in total are represented in the top 50?\n",
    "\n",
    "**Correlations**\n",
    "1. Which features are strongly positively correlated?\n",
    "2. Which features are strongly negatively correlated?\n",
    "3. Which features are not correlated?\n",
    "4. How does the danceability score compare between Pop, Hip-Hop/Rap, Dance/Electronic, and Alternative/Indie genres?\n",
    "5. How does the loudness score compare between Pop, Hip-Hop/Rap, Dance/Electronic, and Alternative/Indie genres?\n",
    "6. How does the acousticness score compare between Pop, Hip-Hop/Rap, Dance/Electronic, and Alternative/Indie genres?\n"
   ]
  },
  {
   "cell_type": "markdown",
   "id": "wanted-pantyhose",
   "metadata": {},
   "source": [
    "# Importing Libraries and Loading Data"
   ]
  },
  {
   "cell_type": "markdown",
   "id": "consistent-subsection",
   "metadata": {},
   "source": [
    "## Importing Libraries\n",
    "\n",
    "I utilize the following libraries for this project:\n",
    "\n",
    "1. pandas: Analysis of this dataset\n",
    "2. numpy: Mathematical and statistical operations\n",
    "3. seaborn: Graphs and diagrams\n",
    "4. matplotlib: Graphs and diagrams\n",
    "5. warnings: Supresses unnecessary FutureWarnings"
   ]
  },
  {
   "cell_type": "code",
   "execution_count": 5,
   "id": "separate-startup",
   "metadata": {},
   "outputs": [],
   "source": [
    "import pandas as pd\n",
    "import numpy as np\n",
    "import seaborn as sns\n",
    "import matplotlib.pyplot as plt\n",
    "import warnings"
   ]
  },
  {
   "cell_type": "markdown",
   "id": "complicated-proof",
   "metadata": {},
   "source": [
    "## Loading Data in Pandas\n",
    "\n",
    "The data is a csv file that I have dowloaded on my computer. In this section, I create a pandas dataframe object so I can work with the data."
   ]
  },
  {
   "cell_type": "code",
   "execution_count": null,
   "id": "medical-might",
   "metadata": {},
   "outputs": [],
   "source": [
    "top_fifty = pd.read_csv(\"C:\\py\\Projects\\TuringCollege\\Top50SpotifyTracks2020\\spotifytoptracks.csv\", index_col = 0)"
   ]
  },
  {
   "cell_type": "markdown",
   "id": "sustainable-pitch",
   "metadata": {},
   "source": [
    "# Basic Information\n",
    "\n",
    "In this section, I will display the following information about this dataset:\n",
    "\n",
    "1. The first 5 rows\n",
    "2. Number of rows and columns\n",
    "3. Total number of data enteries\n",
    "4. The Data Types in this dataset"
   ]
  },
  {
   "cell_type": "markdown",
   "id": "previous-teacher",
   "metadata": {},
   "source": [
    "## First Five Records of the Data Set\n",
    "\n",
    "This is a display of the first 5 rows of the dataset."
   ]
  },
  {
   "cell_type": "code",
   "execution_count": null,
   "id": "collective-simulation",
   "metadata": {
    "scrolled": true
   },
   "outputs": [],
   "source": [
    "# Configures pandas to show all columns.\n",
    "\n",
    "pd.set_option(\"display.max.columns\", None) \n",
    "top_fifty.head()"
   ]
  },
  {
   "cell_type": "markdown",
   "id": "mineral-destiny",
   "metadata": {},
   "source": [
    "## Number of Rows and Columns \n",
    "\n",
    "This dataset is made of 50 rows and 16 columns."
   ]
  },
  {
   "cell_type": "code",
   "execution_count": null,
   "id": "understood-windows",
   "metadata": {},
   "outputs": [],
   "source": [
    "top_fifty.shape"
   ]
  },
  {
   "cell_type": "markdown",
   "id": "collect-google",
   "metadata": {},
   "source": [
    "## Size of the Dataset\n",
    "\n",
    "This dataset has a total of 800 enteries."
   ]
  },
  {
   "cell_type": "code",
   "execution_count": null,
   "id": "digital-spring",
   "metadata": {},
   "outputs": [],
   "source": [
    "top_fifty.size"
   ]
  },
  {
   "cell_type": "markdown",
   "id": "painted-essay",
   "metadata": {},
   "source": [
    "## Data Types"
   ]
  },
  {
   "cell_type": "markdown",
   "id": "unsigned-batman",
   "metadata": {},
   "source": [
    "This dataset is made of three data types:\n",
    "\n",
    "- float64 (9)\n",
    "- objects(5) # Pointers to string values of different lengths. \n",
    "- int64 (2)"
   ]
  },
  {
   "cell_type": "code",
   "execution_count": null,
   "id": "accessory-synthetic",
   "metadata": {},
   "outputs": [],
   "source": [
    "top_fifty.dtypes.value_counts()"
   ]
  },
  {
   "cell_type": "markdown",
   "id": "juvenile-parallel",
   "metadata": {},
   "source": [
    "# Data Cleaning"
   ]
  },
  {
   "cell_type": "markdown",
   "id": "packed-premium",
   "metadata": {},
   "source": [
    "## NaN or Null Values\n",
    "\n",
    "This dataset contains no missing data."
   ]
  },
  {
   "cell_type": "code",
   "execution_count": null,
   "id": "qualified-exhibit",
   "metadata": {
    "scrolled": true
   },
   "outputs": [],
   "source": [
    "top_fifty.isnull().sum()"
   ]
  },
  {
   "cell_type": "markdown",
   "id": "fabulous-indianapolis",
   "metadata": {},
   "source": [
    "## Duplicate Values \n",
    "\n",
    "This dataset contains no duplicate values."
   ]
  },
  {
   "cell_type": "code",
   "execution_count": null,
   "id": "settled-passenger",
   "metadata": {
    "scrolled": true
   },
   "outputs": [],
   "source": [
    "top_fifty[top_fifty.duplicated(keep = False)].sum()"
   ]
  },
  {
   "cell_type": "markdown",
   "id": "anticipated-adolescent",
   "metadata": {},
   "source": [
    "## Unnecessary Columns\n",
    "\n",
    "The following features are track identifiers by Spodify and are unnecessary for the purposes of this project. They will be deleted from the dataset:\n",
    "\n",
    "1. track_id: The identification number of the track generated by Spodify.\n",
    "2. key: The primary identifier for the track, generated by Spotify"
   ]
  },
  {
   "cell_type": "code",
   "execution_count": null,
   "id": "nearby-warehouse",
   "metadata": {},
   "outputs": [],
   "source": [
    "# Deletes track_id and key columns\n",
    "\n",
    "top_fifty = top_fifty.drop(['track_id', 'key'], axis=1)"
   ]
  },
  {
   "cell_type": "markdown",
   "id": "supposed-lewis",
   "metadata": {},
   "source": [
    "# Descriptive Statistics\n",
    "\n",
    "In this section, I provide basic statistical details on 10 features of this dataset:\n",
    "\n",
    "1.  **Energy:** The values of the Energy feature range from 0 to 1. Higher value means that the songs is more energetic.\n",
    "2.  **Danceability:** The values of the Danceability feature range from 0 to 1. Higher value means that it is easier to dance to the song.\n",
    "3.  **Loudness:** The values of the Loudness feature are floats that typically range from -60 to 0. This feature indicates the relative loudness of the track in decibel (dB). Higher value means that the song is louder.\n",
    "4.  **Accoustiness:** The values of the Accoustiness feature range from 0 to 1. This feature indicate the relative metric of the track being acoustic. Higher value means the song is more acoustic.\n",
    "5.  **Speechiness:** The values of the Speechiness feature range from 0 to 1. This feature indicates the relative amount of human voice in the song.\n",
    "6.  **Instrumentalness:** The values of the Instrumentalness feature range from 0 to 1. This feature describes the relative ratio of the track being instrumental. If the instrumentalness is closer to 1, the song is more likely to have no vocals.\n",
    "7.  **Liveness:** The values of the Liveness feature range from 0 to 1. This feature describes the likelihood that the song was recorded with a live audience.\n",
    "8.  **Valence:** The values of the Valence feature range from 0 to 1. This feature describes the positiveness of the track. Higher valence means that the song sounds more positive.\n",
    "9.  **Tempo:** The values of the Tempo feature range from 50 to 200. This feature describes the tempo of the track in Beats Per Minute (BPM).\n",
    "10. **Duration:** The values of the Duration feature describe the length of the track in milliseconds (ms). The range is from 140,256 to 312,820."
   ]
  },
  {
   "cell_type": "code",
   "execution_count": null,
   "id": "verbal-sudan",
   "metadata": {},
   "outputs": [],
   "source": [
    "top_fifty.describe()"
   ]
  },
  {
   "cell_type": "markdown",
   "id": "southeast-bulletin",
   "metadata": {},
   "source": [
    "# Outliers\n",
    "\n",
    "An outlier is an observation that is unlike the other observations. There are basically three causes for outliers:\n",
    "\n",
    "1. Data entry and measurement errors\n",
    "2. Sampling problems\n",
    "3. Natural variations\n",
    "\n",
    "Outliers can capture valuable information and excluding them has to be done with caution. In my opinion, the outliers in this dataset fit the third cause, natural variations. Even though there are values that do not fit with the pattern of the rest of the data, in my opinion, the extreme values are legitimate, and I left them in the dataset. \n",
    "\n",
    "I used the Interquartile Range, or IQR method to identify outliers. The IQR is calculated as the difference between the 75th and the 25th percentiles of the data and defines the box in a box and whisker plot. On a box and whisker plot, values that fall outside of the box are drawn as dots and are considred outliers.\n",
    "\n",
    "According to the statistical methodology that I used, there are outliers in the following features:\n",
    "\n",
    "1. Accousticness (7)\n",
    "2. Danceability (3)\n",
    "3. Duration (2)\n",
    "4. Instrumentalness (12)\n",
    "5. Liveness (3)\n",
    "6. Loudness (1)\n",
    "7. Speechiness (6)"
   ]
  },
  {
   "cell_type": "code",
   "execution_count": null,
   "id": "amended-jewel",
   "metadata": {},
   "outputs": [],
   "source": [
    "# Ignores FutureWarning message that appears with the code below.\n",
    "\n",
    "warnings.simplefilter(action = \"ignore\", category = FutureWarning) "
   ]
  },
  {
   "cell_type": "code",
   "execution_count": null,
   "id": "chicken-monroe",
   "metadata": {},
   "outputs": [],
   "source": [
    "Q1 = top_fifty.quantile(0.25)\n",
    "Q3 = top_fifty.quantile(0.75)\n",
    "IQR = Q3 - Q1\n",
    "\n",
    "outliers_df = (top_fifty < (Q1 - 1.5 * IQR)) | (\n",
    "    top_fifty > (Q3 + 1.5 * IQR)\n",
    ")\n",
    "\n",
    "((top_fifty < (Q1 - 1.5 * IQR)) | (top_fifty > (Q3 + 1.5 * IQR))).sum()"
   ]
  },
  {
   "cell_type": "code",
   "execution_count": null,
   "id": "concrete-bargain",
   "metadata": {},
   "outputs": [],
   "source": [
    "fig, axes = plt.subplots(3, 3, figsize=(20, 20))\n",
    "\n",
    "sns.boxplot(ax=axes[0, 0], data = top_fifty, x = top_fifty ['acousticness'])\n",
    "sns.boxplot(ax=axes[0, 1], data = top_fifty, x = top_fifty ['danceability'])\n",
    "sns.boxplot(ax=axes[0, 2], data = top_fifty, x = top_fifty ['duration_ms'])\n",
    "sns.boxplot(ax=axes[1, 0], data = top_fifty, x = top_fifty ['instrumentalness'])\n",
    "sns.boxplot(ax=axes[1, 1], data = top_fifty, x = top_fifty ['liveness'])\n",
    "sns.boxplot(ax=axes[1, 2], data = top_fifty, x = top_fifty ['loudness'])\n",
    "sns.boxplot(ax=axes[2, 0], data = top_fifty, x = top_fifty ['speechiness'])\n",
    "\n",
    "fig.delaxes(ax = axes[2,1]) \n",
    "fig.delaxes(ax = axes[2,2]) "
   ]
  },
  {
   "cell_type": "markdown",
   "id": "resistant-estimate",
   "metadata": {},
   "source": [
    "# Exploratory Data Analysis (EDA)"
   ]
  },
  {
   "cell_type": "markdown",
   "id": "catholic-logistics",
   "metadata": {},
   "source": [
    "## Artists\n",
    "\n",
    "In this section, I will answer the following questions:\n",
    "\n",
    "1. How many artists in total have their songs in the top 50?\n",
    "2. Who was the most popular artist?\n",
    "3. Are there any artists that have more than 1 popular track? If yes, which and how many?"
   ]
  },
  {
   "cell_type": "markdown",
   "id": "false-chuck",
   "metadata": {},
   "source": [
    "### How many artists in total have their songs in the top 50?"
   ]
  },
  {
   "cell_type": "markdown",
   "id": "verbal-geometry",
   "metadata": {},
   "source": [
    "Forty (40)"
   ]
  },
  {
   "cell_type": "code",
   "execution_count": null,
   "id": "referenced-joseph",
   "metadata": {},
   "outputs": [],
   "source": [
    "artists = top_fifty['artist']\n",
    "unique_artists = artists.drop_duplicates(keep = 'first')\n",
    "unique_artists.count()"
   ]
  },
  {
   "cell_type": "markdown",
   "id": "unsigned-radio",
   "metadata": {},
   "source": [
    "### Who were the most popular artists?"
   ]
  },
  {
   "cell_type": "markdown",
   "id": "respective-bryan",
   "metadata": {},
   "source": [
    "I determined the most popular artists by the number of tracks an artist has in the Spodify Top 50. The most popular artists are:\n",
    "- Travis Scott (3 tracks)\n",
    "- Billie Eilish (3 tracks)\n",
    "- Dua Lipa (3 tracks)"
   ]
  },
  {
   "cell_type": "code",
   "execution_count": null,
   "id": "creative-substance",
   "metadata": {},
   "outputs": [],
   "source": [
    "dups_artist = top_fifty.pivot_table(index = ['artist'], aggfunc ='size')\n",
    "dups_artist.sort_values(ascending = False).head(3)"
   ]
  },
  {
   "cell_type": "markdown",
   "id": "egyptian-gibraltar",
   "metadata": {},
   "source": [
    "### Are there any artists that have more than 1 popular track? If yes, which and how many?"
   ]
  },
  {
   "cell_type": "markdown",
   "id": "acceptable-neutral",
   "metadata": {},
   "source": [
    "The following artists have more than one popular track:"
   ]
  },
  {
   "cell_type": "code",
   "execution_count": null,
   "id": "following-lotus",
   "metadata": {},
   "outputs": [],
   "source": [
    "dups_artist = top_fifty.pivot_table(index = ['artist'], aggfunc ='size')\n",
    "dups_artist.sort_values(ascending = False).iloc[0:7]"
   ]
  },
  {
   "cell_type": "markdown",
   "id": "married-columbia",
   "metadata": {},
   "source": [
    "## Albums\n",
    "\n",
    "In this section, I will answer the following questions:\n",
    "\n",
    "1. How many albums in total have their songs in the top 50?\n",
    "2. Are there any albums that have more than 1 popular track? If yes, which and how many? "
   ]
  },
  {
   "cell_type": "markdown",
   "id": "gorgeous-church",
   "metadata": {},
   "source": [
    "### How many albums in total have their songs in the top 50?"
   ]
  },
  {
   "cell_type": "markdown",
   "id": "continuing-ecology",
   "metadata": {},
   "source": [
    "Forty-Five (45)"
   ]
  },
  {
   "cell_type": "code",
   "execution_count": null,
   "id": "proof-adaptation",
   "metadata": {},
   "outputs": [],
   "source": [
    "dups_albums = top_fifty.pivot_table(index = ['album'], aggfunc ='size')\n",
    "dups_albums.sort_values(ascending = False)\n",
    "\n",
    "dups_albums.sort_values(ascending = False).count()"
   ]
  },
  {
   "cell_type": "markdown",
   "id": "everyday-potter",
   "metadata": {},
   "source": [
    "### Are there any albums that have more than 1 popular track? If yes, which and how many? "
   ]
  },
  {
   "cell_type": "markdown",
   "id": "peaceful-fleet",
   "metadata": {},
   "source": [
    "The following albums have more than one popular track:\n",
    "- Future Nostalgia(3)\n",
    "- Fine Line(2)\n",
    "- Hollywood's Bleeding(2)\n",
    "- Changes(2)"
   ]
  },
  {
   "cell_type": "code",
   "execution_count": null,
   "id": "collected-bookmark",
   "metadata": {},
   "outputs": [],
   "source": [
    "dups_albums.sort_values(ascending = False).iloc[0:4]"
   ]
  },
  {
   "cell_type": "markdown",
   "id": "challenging-communication",
   "metadata": {},
   "source": [
    "## Duration\n",
    "\n",
    "In this section, I will answer the following questions:\n",
    "\n",
    "1. Which track is the longest?\n",
    "2. Which track is the shortest?"
   ]
  },
  {
   "cell_type": "code",
   "execution_count": null,
   "id": "altered-chapel",
   "metadata": {},
   "outputs": [],
   "source": [
    "duration = top_fifty[['track_name','album','duration_ms']] # Creates a new data frame from the original.\n",
    "duration.set_index('track_name', inplace = True) # Sets the track_name as the index."
   ]
  },
  {
   "cell_type": "markdown",
   "id": "irish-animal",
   "metadata": {},
   "source": [
    "### Which track is the longest?\n",
    "\n",
    "The longest track is:\n",
    "- SICKO MODE from the ablum, ASTROWORLD with 312820 ms."
   ]
  },
  {
   "cell_type": "code",
   "execution_count": null,
   "id": "structured-median",
   "metadata": {
    "scrolled": true
   },
   "outputs": [],
   "source": [
    "duration_ascending = duration.sort_values(by='duration_ms', ascending = False) # Sorts the data frame based on duration_ms column\n",
    "\n",
    "duration_ascending.iloc[[0]]"
   ]
  },
  {
   "cell_type": "markdown",
   "id": "expanded-delay",
   "metadata": {},
   "source": [
    "### Which track is the shortest?\n",
    "\n",
    "Track shortest track is: \n",
    "\n",
    "- Mood (feat. iann dior) from album, Mood (feat. iann dior) with 140526 ms"
   ]
  },
  {
   "cell_type": "code",
   "execution_count": null,
   "id": "personal-tracker",
   "metadata": {},
   "outputs": [],
   "source": [
    "duration_descending = duration.sort_values(by = 'duration_ms', ascending = True) # Sorts the data frame based on duration_ms column\n",
    "\n",
    "duration_descending.iloc[[0]]"
   ]
  },
  {
   "cell_type": "markdown",
   "id": "regulation-factor",
   "metadata": {},
   "source": [
    "## Genres\n",
    "\n",
    "In this section, I will answer the following questions:\n",
    "\n",
    "1. How many genres in total are represented in the top 50?\n",
    "2. Which genre is the most popular?\n",
    "3. Which genres have just one song on the top 50?"
   ]
  },
  {
   "cell_type": "code",
   "execution_count": null,
   "id": "sunrise-pantyhose",
   "metadata": {},
   "outputs": [],
   "source": [
    "genre = top_fifty[['genre']] "
   ]
  },
  {
   "cell_type": "markdown",
   "id": "fourth-skiing",
   "metadata": {},
   "source": [
    "### How many genres in total are represented in the top 50?\n",
    "\n",
    "There are 16 unique genres in the Top 50."
   ]
  },
  {
   "cell_type": "code",
   "execution_count": null,
   "id": "several-injection",
   "metadata": {},
   "outputs": [],
   "source": [
    "genre.nunique()"
   ]
  },
  {
   "cell_type": "markdown",
   "id": "published-obligation",
   "metadata": {},
   "source": [
    "### Which genre is the most popular?"
   ]
  },
  {
   "cell_type": "markdown",
   "id": "human-premises",
   "metadata": {},
   "source": [
    "The most popular genre is Pop."
   ]
  },
  {
   "cell_type": "code",
   "execution_count": null,
   "id": "colonial-faith",
   "metadata": {},
   "outputs": [],
   "source": [
    "genre.value_counts()"
   ]
  },
  {
   "cell_type": "markdown",
   "id": "level-circulation",
   "metadata": {},
   "source": [
    "### Which genres have just one track on the top 50?\n",
    "\n",
    "The following 10 genres have just one track in the Top 50.\n",
    "\n",
    "1. Alternative/reggaeton/experimental    \n",
    "2. Chamber pop                           \n",
    "3. Dance-pop/Disco                       \n",
    "4. Disco-pop                             \n",
    "5. Dreampop/Hip-Hop/R&B                 \n",
    "6. Hip-Hop/Trap                         \n",
    "7. Nu-disco                             \n",
    "8. Pop rap                               \n",
    "9. Pop/Soft Rock                         \n",
    "10. R&B/Hip-Hop alternative "
   ]
  },
  {
   "cell_type": "code",
   "execution_count": null,
   "id": "copyrighted-disposal",
   "metadata": {},
   "outputs": [],
   "source": [
    "num_tracks = genre.value_counts() == 1\n",
    "one_song = num_tracks [num_tracks == True]  # Shows only rows with True values.\n",
    "\n",
    "one_song"
   ]
  },
  {
   "cell_type": "markdown",
   "id": "cellular-salem",
   "metadata": {},
   "source": [
    "## Danceability\n",
    "\n",
    "In this section, I will answer the following questions:\n",
    "\n",
    "1. Which tracks have a danceability score above 0.7?\n",
    "2. Which tracks have a danceability score below 0.4?"
   ]
  },
  {
   "cell_type": "code",
   "execution_count": null,
   "id": "viral-america",
   "metadata": {},
   "outputs": [],
   "source": [
    "danceability = top_fifty[['track_name','album','danceability']] # Creates a new data frame from the original.\n",
    "danceability.set_index('track_name', inplace = True) # Sets the track_name as the index."
   ]
  },
  {
   "cell_type": "markdown",
   "id": "classified-humanity",
   "metadata": {},
   "source": [
    "### Which tracks have a danceability score above 0.7?\n",
    "\n",
    "The following 32 tracks have danceability scores above 0.7. They are listed below."
   ]
  },
  {
   "cell_type": "code",
   "execution_count": null,
   "id": "average-tsunami",
   "metadata": {},
   "outputs": [],
   "source": [
    "danceability_bool = danceability['danceability'] > 0.7\n",
    "danceability_high = danceability_bool [danceability_bool == True]  # Shows only rows with True values.\n",
    "\n",
    "danceability_high"
   ]
  },
  {
   "cell_type": "markdown",
   "id": "geological-wales",
   "metadata": {},
   "source": [
    "### Which tracks have a danceability score below 0.4?\n",
    "\n",
    "There is 1 track with danceability score below 0.4: lovely (with Khalid) "
   ]
  },
  {
   "cell_type": "code",
   "execution_count": null,
   "id": "seven-accused",
   "metadata": {},
   "outputs": [],
   "source": [
    "danceability_bool_low = danceability['danceability'] < 0.4\n",
    "danceability_low = danceability_bool_low[danceability_bool_low == True]\n",
    "\n",
    "danceability_low"
   ]
  },
  {
   "cell_type": "markdown",
   "id": "representative-diana",
   "metadata": {},
   "source": [
    "## Loudness\n",
    "\n",
    "In this section, I will answer the following questions:\n",
    "\n",
    "1. Which tracks have their loudness above -5?\n",
    "2. Which tracks have their loudness below -8?"
   ]
  },
  {
   "cell_type": "code",
   "execution_count": null,
   "id": "pacific-belfast",
   "metadata": {},
   "outputs": [],
   "source": [
    "loudness = top_fifty[['track_name','album','loudness']] # Creates a new data frame from the original.\n",
    "loudness.set_index('track_name', inplace = True) # Sets the track_name as the index."
   ]
  },
  {
   "cell_type": "markdown",
   "id": "reverse-abortion",
   "metadata": {},
   "source": [
    "### Which tracks have their loudness above -5?\n",
    "\n",
    "There are 19 tracks with loudness scores above -5:\n",
    "\n",
    "1. Don't Start Now                                  \n",
    "2. Watermelon Sugar                                 \n",
    "3. Tusa                                             \n",
    "4. Circles                                          \n",
    "5. Before You Go                                    \n",
    "6. Say So                                           \n",
    "7. Adore You                                        \n",
    "8. Mood (feat. iann dior)                           \n",
    "9. Break My Heart                                   \n",
    "10. Dynamite                                         \n",
    "11. Supalonely (feat. Gus Dapperton)                 \n",
    "12. Rain On Me (with Ariana Grande)                  \n",
    "13. Sunflower - Spider-Man: Into the Spider-Verse    \n",
    "14. Hawái                                            \n",
    "15. Ride It                                          \n",
    "16. goosebumps                                       \n",
    "17. Safaera                                         \n",
    "18. Physical                                         \n",
    "19. SICKO MODE                                       "
   ]
  },
  {
   "cell_type": "code",
   "execution_count": null,
   "id": "entitled-village",
   "metadata": {},
   "outputs": [],
   "source": [
    "loudness_bool_high = loudness['loudness'] > -5\n",
    "loudness_high = loudness_bool_high[loudness_bool_high == True]\n",
    "\n",
    "loudness_high"
   ]
  },
  {
   "cell_type": "markdown",
   "id": "individual-ticket",
   "metadata": {},
   "source": [
    "### Which tracks have their loudness below -8?\n",
    "\n",
    "There are 9 tracks with loudness scores below -8:\n",
    "\n",
    "1. death bed (coffee for your head)                  \n",
    "2. Falling                                           \n",
    "3. Toosie Slide                                      \n",
    "4. Savage Love (Laxed - Siren Beat)                  \n",
    "5. everything i wanted                               \n",
    "6. bad guy                                           \n",
    "7. HIGHEST IN THE ROOM                               \n",
    "8. lovely (with Khalid)                              \n",
    "9. If the World Was Ending - feat. Julia Michaels    "
   ]
  },
  {
   "cell_type": "code",
   "execution_count": null,
   "id": "brave-leone",
   "metadata": {},
   "outputs": [],
   "source": [
    "loudness_bool_low = loudness['loudness'] < -8\n",
    "loudness_low = loudness_bool_low[loudness_bool_low == True]\n",
    "\n",
    "loudness_low"
   ]
  },
  {
   "cell_type": "markdown",
   "id": "acceptable-cooling",
   "metadata": {},
   "source": [
    "## Correlations Among Features\n",
    "\n",
    "In this section, I will answer the following questions:\n",
    "\n",
    "1. Which features are strongly positively correlated?\n",
    "2. Which features are strongly negatively correlated?\n",
    "3. Which features are not correlated?\n",
    "4. How does the danceability score compare between Pop, Hip-Hop/Rap, Dance/Electronic, and Alternative/Indie genres?\n",
    "5. How does the loudness score compare between Pop, Hip-Hop/Rap, Dance/Electronic, and Alternative/Indie genres?\n",
    "6. How does the acousticness score compare between Pop, Hip-Hop/Rap, Dance/Electronic, and Alternative/Indie genres?\n",
    "\n",
    "For the purposes of this analysis, I used the Pearson's Correlation Coefficient model and chose the following thresholds:\n",
    "\n",
    "*  +0.6 to +1: Strong Positive correlation\n",
    "\n",
    "*  -0.6 to -1: Strong Negative correlation\n",
    "\n",
    "*  -0.1 to +0.1: No correlation"
   ]
  },
  {
   "cell_type": "code",
   "execution_count": null,
   "id": "approximate-puzzle",
   "metadata": {},
   "outputs": [],
   "source": [
    "# Converts genre labels to numberical values.\n",
    "\n",
    "# top_fifty['genre'] = top_fifty['genre'].astype('category').cat.codes\n",
    "\n",
    "top_fifty.head()"
   ]
  },
  {
   "cell_type": "code",
   "execution_count": null,
   "id": "eastern-fashion",
   "metadata": {},
   "outputs": [],
   "source": [
    "corr = top_fifty.corr()\n",
    "\n",
    "mask = np.triu(np.ones_like(corr, dtype = bool))\n",
    "\n",
    "f, ax = plt.subplots(figsize = (16, 16))\n",
    "\n",
    "cmap = sns.diverging_palette(230, 20, as_cmap = True)\n",
    "heatmap = sns.heatmap(\n",
    "    corr,\n",
    "    mask=mask,\n",
    "    cmap=cmap,\n",
    "    vmax=1,\n",
    "    vmin=-1,\n",
    "    center=0,\n",
    "    square=True,\n",
    "    linewidths=0.5,\n",
    "    cbar_kws={\"shrink\": 0.5},\n",
    "    annot=True,\n",
    ")\n",
    "\n",
    "heatmap.set_title(\n",
    "    \"Correlation Heatmap of Spodify Tracks 2020\",\n",
    "    fontdict={\"fontsize\": 16},\n",
    "    pad=12,\n",
    ")\n",
    "plt.xlabel(\"\")\n",
    "plt.ylabel(\"\");"
   ]
  },
  {
   "cell_type": "markdown",
   "id": "italic-courage",
   "metadata": {},
   "source": [
    "### Which features are strongly positively correlated?"
   ]
  },
  {
   "cell_type": "markdown",
   "id": "median-start",
   "metadata": {},
   "source": [
    "Loudness and Energy (+0.79)"
   ]
  },
  {
   "cell_type": "markdown",
   "id": "cognitive-amount",
   "metadata": {},
   "source": [
    "### Which features are strongly negatively correlated?"
   ]
  },
  {
   "cell_type": "markdown",
   "id": "indirect-moscow",
   "metadata": {},
   "source": [
    "Enegry and Acoustiness (-0.68)"
   ]
  },
  {
   "cell_type": "markdown",
   "id": "organizational-surface",
   "metadata": {},
   "source": [
    "### Which features are not correlated?"
   ]
  },
  {
   "cell_type": "markdown",
   "id": "hearing-minute",
   "metadata": {},
   "source": [
    "The following features are not correlated with Energy:\n",
    "\n",
    "1. Genre (+0.059)\n",
    "2. Duration (+0.082)\n",
    "3. Tempo (+0.075)\n",
    "4. Liveness (+0.069)\n",
    "5. Speechiness (+0.074)"
   ]
  },
  {
   "cell_type": "markdown",
   "id": "hairy-james",
   "metadata": {},
   "source": [
    "The following features are not correlated with Danceability:\n",
    "1. Genre (0.0069)\n",
    "2. Liveness (-0.0066)\n",
    "3. Instrumentalness (-0.018)\n",
    "4. Duration (-0.034)"
   ]
  },
  {
   "cell_type": "markdown",
   "id": "devoted-sally",
   "metadata": {},
   "source": [
    "The followoing features are not correlated with Loudness:\n",
    "1. Speechiness (+0.022)\n",
    "2. Liveness (-0.07)\n",
    "3. Duration (+0.064)\n",
    "4. Genre (+0.026)"
   ]
  },
  {
   "cell_type": "markdown",
   "id": "comparable-mortgage",
   "metadata": {},
   "source": [
    "The following features are not correlated with Speechiness:\n",
    "1. Valence (+0.054)\n",
    "2. Instrumentalness (+0.029)\n",
    "3. Genre (-0.085)"
   ]
  },
  {
   "cell_type": "markdown",
   "id": "twelve-spine",
   "metadata": {},
   "source": [
    "The following features are not correlted with Instrumentalness:\n",
    "1. Genre (+0.054)\n",
    "2. Tempo (+0.019)\n",
    "3. Liveness (-0.087)"
   ]
  },
  {
   "cell_type": "markdown",
   "id": "shared-sleeve",
   "metadata": {},
   "source": [
    "The following features are not correlated with Liveness:\n",
    "1. Duration (-0.09)\n",
    "2. Valence (-0.033)\n",
    "3. Tempo (+0.025) \n",
    "4. Genere (+0.075)"
   ]
  },
  {
   "cell_type": "markdown",
   "id": "opposed-august",
   "metadata": {},
   "source": [
    "The following features are not correlated with Valence:\n",
    "\n",
    "1. Tempo (+0.045)\n",
    "2. Duration (-0.04)\n",
    "3. Genre (-0.038)"
   ]
  },
  {
   "cell_type": "markdown",
   "id": "explicit-emperor",
   "metadata": {},
   "source": [
    "The following feature is not correlated with Duration:\n",
    "\n",
    "Genre (+0.009)"
   ]
  },
  {
   "cell_type": "markdown",
   "id": "offensive-madrid",
   "metadata": {},
   "source": []
  },
  {
   "cell_type": "markdown",
   "id": "designed-riding",
   "metadata": {},
   "source": [
    "## Correlations With Genres\n",
    "\n",
    "In this section, I will answer the following questions:\n",
    "\n",
    "1. How does the danceability score compare between Pop, Hip-Hop/Rap, Dance/Electronic, and Alternative/Indie genres?\n",
    "2. How does the loudness score compare between Pop, Hip-Hop/Rap, Dance/Electronic, and Alternative/Indie genres?\n",
    "3. How does the acousticness score compare between Pop, Hip-Hop/Rap, Dance/Electronic, and Alternative/Indie genres?\n",
    "\n",
    "For the purposes of this analysis, I chose:\n",
    "\n",
    "- Correlations above +0.6 to be strong positive correlations\n",
    "- Correlations below -0.6 to be strong negative correlations"
   ]
  },
  {
   "cell_type": "markdown",
   "id": "demonstrated-mailman",
   "metadata": {},
   "source": [
    "### How does the danceability score compare between Pop, Hip-Hop/Rap, Dance/Electronic, and Alternative/Indie genres?"
   ]
  },
  {
   "cell_type": "code",
   "execution_count": 6,
   "id": "correct-taylor",
   "metadata": {
    "scrolled": true
   },
   "outputs": [],
   "source": [
    "# Loads the dataset to obtain genres in their original object string version.\n",
    "\n",
    "top_fifty = pd.read_csv(\"C:\\py\\Projects\\TuringCollege\\Top50SpotifyTracks2020\\spotifytoptracks.csv\", index_col = 0)"
   ]
  },
  {
   "cell_type": "markdown",
   "id": "partial-wesley",
   "metadata": {},
   "source": [
    "Correlation of dancability with the following genres:\n",
    "\n",
    "1. Pop: Strong Positive Correlation\n",
    "2. Hip-Hop/Rap: Strong Positive Correlation\n",
    "3. Dance/Electronic: Strong Positive Correlation\n",
    "4. Alternative/Indie: Strong Positive Correlation\n",
    "\n",
    "The strongest positive correlation is between Danceability and Hip-hop/Rap."
   ]
  },
  {
   "cell_type": "code",
   "execution_count": 7,
   "id": "suburban-entity",
   "metadata": {},
   "outputs": [
    {
     "data": {
      "image/png": "[encoded data removed]",
      "text/plain": [
       "<Figure size 1080x576 with 1 Axes>"
      ]
     },
     "metadata": {
      "needs_background": "light"
     },
     "output_type": "display_data"
    }
   ],
   "source": [
    "plt.figure(figsize=(15,8))\n",
    "\n",
    "sns.barplot(x='genre', y = 'danceability', data = top_fifty, ci = None)\n",
    "plt.xticks(rotation=70)\n",
    "plt.tight_layout()\n",
    "plt.show()"
   ]
  },
  {
   "cell_type": "markdown",
   "id": "rapid-genetics",
   "metadata": {},
   "source": [
    "### How does the loudness score compare between Pop, Hip-Hop/Rap, Dance/Electronic, and Alternative/Indie genres?"
   ]
  },
  {
   "cell_type": "markdown",
   "id": "spatial-extension",
   "metadata": {},
   "source": [
    "Correlation of loudness with the following genres:\n",
    "\n",
    "1. Pop: Strong Negative Correlation\n",
    "2. Hip-Hop/Rap: Strong Negative Correlation\n",
    "3. Dance/Electronic: Negative Correlation\n",
    "4. Alternative/Indie: Negative Correlation\n",
    "\n",
    "The strongest negative correlation is between Loudness and Hip-hop/Rap."
   ]
  },
  {
   "cell_type": "code",
   "execution_count": 8,
   "id": "built-magnitude",
   "metadata": {},
   "outputs": [
    {
     "data": {
      "image/png": "[encoded data removed]",
      "text/plain": [
       "<Figure size 1080x576 with 1 Axes>"
      ]
     },
     "metadata": {
      "needs_background": "light"
     },
     "output_type": "display_data"
    }
   ],
   "source": [
    "plt.figure(figsize=(15,8))\n",
    "\n",
    "sns.barplot(x='genre', y = 'loudness', data = top_fifty, ci = None)\n",
    "plt.xticks(rotation=70)\n",
    "plt.tight_layout()\n",
    "plt.show()"
   ]
  },
  {
   "cell_type": "markdown",
   "id": "stuck-aircraft",
   "metadata": {},
   "source": [
    "### How does the acousticness score compare between Pop, Hip-Hop/Rap, Dance/Electronic, and Alternative/Indie genres?"
   ]
  },
  {
   "cell_type": "markdown",
   "id": "level-pantyhose",
   "metadata": {},
   "source": [
    "Correlation of acousticness with the following genres:\n",
    "\n",
    "1. Pop: Positive Correlation\n",
    "2. Hip-Hop/Rap: Positive Correlation\n",
    "3. Dance/Electronic: Positive Correlation\n",
    "4. Alternative/Indie: Positive Correlation\n",
    "\n",
    "The strongest negative correlation is between Acousticness and Alternative/Indie."
   ]
  },
  {
   "cell_type": "markdown",
   "id": "saving-figure",
   "metadata": {},
   "source": [
    "Acousticness compares positively with neither of the features above."
   ]
  },
  {
   "cell_type": "code",
   "execution_count": 9,
   "id": "veterinary-stereo",
   "metadata": {},
   "outputs": [
    {
     "data": {
      "image/png": "[encoded data removed]",
      "text/plain": [
       "<Figure size 1080x576 with 1 Axes>"
      ]
     },
     "metadata": {
      "needs_background": "light"
     },
     "output_type": "display_data"
    }
   ],
   "source": [
    "plt.figure(figsize=(15,8))\n",
    "\n",
    "sns.barplot(x='genre', y = 'acousticness', data = top_fifty, ci = None)\n",
    "plt.xticks(rotation=70)\n",
    "plt.tight_layout()\n",
    "plt.show()"
   ]
  },
  {
   "cell_type": "markdown",
   "id": "ranking-master",
   "metadata": {},
   "source": [
    "# Conclusions"
   ]
  },
  {
   "cell_type": "markdown",
   "id": "genetic-black",
   "metadata": {},
   "source": [
    "In this project, I analyzed the Top 50 Spotify Tracks 2020 dataset and gained various insights about its features. By looking at the analysis in this project, one will gain insights into characteristics of popular tracks and on considerations in creating or marketing a popular track on Spodify. This analysis would be useful for an artist who might be interested in creating artistic work for Spodify. It could also be useful for entrepreneurs who want to gain financial benefit from marketing albums or tracks within or outside of Spodify."
   ]
  },
  {
   "cell_type": "markdown",
   "id": "ordinary-israeli",
   "metadata": {},
   "source": [
    "# Suggestions"
   ]
  },
  {
   "cell_type": "markdown",
   "id": "headed-assets",
   "metadata": {},
   "source": [
    "This analysis could be improved by doing more detailed analysis on each of the features of this dataset. In addition, more knowledge about each feature of this dataset could improve the analysis. Furthermore, this analysis could be improved by focusing on one specific feature and identifying key ideas that could be useful in answering more specific questions."
   ]
  }
 ],
 "metadata": {
  "kernelspec": {
   "display_name": "Python 3",
   "language": "python",
   "name": "python3"
  },
  "language_info": {
   "codemirror_mode": {
    "name": "ipython",
    "version": 3
   },
   "file_extension": ".py",
   "mimetype": "text/x-python",
   "name": "python",
   "nbconvert_exporter": "python",
   "pygments_lexer": "ipython3",
   "version": "3.9.6"
  },
  "toc": {
   "base_numbering": 1,
   "nav_menu": {},
   "number_sections": true,
   "sideBar": true,
   "skip_h1_title": false,
   "title_cell": "Table of Contents",
   "title_sidebar": "Contents",
   "toc_cell": false,
   "toc_position": {
    "height": "calc(100% - 180px)",
    "left": "10px",
    "top": "150px",
    "width": "263px"
   },
   "toc_section_display": true,
   "toc_window_display": false
  }
 },
 "nbformat": 4,
 "nbformat_minor": 5
}
