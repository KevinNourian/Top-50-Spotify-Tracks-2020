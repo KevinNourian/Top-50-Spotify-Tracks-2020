{
 "cells": [
  {
   "cell_type": "markdown",
   "id": "southeast-perspective",
   "metadata": {},
   "source": [
    "# Top 50 Spotify Tracks of 2020"
   ]
  },
  {
   "cell_type": "markdown",
   "id": "naval-edmonton",
   "metadata": {},
   "source": [
    "## Introduction\n",
    "This project uses a dataset obtained from Kaggle. The data contains information about the top 50 Spodify tracks of 2020. I will perform the following tasks on this dataset: \n",
    "\n",
    "1. Load the data into Pandas\n",
    "2. Provide basic information about the data\n",
    "3. Clean the data of unnecessary, missing and duplicate data as necessary\n",
    "4. Provide basic descriptive statistics\n",
    "5. Deal with outlier data as necessary\n",
    "6. Perform Exploratory Data Analysis (EDA)\n",
    "7. Provide correlation analysis\n",
    "8. Summarize my findings\n",
    "9. Discuss possible further analysis"
   ]
  },
  {
   "cell_type": "markdown",
   "id": "universal-philippines",
   "metadata": {},
   "source": [
    "## Goals\n",
    "\n",
    "The goal of this project is to analyze the Top 50 Spotify Tracks 2020 dataset and determine insights about its features. This analysis could be useful for a would-be artist who might be interested in placing an album or track on Spodify. It could also be useful for people who would want to gain financial benefit from marketing albums or tracks within or outside of Spodify.\n",
    "\n",
    "For this project, I will specifically answer the following questions:\n",
    "\n",
    "**Dataset**\n",
    "1. How many observations are there in this dataset?\n",
    "2. How many features this dataset has?\n",
    "3. Which of the features are categorical?\n",
    "4. Which of the features are numeric?\n",
    "\n",
    "**Artists**\n",
    "1. Are there any artists that have more than 1 popular track? If yes, which and how many?\n",
    "2. Who was the most popular artist?\n",
    "3. How many artists in total have their songs in the top 50?\n",
    "\n",
    "**Albums**\n",
    "1. Are there any albums that have more than 1 popular track? If yes, which and how many?\n",
    "2. How many albums in total have their songs in the top 50?\n",
    "\n",
    "**Tracks**\n",
    "1. Which tracks have a danceability score above 0.7?\n",
    "2. Which tracks have a danceability score below 0.4?\n",
    "3. Which tracks have their loudness above -5?\n",
    "4. Which tracks have their loudness below -8?\n",
    "5. Which track is the longest?\n",
    "6. Which track is the shortest?\n",
    "\n",
    "**Genre**\n",
    "1. Which genre is the most popular?\n",
    "2. Which genres have just one song on the top 50?\n",
    "3. How many genres in total are represented in the top 50?\n",
    "\n",
    "**Correlations**\n",
    "1. Which features are strongly positively correlated?\n",
    "2. Which features are strongly negatively correlated?\n",
    "3. Which features are not correlated?\n",
    "4. How does the danceability score compare between Pop, Hip-Hop/Rap, Dance/Electronic, and Alternative/Indie genres?\n",
    "5. How does the loudness score compare between Pop, Hip-Hop/Rap, Dance/Electronic, and Alternative/Indie genres?\n",
    "6. How does the acousticness score compare between Pop, Hip-Hop/Rap, Dance/Electronic, and Alternative/Indie genres?\n"
   ]
  },
  {
   "cell_type": "markdown",
   "id": "wanted-pantyhose",
   "metadata": {},
   "source": [
    "# Importing Libraries and Loading Data"
   ]
  },
  {
   "cell_type": "markdown",
   "id": "consistent-subsection",
   "metadata": {},
   "source": [
    "## Importing Libraries\n",
    "\n",
    "I utilize the following libraries for this project:\n",
    "\n",
    "1. pandas: Analysis of this dataset\n",
    "2. numpy: Mathematical and statistical operations\n",
    "3. seaborn: Graphs and diagrams\n",
    "4. matplotlib: Graphs and diagrams\n",
    "5. warnings: Supresses unnecessary FutureWarnings"
   ]
  },
  {
   "cell_type": "code",
   "execution_count": 158,
   "id": "separate-startup",
   "metadata": {},
   "outputs": [],
   "source": [
    "import pandas as pd\n",
    "import numpy as np\n",
    "import seaborn as sns\n",
    "import matplotlib.pyplot as plt\n",
    "import warnings"
   ]
  },
  {
   "cell_type": "markdown",
   "id": "complicated-proof",
   "metadata": {},
   "source": [
    "## Loading Data in Pandas\n",
    "\n",
    "The data is a csv file that I have dowloaded on my computer. In this section, I create a pandas dataframe object so I can work with the data."
   ]
  },
  {
   "cell_type": "code",
   "execution_count": 159,
   "id": "medical-might",
   "metadata": {},
   "outputs": [],
   "source": [
    "top_fifty = pd.read_csv(\"C:\\py\\Projects\\TuringCollege\\Top50SpotifyTracks2020\\spotifytoptracks.csv\", index_col = 0)"
   ]
  },
  {
   "cell_type": "markdown",
   "id": "sustainable-pitch",
   "metadata": {},
   "source": [
    "# Basic Information\n",
    "\n",
    "In this section, I display the following information about the data set:\n",
    "\n",
    "1. The first 5 rows\n",
    "2. Number or rows and columns\n",
    "3. Total number of data enteries\n",
    "4. Data Types"
   ]
  },
  {
   "cell_type": "markdown",
   "id": "previous-teacher",
   "metadata": {},
   "source": [
    "## First Five Records of the Data Set\n",
    "\n",
    "This is a display of the first 5 rows and all columns of the data set."
   ]
  },
  {
   "cell_type": "code",
   "execution_count": 160,
   "id": "traditional-idaho",
   "metadata": {},
   "outputs": [],
   "source": [
    "# Configures pandas to show all columns.\n",
    "\n",
    "pd.set_option(\"display.max.columns\", None) "
   ]
  },
  {
   "cell_type": "code",
   "execution_count": 161,
   "id": "collective-simulation",
   "metadata": {
    "scrolled": true
   },
   "outputs": [
    {
     "data": {
      "text/html": [
       "<div>\n",
       "<style scoped>\n",
       "    .dataframe tbody tr th:only-of-type {\n",
       "        vertical-align: middle;\n",
       "    }\n",
       "\n",
       "    .dataframe tbody tr th {\n",
       "        vertical-align: top;\n",
       "    }\n",
       "\n",
       "    .dataframe thead th {\n",
       "        text-align: right;\n",
       "    }\n",
       "</style>\n",
       "<table border=\"1\" class=\"dataframe\">\n",
       "  <thead>\n",
       "    <tr style=\"text-align: right;\">\n",
       "      <th></th>\n",
       "      <th>artist</th>\n",
       "      <th>album</th>\n",
       "      <th>track_name</th>\n",
       "      <th>track_id</th>\n",
       "      <th>energy</th>\n",
       "      <th>danceability</th>\n",
       "      <th>key</th>\n",
       "      <th>loudness</th>\n",
       "      <th>acousticness</th>\n",
       "      <th>speechiness</th>\n",
       "      <th>instrumentalness</th>\n",
       "      <th>liveness</th>\n",
       "      <th>valence</th>\n",
       "      <th>tempo</th>\n",
       "      <th>duration_ms</th>\n",
       "      <th>genre</th>\n",
       "    </tr>\n",
       "  </thead>\n",
       "  <tbody>\n",
       "    <tr>\n",
       "      <th>0</th>\n",
       "      <td>The Weeknd</td>\n",
       "      <td>After Hours</td>\n",
       "      <td>Blinding Lights</td>\n",
       "      <td>0VjIjW4GlUZAMYd2vXMi3b</td>\n",
       "      <td>0.730</td>\n",
       "      <td>0.514</td>\n",
       "      <td>1</td>\n",
       "      <td>-5.934</td>\n",
       "      <td>0.00146</td>\n",
       "      <td>0.0598</td>\n",
       "      <td>0.000095</td>\n",
       "      <td>0.0897</td>\n",
       "      <td>0.334</td>\n",
       "      <td>171.005</td>\n",
       "      <td>200040</td>\n",
       "      <td>R&amp;B/Soul</td>\n",
       "    </tr>\n",
       "    <tr>\n",
       "      <th>1</th>\n",
       "      <td>Tones And I</td>\n",
       "      <td>Dance Monkey</td>\n",
       "      <td>Dance Monkey</td>\n",
       "      <td>1rgnBhdG2JDFTbYkYRZAku</td>\n",
       "      <td>0.593</td>\n",
       "      <td>0.825</td>\n",
       "      <td>6</td>\n",
       "      <td>-6.401</td>\n",
       "      <td>0.68800</td>\n",
       "      <td>0.0988</td>\n",
       "      <td>0.000161</td>\n",
       "      <td>0.1700</td>\n",
       "      <td>0.540</td>\n",
       "      <td>98.078</td>\n",
       "      <td>209755</td>\n",
       "      <td>Alternative/Indie</td>\n",
       "    </tr>\n",
       "    <tr>\n",
       "      <th>2</th>\n",
       "      <td>Roddy Ricch</td>\n",
       "      <td>Please Excuse Me For Being Antisocial</td>\n",
       "      <td>The Box</td>\n",
       "      <td>0nbXyq5TXYPCO7pr3N8S4I</td>\n",
       "      <td>0.586</td>\n",
       "      <td>0.896</td>\n",
       "      <td>10</td>\n",
       "      <td>-6.687</td>\n",
       "      <td>0.10400</td>\n",
       "      <td>0.0559</td>\n",
       "      <td>0.000000</td>\n",
       "      <td>0.7900</td>\n",
       "      <td>0.642</td>\n",
       "      <td>116.971</td>\n",
       "      <td>196653</td>\n",
       "      <td>Hip-Hop/Rap</td>\n",
       "    </tr>\n",
       "    <tr>\n",
       "      <th>3</th>\n",
       "      <td>SAINt JHN</td>\n",
       "      <td>Roses (Imanbek Remix)</td>\n",
       "      <td>Roses - Imanbek Remix</td>\n",
       "      <td>2Wo6QQD1KMDWeFkkjLqwx5</td>\n",
       "      <td>0.721</td>\n",
       "      <td>0.785</td>\n",
       "      <td>8</td>\n",
       "      <td>-5.457</td>\n",
       "      <td>0.01490</td>\n",
       "      <td>0.0506</td>\n",
       "      <td>0.004320</td>\n",
       "      <td>0.2850</td>\n",
       "      <td>0.894</td>\n",
       "      <td>121.962</td>\n",
       "      <td>176219</td>\n",
       "      <td>Dance/Electronic</td>\n",
       "    </tr>\n",
       "    <tr>\n",
       "      <th>4</th>\n",
       "      <td>Dua Lipa</td>\n",
       "      <td>Future Nostalgia</td>\n",
       "      <td>Don't Start Now</td>\n",
       "      <td>3PfIrDoz19wz7qK7tYeu62</td>\n",
       "      <td>0.793</td>\n",
       "      <td>0.793</td>\n",
       "      <td>11</td>\n",
       "      <td>-4.521</td>\n",
       "      <td>0.01230</td>\n",
       "      <td>0.0830</td>\n",
       "      <td>0.000000</td>\n",
       "      <td>0.0951</td>\n",
       "      <td>0.679</td>\n",
       "      <td>123.950</td>\n",
       "      <td>183290</td>\n",
       "      <td>Nu-disco</td>\n",
       "    </tr>\n",
       "  </tbody>\n",
       "</table>\n",
       "</div>"
      ],
      "text/plain": [
       "        artist                                  album             track_name  \\\n",
       "0   The Weeknd                            After Hours        Blinding Lights   \n",
       "1  Tones And I                           Dance Monkey           Dance Monkey   \n",
       "2  Roddy Ricch  Please Excuse Me For Being Antisocial                The Box   \n",
       "3    SAINt JHN                  Roses (Imanbek Remix)  Roses - Imanbek Remix   \n",
       "4     Dua Lipa                       Future Nostalgia        Don't Start Now   \n",
       "\n",
       "                 track_id  energy  danceability  key  loudness  acousticness  \\\n",
       "0  0VjIjW4GlUZAMYd2vXMi3b   0.730         0.514    1    -5.934       0.00146   \n",
       "1  1rgnBhdG2JDFTbYkYRZAku   0.593         0.825    6    -6.401       0.68800   \n",
       "2  0nbXyq5TXYPCO7pr3N8S4I   0.586         0.896   10    -6.687       0.10400   \n",
       "3  2Wo6QQD1KMDWeFkkjLqwx5   0.721         0.785    8    -5.457       0.01490   \n",
       "4  3PfIrDoz19wz7qK7tYeu62   0.793         0.793   11    -4.521       0.01230   \n",
       "\n",
       "   speechiness  instrumentalness  liveness  valence    tempo  duration_ms  \\\n",
       "0       0.0598          0.000095    0.0897    0.334  171.005       200040   \n",
       "1       0.0988          0.000161    0.1700    0.540   98.078       209755   \n",
       "2       0.0559          0.000000    0.7900    0.642  116.971       196653   \n",
       "3       0.0506          0.004320    0.2850    0.894  121.962       176219   \n",
       "4       0.0830          0.000000    0.0951    0.679  123.950       183290   \n",
       "\n",
       "               genre  \n",
       "0           R&B/Soul  \n",
       "1  Alternative/Indie  \n",
       "2        Hip-Hop/Rap  \n",
       "3   Dance/Electronic  \n",
       "4           Nu-disco  "
      ]
     },
     "execution_count": 161,
     "metadata": {},
     "output_type": "execute_result"
    }
   ],
   "source": [
    "top_fifty.head()"
   ]
  },
  {
   "cell_type": "markdown",
   "id": "mineral-destiny",
   "metadata": {},
   "source": [
    "## Number of Rows or Records \n",
    "\n",
    "This dataset is made of 50 rows and 16 columns."
   ]
  },
  {
   "cell_type": "code",
   "execution_count": 162,
   "id": "understood-windows",
   "metadata": {},
   "outputs": [
    {
     "data": {
      "text/plain": [
       "(50, 16)"
      ]
     },
     "execution_count": 162,
     "metadata": {},
     "output_type": "execute_result"
    }
   ],
   "source": [
    "top_fifty.shape"
   ]
  },
  {
   "cell_type": "markdown",
   "id": "collect-google",
   "metadata": {},
   "source": [
    "## Size of the Data Set\n",
    "\n",
    "This dataset has a total of 800 enteries."
   ]
  },
  {
   "cell_type": "code",
   "execution_count": 61,
   "id": "digital-spring",
   "metadata": {},
   "outputs": [
    {
     "data": {
      "text/plain": [
       "800"
      ]
     },
     "execution_count": 61,
     "metadata": {},
     "output_type": "execute_result"
    }
   ],
   "source": [
    "top_fifty.size"
   ]
  },
  {
   "cell_type": "markdown",
   "id": "painted-essay",
   "metadata": {},
   "source": [
    "## Data Types"
   ]
  },
  {
   "cell_type": "markdown",
   "id": "unsigned-batman",
   "metadata": {},
   "source": [
    "This dataset is made of three data types:\n",
    "\n",
    "- float64 (9)\n",
    "- objects(5) # Pointers to string values of different lengths. \n",
    "- int64 (2)"
   ]
  },
  {
   "cell_type": "code",
   "execution_count": 163,
   "id": "accessory-synthetic",
   "metadata": {},
   "outputs": [
    {
     "data": {
      "text/plain": [
       "float64    9\n",
       "object     5\n",
       "int64      2\n",
       "dtype: int64"
      ]
     },
     "execution_count": 163,
     "metadata": {},
     "output_type": "execute_result"
    }
   ],
   "source": [
    "top_fifty.dtypes.value_counts()"
   ]
  },
  {
   "cell_type": "markdown",
   "id": "juvenile-parallel",
   "metadata": {},
   "source": [
    "# Data Cleaning"
   ]
  },
  {
   "cell_type": "markdown",
   "id": "packed-premium",
   "metadata": {},
   "source": [
    "## NaN or Null Values\n",
    "\n",
    "This dataset contains no missing data."
   ]
  },
  {
   "cell_type": "code",
   "execution_count": 164,
   "id": "qualified-exhibit",
   "metadata": {
    "scrolled": true
   },
   "outputs": [
    {
     "data": {
      "text/plain": [
       "artist              0\n",
       "album               0\n",
       "track_name          0\n",
       "track_id            0\n",
       "energy              0\n",
       "danceability        0\n",
       "key                 0\n",
       "loudness            0\n",
       "acousticness        0\n",
       "speechiness         0\n",
       "instrumentalness    0\n",
       "liveness            0\n",
       "valence             0\n",
       "tempo               0\n",
       "duration_ms         0\n",
       "genre               0\n",
       "dtype: int64"
      ]
     },
     "execution_count": 164,
     "metadata": {},
     "output_type": "execute_result"
    }
   ],
   "source": [
    "top_fifty.isnull().sum()"
   ]
  },
  {
   "cell_type": "markdown",
   "id": "fabulous-indianapolis",
   "metadata": {},
   "source": [
    "## Duplicate Values \n",
    "\n",
    "This dataset contains no duplicate values."
   ]
  },
  {
   "cell_type": "code",
   "execution_count": 64,
   "id": "settled-passenger",
   "metadata": {
    "scrolled": true
   },
   "outputs": [
    {
     "data": {
      "text/plain": [
       "artist              0.0\n",
       "album               0.0\n",
       "track_name          0.0\n",
       "track_id            0.0\n",
       "energy              0.0\n",
       "danceability        0.0\n",
       "key                 0.0\n",
       "loudness            0.0\n",
       "acousticness        0.0\n",
       "speechiness         0.0\n",
       "instrumentalness    0.0\n",
       "liveness            0.0\n",
       "valence             0.0\n",
       "tempo               0.0\n",
       "duration_ms         0.0\n",
       "genre               0.0\n",
       "dtype: float64"
      ]
     },
     "execution_count": 64,
     "metadata": {},
     "output_type": "execute_result"
    }
   ],
   "source": [
    "top_fifty[top_fifty.duplicated(keep = False)].sum()"
   ]
  },
  {
   "cell_type": "markdown",
   "id": "anticipated-adolescent",
   "metadata": {},
   "source": [
    "## Deleting Unnecessary Columns\n",
    "\n",
    "The following features are track identifiers by Spodify and are unnecessary for the purposes of this project. They will be deleted from the dataset for the purposes of this project:\n",
    "\n",
    "1. track_id: The identification number of the track generated by Spodify.\n",
    "2. key: The primary identifier for the track, generated by Spotify"
   ]
  },
  {
   "cell_type": "code",
   "execution_count": 165,
   "id": "nearby-warehouse",
   "metadata": {},
   "outputs": [],
   "source": [
    "# Deletes track_id and key columns\n",
    "\n",
    "top_fifty = top_fifty.drop(['track_id', 'key'], axis=1)"
   ]
  },
  {
   "cell_type": "markdown",
   "id": "supposed-lewis",
   "metadata": {},
   "source": [
    "# Descriptive Statistics\n",
    "\n",
    "In this section, I provide basic statistical details on 10 features of this dataset:\n",
    "\n",
    "1.  **Energy:** The values of the Energy feature range from 0 to 1. Higher value means that the songs is more energetic.\n",
    "2.  **Danceability:** The values of the Danceability feature range from 0 to 1. Higher value means that it is easier to dance to the song.\n",
    "3.  **Loudness:** The values of the Loudness feature are floats that typically range from -60 to 0. This feature indicates the relative loudness of the track in decibel (dB). Higher value means that the song is louder.\n",
    "4.  **Accoustiness:** The values of the Accoustiness feature range from 0 to 1. This feature indicate the relative metric of the track being acoustic. Higher value means the song is more acoustic.\n",
    "5.  **Speechiness:** The values of the Speechiness feature range from 0 to 1. This feature indicates the relative amount of human voice in the song.\n",
    "6.  **Instrumentalness:** The values of the Instrumentalness feature range from 0 to 1. This feature describes the relative ratio of the track being instrumental. If the instrumentalness is closer to 1, the song is more likely to have no vocals.\n",
    "7.  **Liveness:** The values of the Liveness feature range from 0 to 1. This feature describes the likelihood that the song was recorded with a live audience.\n",
    "8.  **Valence:** The values of the Valence feature range from 0 to 1. This feature describes the positiveness of the track. Higher valence means that the song sounds more positive.\n",
    "9.  **Tempo:** The values of the Tempo feature range from 50 to 200. This feature describes the tempo of the track in Beats Per Minute (BPM).\n",
    "10. **Duration:** The values of the Duration feature describe the length of the track in milliseconds (ms). The range is from 140,256 to 312,820."
   ]
  },
  {
   "cell_type": "code",
   "execution_count": 66,
   "id": "verbal-sudan",
   "metadata": {},
   "outputs": [
    {
     "data": {
      "text/html": [
       "<div>\n",
       "<style scoped>\n",
       "    .dataframe tbody tr th:only-of-type {\n",
       "        vertical-align: middle;\n",
       "    }\n",
       "\n",
       "    .dataframe tbody tr th {\n",
       "        vertical-align: top;\n",
       "    }\n",
       "\n",
       "    .dataframe thead th {\n",
       "        text-align: right;\n",
       "    }\n",
       "</style>\n",
       "<table border=\"1\" class=\"dataframe\">\n",
       "  <thead>\n",
       "    <tr style=\"text-align: right;\">\n",
       "      <th></th>\n",
       "      <th>energy</th>\n",
       "      <th>danceability</th>\n",
       "      <th>loudness</th>\n",
       "      <th>acousticness</th>\n",
       "      <th>speechiness</th>\n",
       "      <th>instrumentalness</th>\n",
       "      <th>liveness</th>\n",
       "      <th>valence</th>\n",
       "      <th>tempo</th>\n",
       "      <th>duration_ms</th>\n",
       "    </tr>\n",
       "  </thead>\n",
       "  <tbody>\n",
       "    <tr>\n",
       "      <th>count</th>\n",
       "      <td>50.000000</td>\n",
       "      <td>50.000000</td>\n",
       "      <td>50.000000</td>\n",
       "      <td>50.000000</td>\n",
       "      <td>50.000000</td>\n",
       "      <td>50.000000</td>\n",
       "      <td>50.000000</td>\n",
       "      <td>50.000000</td>\n",
       "      <td>50.000000</td>\n",
       "      <td>50.000000</td>\n",
       "    </tr>\n",
       "    <tr>\n",
       "      <th>mean</th>\n",
       "      <td>0.609300</td>\n",
       "      <td>0.716720</td>\n",
       "      <td>-6.225900</td>\n",
       "      <td>0.256206</td>\n",
       "      <td>0.124158</td>\n",
       "      <td>0.015962</td>\n",
       "      <td>0.196552</td>\n",
       "      <td>0.555710</td>\n",
       "      <td>119.690460</td>\n",
       "      <td>199955.360000</td>\n",
       "    </tr>\n",
       "    <tr>\n",
       "      <th>std</th>\n",
       "      <td>0.154348</td>\n",
       "      <td>0.124975</td>\n",
       "      <td>2.349744</td>\n",
       "      <td>0.265250</td>\n",
       "      <td>0.116836</td>\n",
       "      <td>0.094312</td>\n",
       "      <td>0.176610</td>\n",
       "      <td>0.216386</td>\n",
       "      <td>25.414778</td>\n",
       "      <td>33996.122488</td>\n",
       "    </tr>\n",
       "    <tr>\n",
       "      <th>min</th>\n",
       "      <td>0.225000</td>\n",
       "      <td>0.351000</td>\n",
       "      <td>-14.454000</td>\n",
       "      <td>0.001460</td>\n",
       "      <td>0.029000</td>\n",
       "      <td>0.000000</td>\n",
       "      <td>0.057400</td>\n",
       "      <td>0.060500</td>\n",
       "      <td>75.801000</td>\n",
       "      <td>140526.000000</td>\n",
       "    </tr>\n",
       "    <tr>\n",
       "      <th>25%</th>\n",
       "      <td>0.494000</td>\n",
       "      <td>0.672500</td>\n",
       "      <td>-7.552500</td>\n",
       "      <td>0.052800</td>\n",
       "      <td>0.048325</td>\n",
       "      <td>0.000000</td>\n",
       "      <td>0.093950</td>\n",
       "      <td>0.434000</td>\n",
       "      <td>99.557250</td>\n",
       "      <td>175845.500000</td>\n",
       "    </tr>\n",
       "    <tr>\n",
       "      <th>50%</th>\n",
       "      <td>0.597000</td>\n",
       "      <td>0.746000</td>\n",
       "      <td>-5.991500</td>\n",
       "      <td>0.188500</td>\n",
       "      <td>0.070050</td>\n",
       "      <td>0.000000</td>\n",
       "      <td>0.111000</td>\n",
       "      <td>0.560000</td>\n",
       "      <td>116.969000</td>\n",
       "      <td>197853.500000</td>\n",
       "    </tr>\n",
       "    <tr>\n",
       "      <th>75%</th>\n",
       "      <td>0.729750</td>\n",
       "      <td>0.794500</td>\n",
       "      <td>-4.285500</td>\n",
       "      <td>0.298750</td>\n",
       "      <td>0.155500</td>\n",
       "      <td>0.000020</td>\n",
       "      <td>0.271250</td>\n",
       "      <td>0.726250</td>\n",
       "      <td>132.317000</td>\n",
       "      <td>215064.000000</td>\n",
       "    </tr>\n",
       "    <tr>\n",
       "      <th>max</th>\n",
       "      <td>0.855000</td>\n",
       "      <td>0.935000</td>\n",
       "      <td>-3.280000</td>\n",
       "      <td>0.934000</td>\n",
       "      <td>0.487000</td>\n",
       "      <td>0.657000</td>\n",
       "      <td>0.792000</td>\n",
       "      <td>0.925000</td>\n",
       "      <td>180.067000</td>\n",
       "      <td>312820.000000</td>\n",
       "    </tr>\n",
       "  </tbody>\n",
       "</table>\n",
       "</div>"
      ],
      "text/plain": [
       "          energy  danceability   loudness  acousticness  speechiness  \\\n",
       "count  50.000000     50.000000  50.000000     50.000000    50.000000   \n",
       "mean    0.609300      0.716720  -6.225900      0.256206     0.124158   \n",
       "std     0.154348      0.124975   2.349744      0.265250     0.116836   \n",
       "min     0.225000      0.351000 -14.454000      0.001460     0.029000   \n",
       "25%     0.494000      0.672500  -7.552500      0.052800     0.048325   \n",
       "50%     0.597000      0.746000  -5.991500      0.188500     0.070050   \n",
       "75%     0.729750      0.794500  -4.285500      0.298750     0.155500   \n",
       "max     0.855000      0.935000  -3.280000      0.934000     0.487000   \n",
       "\n",
       "       instrumentalness   liveness    valence       tempo    duration_ms  \n",
       "count         50.000000  50.000000  50.000000   50.000000      50.000000  \n",
       "mean           0.015962   0.196552   0.555710  119.690460  199955.360000  \n",
       "std            0.094312   0.176610   0.216386   25.414778   33996.122488  \n",
       "min            0.000000   0.057400   0.060500   75.801000  140526.000000  \n",
       "25%            0.000000   0.093950   0.434000   99.557250  175845.500000  \n",
       "50%            0.000000   0.111000   0.560000  116.969000  197853.500000  \n",
       "75%            0.000020   0.271250   0.726250  132.317000  215064.000000  \n",
       "max            0.657000   0.792000   0.925000  180.067000  312820.000000  "
      ]
     },
     "execution_count": 66,
     "metadata": {},
     "output_type": "execute_result"
    }
   ],
   "source": [
    "top_fifty.describe()"
   ]
  },
  {
   "cell_type": "markdown",
   "id": "southeast-bulletin",
   "metadata": {},
   "source": [
    "# Outliers\n",
    "\n",
    "An outlier is an observation that is unlike the other observations. There are basically three causes for outliers:\n",
    "\n",
    "1. Data entry and measurement errors\n",
    "2. Sampling problems\n",
    "3. Natural variations\n",
    "\n",
    "Outliers can capture valuable information and excluding them has to be done with caution. In my opinion, the outliers in this dataset fit the third cause, natural variations. Even though there are values that do not fit with the pattern of the rest of the data, in my opinion, the extreme values are legitimate, and I left them in the dataset. \n",
    "\n",
    "I used the Interquartile Range, or IQR method to identify outliers. The IQR is calculated as the difference between the 75th and the 25th percentiles of the data and defines the box in a box and whisker plot. On a box and whisker plot, Values that fall outside of these values are drawn as dots and are considred outliers.\n",
    "\n",
    "According to the statistical methodology that I used, there are outliers in the following features:\n",
    "\n",
    "1. Accousticness (7)\n",
    "2. Danceability (3)\n",
    "3. Duration (2)\n",
    "4. Instrumentalness (12)\n",
    "5. Liveness (3)\n",
    "6. Loudness (1)\n",
    "7. Speechiness (6)"
   ]
  },
  {
   "cell_type": "code",
   "execution_count": 166,
   "id": "amended-jewel",
   "metadata": {},
   "outputs": [],
   "source": [
    "# Ignores FutureWarning message that appears with the code below.\n",
    "\n",
    "warnings.simplefilter(action = \"ignore\", category = FutureWarning) "
   ]
  },
  {
   "cell_type": "code",
   "execution_count": 167,
   "id": "chicken-monroe",
   "metadata": {},
   "outputs": [
    {
     "data": {
      "text/plain": [
       "acousticness         7\n",
       "album                0\n",
       "artist               0\n",
       "danceability         3\n",
       "duration_ms          2\n",
       "energy               0\n",
       "genre                0\n",
       "instrumentalness    12\n",
       "liveness             3\n",
       "loudness             1\n",
       "speechiness          6\n",
       "tempo                0\n",
       "track_name           0\n",
       "valence              0\n",
       "dtype: int64"
      ]
     },
     "execution_count": 167,
     "metadata": {},
     "output_type": "execute_result"
    }
   ],
   "source": [
    "Q1 = top_fifty.quantile(0.25)\n",
    "Q3 = top_fifty.quantile(0.75)\n",
    "IQR = Q3 - Q1\n",
    "\n",
    "outliers_df = (top_fifty < (Q1 - 1.5 * IQR)) | (\n",
    "    top_fifty > (Q3 + 1.5 * IQR)\n",
    ")\n",
    "\n",
    "((top_fifty < (Q1 - 1.5 * IQR)) | (top_fifty > (Q3 + 1.5 * IQR))).sum()"
   ]
  },
  {
   "cell_type": "markdown",
   "id": "outside-canon",
   "metadata": {},
   "source": [
    "## Outliers: Acousticness \n",
    "\n",
    "Acousticness has 7 outliers."
   ]
  },
  {
   "cell_type": "code",
   "execution_count": 168,
   "id": "concrete-bargain",
   "metadata": {},
   "outputs": [
    {
     "data": {
      "image/png": "[encoded data removed]",
      "text/plain": [
       "<Figure size 1440x1440 with 7 Axes>"
      ]
     },
     "metadata": {
      "needs_background": "light"
     },
     "output_type": "display_data"
    }
   ],
   "source": [
    "fig, axes = plt.subplots(3, 3, figsize=(20, 20))\n",
    "\n",
    "sns.boxplot(ax=axes[0, 0], data = top_fifty, x = top_fifty ['acousticness'])\n",
    "sns.boxplot(ax=axes[0, 1], data = top_fifty, x = top_fifty ['danceability'])\n",
    "sns.boxplot(ax=axes[0, 2], data = top_fifty, x = top_fifty ['duration_ms'])\n",
    "sns.boxplot(ax=axes[1, 0], data = top_fifty, x = top_fifty ['instrumentalness'])\n",
    "sns.boxplot(ax=axes[1, 1], data = top_fifty, x = top_fifty ['liveness'])\n",
    "sns.boxplot(ax=axes[1, 2], data = top_fifty, x = top_fifty ['loudness'])\n",
    "sns.boxplot(ax=axes[2, 0], data = top_fifty, x = top_fifty ['speechiness'])\n",
    "\n",
    "fig.delaxes(ax = axes[2,1]) \n",
    "fig.delaxes(ax = axes[2,2]) "
   ]
  },
  {
   "cell_type": "markdown",
   "id": "resistant-estimate",
   "metadata": {},
   "source": [
    "# Exploratory Data Analysis (EDA)"
   ]
  },
  {
   "cell_type": "markdown",
   "id": "catholic-logistics",
   "metadata": {},
   "source": [
    "## Artists\n",
    "\n",
    "In this section, I will answer the following questions:\n",
    "\n",
    "1. How many artists in total have their songs in the top 50?\n",
    "2. Who was the most popular artist?\n",
    "3. Are there any artists that have more than 1 popular track? If yes, which and how many?"
   ]
  },
  {
   "cell_type": "markdown",
   "id": "false-chuck",
   "metadata": {},
   "source": [
    "### How many artists in total have their songs in the top 50?"
   ]
  },
  {
   "cell_type": "markdown",
   "id": "verbal-geometry",
   "metadata": {},
   "source": [
    "Forty (40)"
   ]
  },
  {
   "cell_type": "code",
   "execution_count": 169,
   "id": "referenced-joseph",
   "metadata": {},
   "outputs": [
    {
     "data": {
      "text/plain": [
       "40"
      ]
     },
     "execution_count": 169,
     "metadata": {},
     "output_type": "execute_result"
    }
   ],
   "source": [
    "artists = top_fifty['artist']\n",
    "unique_artists = artists.drop_duplicates(keep = 'first')\n",
    "unique_artists.count()"
   ]
  },
  {
   "cell_type": "markdown",
   "id": "unsigned-radio",
   "metadata": {},
   "source": [
    "### Who were the most popular artists?"
   ]
  },
  {
   "cell_type": "markdown",
   "id": "respective-bryan",
   "metadata": {},
   "source": [
    "I determined the most popular artists by the number of tracks an artist has in the Spodify Top 50. The most popular artists are:\n",
    "- Travis Scott (3 tracks)\n",
    "- Billie Eilish (3 tracks)\n",
    "- Dua Lipa (3 tracks)"
   ]
  },
  {
   "cell_type": "code",
   "execution_count": 170,
   "id": "creative-substance",
   "metadata": {},
   "outputs": [
    {
     "data": {
      "text/plain": [
       "artist\n",
       "Travis Scott     3\n",
       "Billie Eilish    3\n",
       "Dua Lipa         3\n",
       "dtype: int64"
      ]
     },
     "execution_count": 170,
     "metadata": {},
     "output_type": "execute_result"
    }
   ],
   "source": [
    "dups_artist = top_fifty.pivot_table(index = ['artist'], aggfunc ='size')\n",
    "dups_artist.sort_values(ascending = False).head(3)"
   ]
  },
  {
   "cell_type": "markdown",
   "id": "egyptian-gibraltar",
   "metadata": {},
   "source": [
    "### Are there any artists that have more than 1 popular track? If yes, which and how many?"
   ]
  },
  {
   "cell_type": "markdown",
   "id": "acceptable-neutral",
   "metadata": {},
   "source": [
    "The following artists have more than one popular track:"
   ]
  },
  {
   "cell_type": "code",
   "execution_count": 80,
   "id": "following-lotus",
   "metadata": {},
   "outputs": [
    {
     "data": {
      "text/plain": [
       "artist\n",
       "Travis Scott     3\n",
       "Billie Eilish    3\n",
       "Dua Lipa         3\n",
       "Justin Bieber    2\n",
       "Post Malone      2\n",
       "Harry Styles     2\n",
       "Lewis Capaldi    2\n",
       "dtype: int64"
      ]
     },
     "execution_count": 80,
     "metadata": {},
     "output_type": "execute_result"
    }
   ],
   "source": [
    "dups_artist = top_fifty.pivot_table(index = ['artist'], aggfunc ='size')\n",
    "dups_artist.sort_values(ascending = False).iloc[0:7]"
   ]
  },
  {
   "cell_type": "markdown",
   "id": "married-columbia",
   "metadata": {},
   "source": [
    "## Albums\n",
    "\n",
    "In this section, I will answer the following questions:\n",
    "\n",
    "1. How many albums in total have their songs in the top 50?\n",
    "2. Are there any albums that have more than 1 popular track? If yes, which and how many? "
   ]
  },
  {
   "cell_type": "markdown",
   "id": "gorgeous-church",
   "metadata": {},
   "source": [
    "### How many albums in total have their songs in the top 50?"
   ]
  },
  {
   "cell_type": "markdown",
   "id": "continuing-ecology",
   "metadata": {},
   "source": [
    "Forty-Five (45)"
   ]
  },
  {
   "cell_type": "code",
   "execution_count": 171,
   "id": "operating-lodging",
   "metadata": {},
   "outputs": [],
   "source": [
    "dups_albums = top_fifty.pivot_table(index = ['album'], aggfunc ='size')"
   ]
  },
  {
   "cell_type": "code",
   "execution_count": 172,
   "id": "proof-adaptation",
   "metadata": {},
   "outputs": [
    {
     "data": {
      "text/plain": [
       "45"
      ]
     },
     "execution_count": 172,
     "metadata": {},
     "output_type": "execute_result"
    }
   ],
   "source": [
    "dups_albums.sort_values(ascending = False)\n",
    "dups_albums.sort_values(ascending = False).count()"
   ]
  },
  {
   "cell_type": "markdown",
   "id": "everyday-potter",
   "metadata": {},
   "source": [
    "### Are there any albums that have more than 1 popular track? If yes, which and how many? "
   ]
  },
  {
   "cell_type": "markdown",
   "id": "peaceful-fleet",
   "metadata": {},
   "source": [
    "The following albums have more than one popular songs:\n",
    "- Future Nostalgia(3)\n",
    "- Fine Line(2)\n",
    "- Hollywood's Bleeding(2)\n",
    "- Changes(2)"
   ]
  },
  {
   "cell_type": "code",
   "execution_count": 173,
   "id": "collected-bookmark",
   "metadata": {},
   "outputs": [
    {
     "data": {
      "text/plain": [
       "album\n",
       "Future Nostalgia        3\n",
       "Fine Line               2\n",
       "Hollywood's Bleeding    2\n",
       "Changes                 2\n",
       "dtype: int64"
      ]
     },
     "execution_count": 173,
     "metadata": {},
     "output_type": "execute_result"
    }
   ],
   "source": [
    "dups_albums.sort_values(ascending = False).iloc[0:4]"
   ]
  },
  {
   "cell_type": "markdown",
   "id": "challenging-communication",
   "metadata": {},
   "source": [
    "## Duration\n",
    "\n",
    "In this section, I will answer the following questions:\n",
    "\n",
    "1. Which track is the longest?\n",
    "2. Which track is the shortest?"
   ]
  },
  {
   "cell_type": "code",
   "execution_count": 174,
   "id": "altered-chapel",
   "metadata": {},
   "outputs": [],
   "source": [
    "duration = top_fifty[['track_name','album','duration_ms']] # Creates a new data frame from the original.\n",
    "duration.set_index('track_name', inplace = True) # Sets the track_name as the index."
   ]
  },
  {
   "cell_type": "markdown",
   "id": "irish-animal",
   "metadata": {},
   "source": [
    "### Which track is the longest?\n",
    "\n",
    "The track with the longest duration:\n",
    "- SICKO MODE from the ablum, ASTROWORLD with 312820 ms."
   ]
  },
  {
   "cell_type": "code",
   "execution_count": 175,
   "id": "structured-median",
   "metadata": {
    "scrolled": true
   },
   "outputs": [
    {
     "data": {
      "text/html": [
       "<div>\n",
       "<style scoped>\n",
       "    .dataframe tbody tr th:only-of-type {\n",
       "        vertical-align: middle;\n",
       "    }\n",
       "\n",
       "    .dataframe tbody tr th {\n",
       "        vertical-align: top;\n",
       "    }\n",
       "\n",
       "    .dataframe thead th {\n",
       "        text-align: right;\n",
       "    }\n",
       "</style>\n",
       "<table border=\"1\" class=\"dataframe\">\n",
       "  <thead>\n",
       "    <tr style=\"text-align: right;\">\n",
       "      <th></th>\n",
       "      <th>album</th>\n",
       "      <th>duration_ms</th>\n",
       "    </tr>\n",
       "    <tr>\n",
       "      <th>track_name</th>\n",
       "      <th></th>\n",
       "      <th></th>\n",
       "    </tr>\n",
       "  </thead>\n",
       "  <tbody>\n",
       "    <tr>\n",
       "      <th>SICKO MODE</th>\n",
       "      <td>ASTROWORLD</td>\n",
       "      <td>312820</td>\n",
       "    </tr>\n",
       "  </tbody>\n",
       "</table>\n",
       "</div>"
      ],
      "text/plain": [
       "                 album  duration_ms\n",
       "track_name                         \n",
       "SICKO MODE  ASTROWORLD       312820"
      ]
     },
     "execution_count": 175,
     "metadata": {},
     "output_type": "execute_result"
    }
   ],
   "source": [
    "duration_ascending = duration.sort_values(by='duration_ms', ascending = False) # Sorts the data frame based on duration_ms column\n",
    "\n",
    "duration_ascending.iloc[[0]]"
   ]
  },
  {
   "cell_type": "markdown",
   "id": "expanded-delay",
   "metadata": {},
   "source": [
    "### Which track is the shortest?\n",
    "\n",
    "Track with the shortest duration:\n",
    "- Mood (feat. iann dior) from album, Mood (feat. iann dior) with 140526 ms"
   ]
  },
  {
   "cell_type": "code",
   "execution_count": 176,
   "id": "personal-tracker",
   "metadata": {},
   "outputs": [
    {
     "data": {
      "text/html": [
       "<div>\n",
       "<style scoped>\n",
       "    .dataframe tbody tr th:only-of-type {\n",
       "        vertical-align: middle;\n",
       "    }\n",
       "\n",
       "    .dataframe tbody tr th {\n",
       "        vertical-align: top;\n",
       "    }\n",
       "\n",
       "    .dataframe thead th {\n",
       "        text-align: right;\n",
       "    }\n",
       "</style>\n",
       "<table border=\"1\" class=\"dataframe\">\n",
       "  <thead>\n",
       "    <tr style=\"text-align: right;\">\n",
       "      <th></th>\n",
       "      <th>album</th>\n",
       "      <th>duration_ms</th>\n",
       "    </tr>\n",
       "    <tr>\n",
       "      <th>track_name</th>\n",
       "      <th></th>\n",
       "      <th></th>\n",
       "    </tr>\n",
       "  </thead>\n",
       "  <tbody>\n",
       "    <tr>\n",
       "      <th>Mood (feat. iann dior)</th>\n",
       "      <td>Mood (feat. iann dior)</td>\n",
       "      <td>140526</td>\n",
       "    </tr>\n",
       "  </tbody>\n",
       "</table>\n",
       "</div>"
      ],
      "text/plain": [
       "                                         album  duration_ms\n",
       "track_name                                                 \n",
       "Mood (feat. iann dior)  Mood (feat. iann dior)       140526"
      ]
     },
     "execution_count": 176,
     "metadata": {},
     "output_type": "execute_result"
    }
   ],
   "source": [
    "duration_descending = duration.sort_values(by = 'duration_ms', ascending = True) # Sorts the data frame based on duration_ms column\n",
    "\n",
    "duration_descending.iloc[[0]]"
   ]
  },
  {
   "cell_type": "markdown",
   "id": "regulation-factor",
   "metadata": {},
   "source": [
    "## Genres\n",
    "\n",
    "In this section, I will answer the following questions:\n",
    "\n",
    "1. How many genres in total are represented in the top 50?\n",
    "2. Which genre is the most popular?\n",
    "3. Which genres have just one song on the top 50?"
   ]
  },
  {
   "cell_type": "code",
   "execution_count": 177,
   "id": "sunrise-pantyhose",
   "metadata": {},
   "outputs": [],
   "source": [
    "# Creates a new data frame from the original.\n",
    "# genre.set_index('genre', inplace = True) # Sets the track_name as the index.\n",
    "# genre_ascending = genre.sort_values(by = 'genre') # Sorts the data frame by genre.\n",
    "\n",
    "genre = top_fifty[['genre']] "
   ]
  },
  {
   "cell_type": "markdown",
   "id": "fourth-skiing",
   "metadata": {},
   "source": [
    "### How many genres in total are represented in the top 50?\n",
    "\n",
    "There are 16 unique genres in the Top 50."
   ]
  },
  {
   "cell_type": "code",
   "execution_count": 178,
   "id": "several-injection",
   "metadata": {},
   "outputs": [
    {
     "data": {
      "text/plain": [
       "genre    16\n",
       "dtype: int64"
      ]
     },
     "execution_count": 178,
     "metadata": {},
     "output_type": "execute_result"
    }
   ],
   "source": [
    "genre.nunique()"
   ]
  },
  {
   "cell_type": "markdown",
   "id": "published-obligation",
   "metadata": {},
   "source": [
    "### Which genre is the most popular?"
   ]
  },
  {
   "cell_type": "markdown",
   "id": "human-premises",
   "metadata": {},
   "source": [
    "Pop is the most popular genre in the Top 50."
   ]
  },
  {
   "cell_type": "code",
   "execution_count": 90,
   "id": "colonial-faith",
   "metadata": {},
   "outputs": [
    {
     "data": {
      "text/plain": [
       "genre                             \n",
       "Pop                                   14\n",
       "Hip-Hop/Rap                           13\n",
       "Dance/Electronic                       5\n",
       "Alternative/Indie                      4\n",
       " Electro-pop                           2\n",
       "R&B/Soul                               2\n",
       "Alternative/reggaeton/experimental     1\n",
       "Chamber pop                            1\n",
       "Dance-pop/Disco                        1\n",
       "Disco-pop                              1\n",
       "Dreampop/Hip-Hop/R&B                   1\n",
       "Hip-Hop/Trap                           1\n",
       "Nu-disco                               1\n",
       "Pop rap                                1\n",
       "Pop/Soft Rock                          1\n",
       "R&B/Hip-Hop alternative                1\n",
       "dtype: int64"
      ]
     },
     "execution_count": 90,
     "metadata": {},
     "output_type": "execute_result"
    }
   ],
   "source": [
    "genre.value_counts()"
   ]
  },
  {
   "cell_type": "markdown",
   "id": "level-circulation",
   "metadata": {},
   "source": [
    "### Which genres have just one song on the top 50?\n",
    "\n",
    "The following 10 genres have just one track in the Top 50."
   ]
  },
  {
   "cell_type": "code",
   "execution_count": 179,
   "id": "copyrighted-disposal",
   "metadata": {},
   "outputs": [
    {
     "data": {
      "text/plain": [
       "genre                             \n",
       "Alternative/reggaeton/experimental    True\n",
       "Chamber pop                           True\n",
       "Dance-pop/Disco                       True\n",
       "Disco-pop                             True\n",
       "Dreampop/Hip-Hop/R&B                  True\n",
       "Hip-Hop/Trap                          True\n",
       "Nu-disco                              True\n",
       "Pop rap                               True\n",
       "Pop/Soft Rock                         True\n",
       "R&B/Hip-Hop alternative               True\n",
       "dtype: bool"
      ]
     },
     "execution_count": 179,
     "metadata": {},
     "output_type": "execute_result"
    }
   ],
   "source": [
    "num_tracks = genre.value_counts() == 1\n",
    "one_song = num_tracks [num_tracks == True]  # Shows only rows with True values.\n",
    "\n",
    "one_song"
   ]
  },
  {
   "cell_type": "markdown",
   "id": "cellular-salem",
   "metadata": {},
   "source": [
    "## Danceability\n",
    "\n",
    "In this section, I will answer the following questions:\n",
    "\n",
    "1. Which tracks have a danceability score above 0.7?\n",
    "2. Which tracks have a danceability score below 0.4?"
   ]
  },
  {
   "cell_type": "code",
   "execution_count": 180,
   "id": "viral-america",
   "metadata": {},
   "outputs": [],
   "source": [
    "danceability = top_fifty[['track_name','album','danceability']] # Creates a new data frame from the original.\n",
    "danceability.set_index('track_name', inplace = True) # Sets the track_name as the index."
   ]
  },
  {
   "cell_type": "markdown",
   "id": "classified-humanity",
   "metadata": {},
   "source": [
    "### Which tracks have a danceability score above 0.7?\n",
    "\n",
    "The following 32 tracks have danceability scores above 0.7."
   ]
  },
  {
   "cell_type": "code",
   "execution_count": 181,
   "id": "average-tsunami",
   "metadata": {},
   "outputs": [
    {
     "data": {
      "text/plain": [
       "track_name\n",
       "Dance Monkey                                     True\n",
       "The Box                                          True\n",
       "Roses - Imanbek Remix                            True\n",
       "Don't Start Now                                  True\n",
       "ROCKSTAR (feat. Roddy Ricch)                     True\n",
       "death bed (coffee for your head)                 True\n",
       "Falling                                          True\n",
       "Tusa                                             True\n",
       "Blueberry Faygo                                  True\n",
       "Intentions (feat. Quavo)                         True\n",
       "Toosie Slide                                     True\n",
       "Say So                                           True\n",
       "Memories                                         True\n",
       "Life Is Good (feat. Drake)                       True\n",
       "Savage Love (Laxed - Siren Beat)                 True\n",
       "Breaking Me                                      True\n",
       "everything i wanted                              True\n",
       "Señorita                                         True\n",
       "bad guy                                          True\n",
       "WAP (feat. Megan Thee Stallion)                  True\n",
       "Sunday Best                                      True\n",
       "Godzilla (feat. Juice WRLD)                      True\n",
       "Break My Heart                                   True\n",
       "Dynamite                                         True\n",
       "Supalonely (feat. Gus Dapperton)                 True\n",
       "Sunflower - Spider-Man: Into the Spider-Verse    True\n",
       "Hawái                                            True\n",
       "Ride It                                          True\n",
       "goosebumps                                       True\n",
       "RITMO (Bad Boys For Life)                        True\n",
       "THE SCOTTS                                       True\n",
       "SICKO MODE                                       True\n",
       "Name: danceability, dtype: bool"
      ]
     },
     "execution_count": 181,
     "metadata": {},
     "output_type": "execute_result"
    }
   ],
   "source": [
    "danceability_bool = danceability['danceability'] > 0.7\n",
    "danceability_high = danceability_bool [danceability_bool == True]  # Shows only rows with True values.\n",
    "\n",
    "danceability_high"
   ]
  },
  {
   "cell_type": "markdown",
   "id": "geological-wales",
   "metadata": {},
   "source": [
    "### Which tracks have a danceability score below 0.4?\n",
    "\n",
    "There is 1 track with danceability score below 0.4: lovely (with Khalid) "
   ]
  },
  {
   "cell_type": "code",
   "execution_count": 182,
   "id": "seven-accused",
   "metadata": {},
   "outputs": [
    {
     "data": {
      "text/plain": [
       "track_name\n",
       "lovely (with Khalid)    True\n",
       "Name: danceability, dtype: bool"
      ]
     },
     "execution_count": 182,
     "metadata": {},
     "output_type": "execute_result"
    }
   ],
   "source": [
    "danceability_bool_low = danceability['danceability'] < 0.4\n",
    "danceability_low = danceability_bool_low[danceability_bool_low == True]\n",
    "\n",
    "danceability_low"
   ]
  },
  {
   "cell_type": "markdown",
   "id": "representative-diana",
   "metadata": {},
   "source": [
    "## Loudness\n",
    "\n",
    "In this section, I will answer the following questions:\n",
    "\n",
    "1. Which tracks have their loudness above -5?\n",
    "2. Which tracks have their loudness below -8?"
   ]
  },
  {
   "cell_type": "code",
   "execution_count": 183,
   "id": "pacific-belfast",
   "metadata": {},
   "outputs": [],
   "source": [
    "loudness = top_fifty[['track_name','album','loudness']] # Creates a new data frame from the original.\n",
    "loudness.set_index('track_name', inplace = True) # Sets the track_name as the index."
   ]
  },
  {
   "cell_type": "markdown",
   "id": "reverse-abortion",
   "metadata": {},
   "source": [
    "### Which tracks have their loudness above -5?\n",
    "\n",
    "There are 19 tracks with loudness scores above -5. They are listed below."
   ]
  },
  {
   "cell_type": "code",
   "execution_count": 184,
   "id": "entitled-village",
   "metadata": {},
   "outputs": [
    {
     "data": {
      "text/plain": [
       "track_name\n",
       "Don't Start Now                                  True\n",
       "Watermelon Sugar                                 True\n",
       "Tusa                                             True\n",
       "Circles                                          True\n",
       "Before You Go                                    True\n",
       "Say So                                           True\n",
       "Adore You                                        True\n",
       "Mood (feat. iann dior)                           True\n",
       "Break My Heart                                   True\n",
       "Dynamite                                         True\n",
       "Supalonely (feat. Gus Dapperton)                 True\n",
       "Rain On Me (with Ariana Grande)                  True\n",
       "Sunflower - Spider-Man: Into the Spider-Verse    True\n",
       "Hawái                                            True\n",
       "Ride It                                          True\n",
       "goosebumps                                       True\n",
       "Safaera                                          True\n",
       "Physical                                         True\n",
       "SICKO MODE                                       True\n",
       "Name: loudness, dtype: bool"
      ]
     },
     "execution_count": 184,
     "metadata": {},
     "output_type": "execute_result"
    }
   ],
   "source": [
    "loudness_bool_high = loudness['loudness'] > -5\n",
    "loudness_high = loudness_bool_high[loudness_bool_high == True]\n",
    "\n",
    "loudness_high"
   ]
  },
  {
   "cell_type": "code",
   "execution_count": 185,
   "id": "union-sitting",
   "metadata": {},
   "outputs": [
    {
     "data": {
      "text/plain": [
       "19"
      ]
     },
     "execution_count": 185,
     "metadata": {},
     "output_type": "execute_result"
    }
   ],
   "source": [
    "loudness_high.shape[0]"
   ]
  },
  {
   "cell_type": "markdown",
   "id": "individual-ticket",
   "metadata": {},
   "source": [
    "### Which tracks have their loudness below -8?\n",
    "\n",
    "There are 9 tracks with loudness scores below -8. They are listed below."
   ]
  },
  {
   "cell_type": "code",
   "execution_count": 186,
   "id": "brave-leone",
   "metadata": {},
   "outputs": [
    {
     "data": {
      "text/plain": [
       "track_name\n",
       "death bed (coffee for your head)                  True\n",
       "Falling                                           True\n",
       "Toosie Slide                                      True\n",
       "Savage Love (Laxed - Siren Beat)                  True\n",
       "everything i wanted                               True\n",
       "bad guy                                           True\n",
       "HIGHEST IN THE ROOM                               True\n",
       "lovely (with Khalid)                              True\n",
       "If the World Was Ending - feat. Julia Michaels    True\n",
       "Name: loudness, dtype: bool"
      ]
     },
     "execution_count": 186,
     "metadata": {},
     "output_type": "execute_result"
    }
   ],
   "source": [
    "loudness_bool_low = loudness['loudness'] < -8\n",
    "loudness_low = loudness_bool_low[loudness_bool_low == True]\n",
    "\n",
    "loudness_low"
   ]
  },
  {
   "cell_type": "code",
   "execution_count": 187,
   "id": "norman-omaha",
   "metadata": {},
   "outputs": [
    {
     "data": {
      "text/plain": [
       "9"
      ]
     },
     "execution_count": 187,
     "metadata": {},
     "output_type": "execute_result"
    }
   ],
   "source": [
    "loudness_low.shape[0]"
   ]
  },
  {
   "cell_type": "markdown",
   "id": "acceptable-cooling",
   "metadata": {},
   "source": [
    "## Correlations\n",
    "\n",
    "In this section, I will answer the following questions:\n",
    "\n",
    "1. Which features are strongly positively correlated?\n",
    "2. Which features are strongly negatively correlated?\n",
    "3. Which features are not correlated?\n",
    "4. How does the danceability score compare between Pop, Hip-Hop/Rap, Dance/Electronic, and Alternative/Indie genres?\n",
    "5. How does the loudness score compare between Pop, Hip-Hop/Rap, Dance/Electronic, and Alternative/Indie genres?\n",
    "6. How does the acousticness score compare between Pop, Hip-Hop/Rap, Dance/Electronic, and Alternative/Indie genres?\n",
    "\n",
    "The Result of the corr() method is a table with numbers that represents how well the relationship is between two columns. The numbers variy from -1 to 1. 1 means that there is a 1 to 1 relationship (a perfect correlation), and for this data set, each time a value went up in the first column, the other one went up as well.\n",
    "\n",
    "For the purposes of this analysis, I chose the following thresholds:\n",
    "\n",
    "- Negative 0.7 to Positive 1: Positive correlation.\n",
    "\n",
    "- Negative 0.6 to Positive + 0.2: Negative correlation.\n",
    "\n",
    "-  0.0 to Positive 0.2: No correlation."
   ]
  },
  {
   "cell_type": "code",
   "execution_count": 102,
   "id": "approximate-puzzle",
   "metadata": {},
   "outputs": [
    {
     "data": {
      "text/html": [
       "<div>\n",
       "<style scoped>\n",
       "    .dataframe tbody tr th:only-of-type {\n",
       "        vertical-align: middle;\n",
       "    }\n",
       "\n",
       "    .dataframe tbody tr th {\n",
       "        vertical-align: top;\n",
       "    }\n",
       "\n",
       "    .dataframe thead th {\n",
       "        text-align: right;\n",
       "    }\n",
       "</style>\n",
       "<table border=\"1\" class=\"dataframe\">\n",
       "  <thead>\n",
       "    <tr style=\"text-align: right;\">\n",
       "      <th></th>\n",
       "      <th>artist</th>\n",
       "      <th>album</th>\n",
       "      <th>track_name</th>\n",
       "      <th>energy</th>\n",
       "      <th>danceability</th>\n",
       "      <th>loudness</th>\n",
       "      <th>acousticness</th>\n",
       "      <th>speechiness</th>\n",
       "      <th>instrumentalness</th>\n",
       "      <th>liveness</th>\n",
       "      <th>valence</th>\n",
       "      <th>tempo</th>\n",
       "      <th>duration_ms</th>\n",
       "      <th>genre</th>\n",
       "    </tr>\n",
       "  </thead>\n",
       "  <tbody>\n",
       "    <tr>\n",
       "      <th>0</th>\n",
       "      <td>The Weeknd</td>\n",
       "      <td>After Hours</td>\n",
       "      <td>Blinding Lights</td>\n",
       "      <td>0.730</td>\n",
       "      <td>0.514</td>\n",
       "      <td>-5.934</td>\n",
       "      <td>0.00146</td>\n",
       "      <td>0.0598</td>\n",
       "      <td>0.000095</td>\n",
       "      <td>0.0897</td>\n",
       "      <td>0.334</td>\n",
       "      <td>171.005</td>\n",
       "      <td>200040</td>\n",
       "      <td>15</td>\n",
       "    </tr>\n",
       "    <tr>\n",
       "      <th>1</th>\n",
       "      <td>Tones And I</td>\n",
       "      <td>Dance Monkey</td>\n",
       "      <td>Dance Monkey</td>\n",
       "      <td>0.593</td>\n",
       "      <td>0.825</td>\n",
       "      <td>-6.401</td>\n",
       "      <td>0.68800</td>\n",
       "      <td>0.0988</td>\n",
       "      <td>0.000161</td>\n",
       "      <td>0.1700</td>\n",
       "      <td>0.540</td>\n",
       "      <td>98.078</td>\n",
       "      <td>209755</td>\n",
       "      <td>1</td>\n",
       "    </tr>\n",
       "    <tr>\n",
       "      <th>2</th>\n",
       "      <td>Roddy Ricch</td>\n",
       "      <td>Please Excuse Me For Being Antisocial</td>\n",
       "      <td>The Box</td>\n",
       "      <td>0.586</td>\n",
       "      <td>0.896</td>\n",
       "      <td>-6.687</td>\n",
       "      <td>0.10400</td>\n",
       "      <td>0.0559</td>\n",
       "      <td>0.000000</td>\n",
       "      <td>0.7900</td>\n",
       "      <td>0.642</td>\n",
       "      <td>116.971</td>\n",
       "      <td>196653</td>\n",
       "      <td>8</td>\n",
       "    </tr>\n",
       "    <tr>\n",
       "      <th>3</th>\n",
       "      <td>SAINt JHN</td>\n",
       "      <td>Roses (Imanbek Remix)</td>\n",
       "      <td>Roses - Imanbek Remix</td>\n",
       "      <td>0.721</td>\n",
       "      <td>0.785</td>\n",
       "      <td>-5.457</td>\n",
       "      <td>0.01490</td>\n",
       "      <td>0.0506</td>\n",
       "      <td>0.004320</td>\n",
       "      <td>0.2850</td>\n",
       "      <td>0.894</td>\n",
       "      <td>121.962</td>\n",
       "      <td>176219</td>\n",
       "      <td>5</td>\n",
       "    </tr>\n",
       "    <tr>\n",
       "      <th>4</th>\n",
       "      <td>Dua Lipa</td>\n",
       "      <td>Future Nostalgia</td>\n",
       "      <td>Don't Start Now</td>\n",
       "      <td>0.793</td>\n",
       "      <td>0.793</td>\n",
       "      <td>-4.521</td>\n",
       "      <td>0.01230</td>\n",
       "      <td>0.0830</td>\n",
       "      <td>0.000000</td>\n",
       "      <td>0.0951</td>\n",
       "      <td>0.679</td>\n",
       "      <td>123.950</td>\n",
       "      <td>183290</td>\n",
       "      <td>10</td>\n",
       "    </tr>\n",
       "  </tbody>\n",
       "</table>\n",
       "</div>"
      ],
      "text/plain": [
       "        artist                                  album             track_name  \\\n",
       "0   The Weeknd                            After Hours        Blinding Lights   \n",
       "1  Tones And I                           Dance Monkey           Dance Monkey   \n",
       "2  Roddy Ricch  Please Excuse Me For Being Antisocial                The Box   \n",
       "3    SAINt JHN                  Roses (Imanbek Remix)  Roses - Imanbek Remix   \n",
       "4     Dua Lipa                       Future Nostalgia        Don't Start Now   \n",
       "\n",
       "   energy  danceability  loudness  acousticness  speechiness  \\\n",
       "0   0.730         0.514    -5.934       0.00146       0.0598   \n",
       "1   0.593         0.825    -6.401       0.68800       0.0988   \n",
       "2   0.586         0.896    -6.687       0.10400       0.0559   \n",
       "3   0.721         0.785    -5.457       0.01490       0.0506   \n",
       "4   0.793         0.793    -4.521       0.01230       0.0830   \n",
       "\n",
       "   instrumentalness  liveness  valence    tempo  duration_ms  genre  \n",
       "0          0.000095    0.0897    0.334  171.005       200040     15  \n",
       "1          0.000161    0.1700    0.540   98.078       209755      1  \n",
       "2          0.000000    0.7900    0.642  116.971       196653      8  \n",
       "3          0.004320    0.2850    0.894  121.962       176219      5  \n",
       "4          0.000000    0.0951    0.679  123.950       183290     10  "
      ]
     },
     "execution_count": 102,
     "metadata": {},
     "output_type": "execute_result"
    }
   ],
   "source": [
    "# Converts genre labels to numberical \n",
    "\n",
    "top_fifty['genre'] = top_fifty['genre'].astype('category').cat.codes\n",
    "\n",
    "top_fifty.head()"
   ]
  },
  {
   "cell_type": "code",
   "execution_count": 106,
   "id": "eastern-fashion",
   "metadata": {},
   "outputs": [
    {
     "data": {
      "image/png": "[encoded data removed]",
      "text/plain": [
       "<Figure size 1152x1152 with 2 Axes>"
      ]
     },
     "metadata": {
      "needs_background": "light"
     },
     "output_type": "display_data"
    }
   ],
   "source": [
    "corr = top_fifty.corr()\n",
    "\n",
    "mask = np.triu(np.ones_like(corr, dtype = bool))\n",
    "\n",
    "f, ax = plt.subplots(figsize = (16, 16))\n",
    "\n",
    "cmap = sns.diverging_palette(230, 20, as_cmap = True)\n",
    "heatmap = sns.heatmap(\n",
    "    corr,\n",
    "    mask=mask,\n",
    "    cmap=cmap,\n",
    "    vmax=1,\n",
    "    vmin=-1,\n",
    "    center=0,\n",
    "    square=True,\n",
    "    linewidths=0.5,\n",
    "    cbar_kws={\"shrink\": 0.5},\n",
    "    annot=True,\n",
    ")\n",
    "\n",
    "heatmap.set_title(\n",
    "    \"Correlation Heatmap of Spodify Tracks 2020\",\n",
    "    fontdict={\"fontsize\": 16},\n",
    "    pad=12,\n",
    ")\n",
    "plt.xlabel(\"\")\n",
    "plt.ylabel(\"\");"
   ]
  },
  {
   "cell_type": "markdown",
   "id": "italic-courage",
   "metadata": {},
   "source": [
    "### Which features are strongly positively correlated?"
   ]
  },
  {
   "cell_type": "markdown",
   "id": "median-start",
   "metadata": {},
   "source": [
    "Loudness and Energy (+0.79)"
   ]
  },
  {
   "cell_type": "markdown",
   "id": "cognitive-amount",
   "metadata": {},
   "source": [
    "### Which features are strongly negatively correlated?"
   ]
  },
  {
   "cell_type": "markdown",
   "id": "indirect-moscow",
   "metadata": {},
   "source": [
    "Enegry and Acoustiness (-0.68)"
   ]
  },
  {
   "cell_type": "markdown",
   "id": "organizational-surface",
   "metadata": {},
   "source": [
    "### Which features are not correlated?"
   ]
  },
  {
   "cell_type": "markdown",
   "id": "female-trace",
   "metadata": {},
   "source": [
    "1. Energy and Genre (0.059)\n",
    "2. Energy and Duration (0.082)\n",
    "3. Energy and Tempo (0.075)\n",
    "4. Energy and Liveness (0.069)\n",
    "5. Energy and Speechiness (0.074)\n",
    "6. Danceability and Genre (0.0069)\n",
    "7. Danceability and Aliveness (-0.0066)\n",
    "8. Danceability and Instrumentalness (-0.018)\n",
    "9. Loudness and Speechiness (0.022)\n",
    "10. Loudness and Liveness (-0.07)\n",
    "11. Speechiness and Valence (0.054)\n",
    "12. Speechiness and Instrumentalness (0.029)\n",
    "13. Instrumentalness and Genre (0.054)\n",
    "14. Instrumentalness and Tempo (0.019)\n",
    "15. Instrumentalness and Liveness (-0.087)\n",
    "16. Liveness and Duration (0.09)\n",
    "17. Liveness and Valence (0.033)\n",
    "18. Liveness and Tempo(0.025)\n",
    "19. Duration and Genre (0.009)"
   ]
  },
  {
   "cell_type": "markdown",
   "id": "demonstrated-mailman",
   "metadata": {},
   "source": [
    "### How does the danceability score compare between Pop, Hip-Hop/Rap, Dance/Electronic, and Alternative/Indie genres?"
   ]
  },
  {
   "cell_type": "code",
   "execution_count": 188,
   "id": "correct-taylor",
   "metadata": {},
   "outputs": [],
   "source": [
    "top_fifty = pd.read_csv(\"C:\\py\\Projects\\TuringCollege\\Top50SpotifyTracks2020\\spotifytoptracks.csv\", index_col = 0)"
   ]
  },
  {
   "cell_type": "markdown",
   "id": "partial-wesley",
   "metadata": {},
   "source": [
    "Danceability score compares positively with the following genres:\n",
    "Danceability score "
   ]
  },
  {
   "cell_type": "code",
   "execution_count": 153,
   "id": "suburban-entity",
   "metadata": {},
   "outputs": [
    {
     "data": {
      "image/png": "[encoded data removed]",
      "text/plain": [
       "<Figure size 1080x576 with 1 Axes>"
      ]
     },
     "metadata": {
      "needs_background": "light"
     },
     "output_type": "display_data"
    }
   ],
   "source": [
    "plt.figure(figsize=(15,8))\n",
    "\n",
    "sns.barplot(x='genre', y = 'danceability', data = top_fifty, ci = None)\n",
    "plt.xticks(rotation=70)\n",
    "plt.tight_layout()\n",
    "plt.show()"
   ]
  },
  {
   "cell_type": "markdown",
   "id": "rapid-genetics",
   "metadata": {},
   "source": [
    "### How does the loudness score compare between Pop, Hip-Hop/Rap, Dance/Electronic, and Alternative/Indie genres?"
   ]
  },
  {
   "cell_type": "code",
   "execution_count": 154,
   "id": "built-magnitude",
   "metadata": {},
   "outputs": [
    {
     "data": {
      "image/png": "[encoded data removed]",
      "text/plain": [
       "<Figure size 1080x576 with 1 Axes>"
      ]
     },
     "metadata": {
      "needs_background": "light"
     },
     "output_type": "display_data"
    }
   ],
   "source": [
    "plt.figure(figsize=(15,8))\n",
    "\n",
    "sns.barplot(x='genre', y = 'loudness', data = top_fifty, ci = None)\n",
    "plt.xticks(rotation=70)\n",
    "plt.tight_layout()\n",
    "plt.show()"
   ]
  },
  {
   "cell_type": "markdown",
   "id": "stuck-aircraft",
   "metadata": {},
   "source": [
    "### How does the acousticness score compare between Pop, Hip-Hop/Rap, Dance/Electronic, and Alternative/Indie genres?"
   ]
  },
  {
   "cell_type": "code",
   "execution_count": 155,
   "id": "veterinary-stereo",
   "metadata": {},
   "outputs": [
    {
     "data": {
      "image/png": "[encoded data removed]",
      "text/plain": [
       "<Figure size 1080x576 with 1 Axes>"
      ]
     },
     "metadata": {
      "needs_background": "light"
     },
     "output_type": "display_data"
    }
   ],
   "source": [
    "plt.figure(figsize=(15,8))\n",
    "\n",
    "sns.barplot(x='genre', y = 'acousticness', data = top_fifty, ci = None)\n",
    "plt.xticks(rotation=70)\n",
    "plt.tight_layout()\n",
    "plt.show()"
   ]
  },
  {
   "cell_type": "markdown",
   "id": "ranking-master",
   "metadata": {},
   "source": [
    "# Conclusions"
   ]
  },
  {
   "cell_type": "markdown",
   "id": "genetic-black",
   "metadata": {},
   "source": [
    "In this project, I analyzed the Top 50 Spotify Tracks 2020 dataset and gained various insights about its features. By looking at the analysis in this project, one will gain insights into characteristics of popular tracks and on considerations in creating or marketing a popular track on Spodify. This analysis would be useful for an artist who might be interested in creating artistic work for Spodify. It could also be useful for entrepreneurs who want to gain financial benefit from marketing albums or tracks within or outside of Spodify."
   ]
  },
  {
   "cell_type": "markdown",
   "id": "ordinary-israeli",
   "metadata": {},
   "source": [
    "# Suggestions"
   ]
  },
  {
   "cell_type": "markdown",
   "id": "headed-assets",
   "metadata": {},
   "source": [
    "This analysis could be improved by doing more detailed analysis on each of the features of this dataset. In addition, more knowledge about each feature of this dataset could improve the analysis. Furthermore, this analysis could be improved by focusing on one specific feature and identifying key ideas that could be useful in answering more specific questions."
   ]
  }
 ],
 "metadata": {
  "kernelspec": {
   "display_name": "Python 3",
   "language": "python",
   "name": "python3"
  },
  "language_info": {
   "codemirror_mode": {
    "name": "ipython",
    "version": 3
   },
   "file_extension": ".py",
   "mimetype": "text/x-python",
   "name": "python",
   "nbconvert_exporter": "python",
   "pygments_lexer": "ipython3",
   "version": "3.9.6"
  },
  "toc": {
   "base_numbering": 1,
   "nav_menu": {},
   "number_sections": true,
   "sideBar": true,
   "skip_h1_title": false,
   "title_cell": "Table of Contents",
   "title_sidebar": "Contents",
   "toc_cell": false,
   "toc_position": {
    "height": "calc(100% - 180px)",
    "left": "10px",
    "top": "150px",
    "width": "263px"
   },
   "toc_section_display": true,
   "toc_window_display": false
  }
 },
 "nbformat": 4,
 "nbformat_minor": 5
}
