{
 "cells": [
  {
   "cell_type": "markdown",
   "id": "southeast-perspective",
   "metadata": {},
   "source": [
    "# Top 50 Spotify Tracks of 2020"
   ]
  },
  {
   "cell_type": "markdown",
   "id": "naval-edmonton",
   "metadata": {},
   "source": [
    "## Introduction\n",
    "\n",
    "In this project I work with a data set obtained from Kaggle. The data contains information about the top 50 Spodify tracks of 2020. I will perform the following tasks on this data set:\n",
    "\n",
    "1. Load the data into Pandas\n",
    "2. Provide basic information about the data\n",
    "3. Perform Exploratory Data Analysis (EDA)\n",
    "4. Provide basic descriptive statistics\n",
    "7. Correlation analysis"
   ]
  },
  {
   "cell_type": "markdown",
   "id": "universal-philippines",
   "metadata": {},
   "source": [
    "## Goals\n",
    "\n",
    "The goals of this project is to analyze the Top 50 Spotify Tracks 2020 dataset and determine insights about the following features. This information could be useful for a would be artist who might be interested in placing an album or track on Spodify. It could also be useful for people who would want to gain financial benefit from marketing songs within or outside of Spodify.\n",
    "\n",
    "1. Artists\n",
    "2. Albums\n",
    "3. Tracks\n",
    "4. Generas\n",
    "5. Energy\n",
    "5. Danceability\n",
    "6. Loudness\n",
    "7. Accoustiness\n",
    "8. Speechiness\n",
    "9. Instrumentalness\n",
    "10. Liveness\n",
    "11. Valence\n",
    "12. Tempo\n",
    "13. Duration\n",
    "14. Key"
   ]
  },
  {
   "cell_type": "markdown",
   "id": "consistent-subsection",
   "metadata": {},
   "source": [
    "## Importing Libraries\n",
    "\n",
    "I utilize the following libraries for my work with this data set:\n",
    "\n",
    "1. **pandas**: The majority of the work on this data set.\n",
    "2. **numpy**: Portion of the mathematical and statistical work as needed.\n",
    "3. **seaborn**: Graphs and diagrams\n",
    "4. **matplotlib**: Graphs and diagrams\n",
    "5. **warnings**: Supressing unneeded FutureWarnings"
   ]
  },
  {
   "cell_type": "code",
   "execution_count": 4,
   "id": "separate-startup",
   "metadata": {},
   "outputs": [],
   "source": [
    "import pandas as pd\n",
    "import numpy as np\n",
    "import seaborn as sns\n",
    "import matplotlib.pyplot as plt\n",
    "import warnings"
   ]
  },
  {
   "cell_type": "markdown",
   "id": "complicated-proof",
   "metadata": {},
   "source": [
    "## Loading Data in Pandas\n",
    "\n",
    "The data is a csv file that I have dowloaded onto my computer. In this section, I create a pandas data frame object so I can work with the data."
   ]
  },
  {
   "cell_type": "code",
   "execution_count": 5,
   "id": "medical-might",
   "metadata": {},
   "outputs": [],
   "source": [
    "top_fifty = pd.read_csv(\"C:\\py\\Projects\\TuringCollege\\Top50SpotifyTracks2020\\spotifytoptracks.csv\", index_col = 0)"
   ]
  },
  {
   "cell_type": "code",
   "execution_count": 7,
   "id": "positive-poverty",
   "metadata": {},
   "outputs": [
    {
     "data": {
      "text/plain": [
       "pandas.core.frame.DataFrame"
      ]
     },
     "execution_count": 7,
     "metadata": {},
     "output_type": "execute_result"
    }
   ],
   "source": [
    "type(top_fifty)# Identifies the creation of a pandas data frame object."
   ]
  },
  {
   "cell_type": "markdown",
   "id": "sustainable-pitch",
   "metadata": {},
   "source": [
    "## Basic Information\n",
    "\n",
    "In this section, I display the following information about the data set:\n",
    "\n",
    "1. Number or rows or records\n",
    "2. Number of columns or features\n",
    "3. Total number of data enteries\n",
    "4. The first 5 rows\n",
    "5. The entire data set"
   ]
  },
  {
   "cell_type": "markdown",
   "id": "mineral-destiny",
   "metadata": {},
   "source": [
    "### Number of Rows or Records \n",
    "\n",
    "This data set is made of 50 rows or observations."
   ]
  },
  {
   "cell_type": "code",
   "execution_count": 8,
   "id": "understood-windows",
   "metadata": {},
   "outputs": [
    {
     "data": {
      "text/plain": [
       "50"
      ]
     },
     "execution_count": 8,
     "metadata": {},
     "output_type": "execute_result"
    }
   ],
   "source": [
    "top_fifty.shape[0]"
   ]
  },
  {
   "cell_type": "markdown",
   "id": "iraqi-algebra",
   "metadata": {},
   "source": [
    "### Number of Columns or Features\n",
    "\n",
    "This data set is made of 16 columns or features."
   ]
  },
  {
   "cell_type": "code",
   "execution_count": 9,
   "id": "dutch-mystery",
   "metadata": {},
   "outputs": [
    {
     "data": {
      "text/plain": [
       "16"
      ]
     },
     "execution_count": 9,
     "metadata": {},
     "output_type": "execute_result"
    }
   ],
   "source": [
    "top_fifty.shape[1]"
   ]
  },
  {
   "cell_type": "markdown",
   "id": "collect-google",
   "metadata": {},
   "source": [
    "### Size of the Data Set\n",
    "\n",
    "This data set has a total of 800 enteries."
   ]
  },
  {
   "cell_type": "code",
   "execution_count": 252,
   "id": "digital-spring",
   "metadata": {},
   "outputs": [
    {
     "data": {
      "text/plain": [
       "800"
      ]
     },
     "execution_count": 252,
     "metadata": {},
     "output_type": "execute_result"
    }
   ],
   "source": [
    "top_fifty.size"
   ]
  },
  {
   "cell_type": "markdown",
   "id": "previous-teacher",
   "metadata": {},
   "source": [
    "### First Five Records of the Data Set\n",
    "\n",
    "This is a display of the first 5 rows and all columns of the data set."
   ]
  },
  {
   "cell_type": "code",
   "execution_count": 13,
   "id": "traditional-idaho",
   "metadata": {},
   "outputs": [],
   "source": [
    "pd.set_option(\"display.max.columns\", None) # Configures pandas to show all columns."
   ]
  },
  {
   "cell_type": "code",
   "execution_count": 14,
   "id": "collective-simulation",
   "metadata": {
    "scrolled": true
   },
   "outputs": [
    {
     "data": {
      "text/html": [
       "<div>\n",
       "<style scoped>\n",
       "    .dataframe tbody tr th:only-of-type {\n",
       "        vertical-align: middle;\n",
       "    }\n",
       "\n",
       "    .dataframe tbody tr th {\n",
       "        vertical-align: top;\n",
       "    }\n",
       "\n",
       "    .dataframe thead th {\n",
       "        text-align: right;\n",
       "    }\n",
       "</style>\n",
       "<table border=\"1\" class=\"dataframe\">\n",
       "  <thead>\n",
       "    <tr style=\"text-align: right;\">\n",
       "      <th></th>\n",
       "      <th>artist</th>\n",
       "      <th>album</th>\n",
       "      <th>track_name</th>\n",
       "      <th>track_id</th>\n",
       "      <th>energy</th>\n",
       "      <th>danceability</th>\n",
       "      <th>key</th>\n",
       "      <th>loudness</th>\n",
       "      <th>acousticness</th>\n",
       "      <th>speechiness</th>\n",
       "      <th>instrumentalness</th>\n",
       "      <th>liveness</th>\n",
       "      <th>valence</th>\n",
       "      <th>tempo</th>\n",
       "      <th>duration_ms</th>\n",
       "      <th>genre</th>\n",
       "    </tr>\n",
       "  </thead>\n",
       "  <tbody>\n",
       "    <tr>\n",
       "      <th>0</th>\n",
       "      <td>The Weeknd</td>\n",
       "      <td>After Hours</td>\n",
       "      <td>Blinding Lights</td>\n",
       "      <td>0VjIjW4GlUZAMYd2vXMi3b</td>\n",
       "      <td>0.730</td>\n",
       "      <td>0.514</td>\n",
       "      <td>1</td>\n",
       "      <td>-5.934</td>\n",
       "      <td>0.00146</td>\n",
       "      <td>0.0598</td>\n",
       "      <td>0.000095</td>\n",
       "      <td>0.0897</td>\n",
       "      <td>0.334</td>\n",
       "      <td>171.005</td>\n",
       "      <td>200040</td>\n",
       "      <td>R&amp;B/Soul</td>\n",
       "    </tr>\n",
       "    <tr>\n",
       "      <th>1</th>\n",
       "      <td>Tones And I</td>\n",
       "      <td>Dance Monkey</td>\n",
       "      <td>Dance Monkey</td>\n",
       "      <td>1rgnBhdG2JDFTbYkYRZAku</td>\n",
       "      <td>0.593</td>\n",
       "      <td>0.825</td>\n",
       "      <td>6</td>\n",
       "      <td>-6.401</td>\n",
       "      <td>0.68800</td>\n",
       "      <td>0.0988</td>\n",
       "      <td>0.000161</td>\n",
       "      <td>0.1700</td>\n",
       "      <td>0.540</td>\n",
       "      <td>98.078</td>\n",
       "      <td>209755</td>\n",
       "      <td>Alternative/Indie</td>\n",
       "    </tr>\n",
       "    <tr>\n",
       "      <th>2</th>\n",
       "      <td>Roddy Ricch</td>\n",
       "      <td>Please Excuse Me For Being Antisocial</td>\n",
       "      <td>The Box</td>\n",
       "      <td>0nbXyq5TXYPCO7pr3N8S4I</td>\n",
       "      <td>0.586</td>\n",
       "      <td>0.896</td>\n",
       "      <td>10</td>\n",
       "      <td>-6.687</td>\n",
       "      <td>0.10400</td>\n",
       "      <td>0.0559</td>\n",
       "      <td>0.000000</td>\n",
       "      <td>0.7900</td>\n",
       "      <td>0.642</td>\n",
       "      <td>116.971</td>\n",
       "      <td>196653</td>\n",
       "      <td>Hip-Hop/Rap</td>\n",
       "    </tr>\n",
       "    <tr>\n",
       "      <th>3</th>\n",
       "      <td>SAINt JHN</td>\n",
       "      <td>Roses (Imanbek Remix)</td>\n",
       "      <td>Roses - Imanbek Remix</td>\n",
       "      <td>2Wo6QQD1KMDWeFkkjLqwx5</td>\n",
       "      <td>0.721</td>\n",
       "      <td>0.785</td>\n",
       "      <td>8</td>\n",
       "      <td>-5.457</td>\n",
       "      <td>0.01490</td>\n",
       "      <td>0.0506</td>\n",
       "      <td>0.004320</td>\n",
       "      <td>0.2850</td>\n",
       "      <td>0.894</td>\n",
       "      <td>121.962</td>\n",
       "      <td>176219</td>\n",
       "      <td>Dance/Electronic</td>\n",
       "    </tr>\n",
       "    <tr>\n",
       "      <th>4</th>\n",
       "      <td>Dua Lipa</td>\n",
       "      <td>Future Nostalgia</td>\n",
       "      <td>Don't Start Now</td>\n",
       "      <td>3PfIrDoz19wz7qK7tYeu62</td>\n",
       "      <td>0.793</td>\n",
       "      <td>0.793</td>\n",
       "      <td>11</td>\n",
       "      <td>-4.521</td>\n",
       "      <td>0.01230</td>\n",
       "      <td>0.0830</td>\n",
       "      <td>0.000000</td>\n",
       "      <td>0.0951</td>\n",
       "      <td>0.679</td>\n",
       "      <td>123.950</td>\n",
       "      <td>183290</td>\n",
       "      <td>Nu-disco</td>\n",
       "    </tr>\n",
       "  </tbody>\n",
       "</table>\n",
       "</div>"
      ],
      "text/plain": [
       "        artist                                  album             track_name  \\\n",
       "0   The Weeknd                            After Hours        Blinding Lights   \n",
       "1  Tones And I                           Dance Monkey           Dance Monkey   \n",
       "2  Roddy Ricch  Please Excuse Me For Being Antisocial                The Box   \n",
       "3    SAINt JHN                  Roses (Imanbek Remix)  Roses - Imanbek Remix   \n",
       "4     Dua Lipa                       Future Nostalgia        Don't Start Now   \n",
       "\n",
       "                 track_id  energy  danceability  key  loudness  acousticness  \\\n",
       "0  0VjIjW4GlUZAMYd2vXMi3b   0.730         0.514    1    -5.934       0.00146   \n",
       "1  1rgnBhdG2JDFTbYkYRZAku   0.593         0.825    6    -6.401       0.68800   \n",
       "2  0nbXyq5TXYPCO7pr3N8S4I   0.586         0.896   10    -6.687       0.10400   \n",
       "3  2Wo6QQD1KMDWeFkkjLqwx5   0.721         0.785    8    -5.457       0.01490   \n",
       "4  3PfIrDoz19wz7qK7tYeu62   0.793         0.793   11    -4.521       0.01230   \n",
       "\n",
       "   speechiness  instrumentalness  liveness  valence    tempo  duration_ms  \\\n",
       "0       0.0598          0.000095    0.0897    0.334  171.005       200040   \n",
       "1       0.0988          0.000161    0.1700    0.540   98.078       209755   \n",
       "2       0.0559          0.000000    0.7900    0.642  116.971       196653   \n",
       "3       0.0506          0.004320    0.2850    0.894  121.962       176219   \n",
       "4       0.0830          0.000000    0.0951    0.679  123.950       183290   \n",
       "\n",
       "               genre  \n",
       "0           R&B/Soul  \n",
       "1  Alternative/Indie  \n",
       "2        Hip-Hop/Rap  \n",
       "3   Dance/Electronic  \n",
       "4           Nu-disco  "
      ]
     },
     "execution_count": 14,
     "metadata": {},
     "output_type": "execute_result"
    }
   ],
   "source": [
    "top_fifty.head()"
   ]
  },
  {
   "cell_type": "markdown",
   "id": "graduate-house",
   "metadata": {},
   "source": [
    "### All Records of the Data Set\n",
    "\n",
    "This is a display every row and column of the data set."
   ]
  },
  {
   "cell_type": "code",
   "execution_count": 15,
   "id": "governmental-findings",
   "metadata": {
    "scrolled": true
   },
   "outputs": [
    {
     "data": {
      "text/html": [
       "<div>\n",
       "<style scoped>\n",
       "    .dataframe tbody tr th:only-of-type {\n",
       "        vertical-align: middle;\n",
       "    }\n",
       "\n",
       "    .dataframe tbody tr th {\n",
       "        vertical-align: top;\n",
       "    }\n",
       "\n",
       "    .dataframe thead th {\n",
       "        text-align: right;\n",
       "    }\n",
       "</style>\n",
       "<table border=\"1\" class=\"dataframe\">\n",
       "  <thead>\n",
       "    <tr style=\"text-align: right;\">\n",
       "      <th></th>\n",
       "      <th>artist</th>\n",
       "      <th>album</th>\n",
       "      <th>track_name</th>\n",
       "      <th>track_id</th>\n",
       "      <th>energy</th>\n",
       "      <th>danceability</th>\n",
       "      <th>key</th>\n",
       "      <th>loudness</th>\n",
       "      <th>acousticness</th>\n",
       "      <th>speechiness</th>\n",
       "      <th>instrumentalness</th>\n",
       "      <th>liveness</th>\n",
       "      <th>valence</th>\n",
       "      <th>tempo</th>\n",
       "      <th>duration_ms</th>\n",
       "      <th>genre</th>\n",
       "    </tr>\n",
       "  </thead>\n",
       "  <tbody>\n",
       "    <tr>\n",
       "      <th>0</th>\n",
       "      <td>The Weeknd</td>\n",
       "      <td>After Hours</td>\n",
       "      <td>Blinding Lights</td>\n",
       "      <td>0VjIjW4GlUZAMYd2vXMi3b</td>\n",
       "      <td>0.730</td>\n",
       "      <td>0.514</td>\n",
       "      <td>1</td>\n",
       "      <td>-5.934</td>\n",
       "      <td>0.00146</td>\n",
       "      <td>0.0598</td>\n",
       "      <td>0.000095</td>\n",
       "      <td>0.0897</td>\n",
       "      <td>0.3340</td>\n",
       "      <td>171.005</td>\n",
       "      <td>200040</td>\n",
       "      <td>R&amp;B/Soul</td>\n",
       "    </tr>\n",
       "    <tr>\n",
       "      <th>1</th>\n",
       "      <td>Tones And I</td>\n",
       "      <td>Dance Monkey</td>\n",
       "      <td>Dance Monkey</td>\n",
       "      <td>1rgnBhdG2JDFTbYkYRZAku</td>\n",
       "      <td>0.593</td>\n",
       "      <td>0.825</td>\n",
       "      <td>6</td>\n",
       "      <td>-6.401</td>\n",
       "      <td>0.68800</td>\n",
       "      <td>0.0988</td>\n",
       "      <td>0.000161</td>\n",
       "      <td>0.1700</td>\n",
       "      <td>0.5400</td>\n",
       "      <td>98.078</td>\n",
       "      <td>209755</td>\n",
       "      <td>Alternative/Indie</td>\n",
       "    </tr>\n",
       "    <tr>\n",
       "      <th>2</th>\n",
       "      <td>Roddy Ricch</td>\n",
       "      <td>Please Excuse Me For Being Antisocial</td>\n",
       "      <td>The Box</td>\n",
       "      <td>0nbXyq5TXYPCO7pr3N8S4I</td>\n",
       "      <td>0.586</td>\n",
       "      <td>0.896</td>\n",
       "      <td>10</td>\n",
       "      <td>-6.687</td>\n",
       "      <td>0.10400</td>\n",
       "      <td>0.0559</td>\n",
       "      <td>0.000000</td>\n",
       "      <td>0.7900</td>\n",
       "      <td>0.6420</td>\n",
       "      <td>116.971</td>\n",
       "      <td>196653</td>\n",
       "      <td>Hip-Hop/Rap</td>\n",
       "    </tr>\n",
       "    <tr>\n",
       "      <th>3</th>\n",
       "      <td>SAINt JHN</td>\n",
       "      <td>Roses (Imanbek Remix)</td>\n",
       "      <td>Roses - Imanbek Remix</td>\n",
       "      <td>2Wo6QQD1KMDWeFkkjLqwx5</td>\n",
       "      <td>0.721</td>\n",
       "      <td>0.785</td>\n",
       "      <td>8</td>\n",
       "      <td>-5.457</td>\n",
       "      <td>0.01490</td>\n",
       "      <td>0.0506</td>\n",
       "      <td>0.004320</td>\n",
       "      <td>0.2850</td>\n",
       "      <td>0.8940</td>\n",
       "      <td>121.962</td>\n",
       "      <td>176219</td>\n",
       "      <td>Dance/Electronic</td>\n",
       "    </tr>\n",
       "    <tr>\n",
       "      <th>4</th>\n",
       "      <td>Dua Lipa</td>\n",
       "      <td>Future Nostalgia</td>\n",
       "      <td>Don't Start Now</td>\n",
       "      <td>3PfIrDoz19wz7qK7tYeu62</td>\n",
       "      <td>0.793</td>\n",
       "      <td>0.793</td>\n",
       "      <td>11</td>\n",
       "      <td>-4.521</td>\n",
       "      <td>0.01230</td>\n",
       "      <td>0.0830</td>\n",
       "      <td>0.000000</td>\n",
       "      <td>0.0951</td>\n",
       "      <td>0.6790</td>\n",
       "      <td>123.950</td>\n",
       "      <td>183290</td>\n",
       "      <td>Nu-disco</td>\n",
       "    </tr>\n",
       "    <tr>\n",
       "      <th>5</th>\n",
       "      <td>DaBaby</td>\n",
       "      <td>BLAME IT ON BABY</td>\n",
       "      <td>ROCKSTAR (feat. Roddy Ricch)</td>\n",
       "      <td>7ytR5pFWmSjzHJIeQkgog4</td>\n",
       "      <td>0.690</td>\n",
       "      <td>0.746</td>\n",
       "      <td>11</td>\n",
       "      <td>-7.956</td>\n",
       "      <td>0.24700</td>\n",
       "      <td>0.1640</td>\n",
       "      <td>0.000000</td>\n",
       "      <td>0.1010</td>\n",
       "      <td>0.4970</td>\n",
       "      <td>89.977</td>\n",
       "      <td>181733</td>\n",
       "      <td>Hip-Hop/Rap</td>\n",
       "    </tr>\n",
       "    <tr>\n",
       "      <th>6</th>\n",
       "      <td>Harry Styles</td>\n",
       "      <td>Fine Line</td>\n",
       "      <td>Watermelon Sugar</td>\n",
       "      <td>6UelLqGlWMcVH1E5c4H7lY</td>\n",
       "      <td>0.816</td>\n",
       "      <td>0.548</td>\n",
       "      <td>0</td>\n",
       "      <td>-4.209</td>\n",
       "      <td>0.12200</td>\n",
       "      <td>0.0465</td>\n",
       "      <td>0.000000</td>\n",
       "      <td>0.3350</td>\n",
       "      <td>0.5570</td>\n",
       "      <td>95.390</td>\n",
       "      <td>174000</td>\n",
       "      <td>Pop</td>\n",
       "    </tr>\n",
       "    <tr>\n",
       "      <th>7</th>\n",
       "      <td>Powfu</td>\n",
       "      <td>death bed (coffee for your head)</td>\n",
       "      <td>death bed (coffee for your head)</td>\n",
       "      <td>7eJMfftS33KTjuF7lTsMCx</td>\n",
       "      <td>0.431</td>\n",
       "      <td>0.726</td>\n",
       "      <td>8</td>\n",
       "      <td>-8.765</td>\n",
       "      <td>0.73100</td>\n",
       "      <td>0.1350</td>\n",
       "      <td>0.000000</td>\n",
       "      <td>0.6960</td>\n",
       "      <td>0.3480</td>\n",
       "      <td>144.026</td>\n",
       "      <td>173333</td>\n",
       "      <td>Hip-Hop/Rap</td>\n",
       "    </tr>\n",
       "    <tr>\n",
       "      <th>8</th>\n",
       "      <td>Trevor Daniel</td>\n",
       "      <td>Nicotine</td>\n",
       "      <td>Falling</td>\n",
       "      <td>2rRJrJEo19S2J82BDsQ3F7</td>\n",
       "      <td>0.430</td>\n",
       "      <td>0.784</td>\n",
       "      <td>10</td>\n",
       "      <td>-8.756</td>\n",
       "      <td>0.12300</td>\n",
       "      <td>0.0364</td>\n",
       "      <td>0.000000</td>\n",
       "      <td>0.0887</td>\n",
       "      <td>0.2360</td>\n",
       "      <td>127.087</td>\n",
       "      <td>159382</td>\n",
       "      <td>R&amp;B/Hip-Hop alternative</td>\n",
       "    </tr>\n",
       "    <tr>\n",
       "      <th>9</th>\n",
       "      <td>Lewis Capaldi</td>\n",
       "      <td>Divinely Uninspired To A Hellish Extent</td>\n",
       "      <td>Someone You Loved</td>\n",
       "      <td>7qEHsqek33rTcFNT9PFqLf</td>\n",
       "      <td>0.405</td>\n",
       "      <td>0.501</td>\n",
       "      <td>1</td>\n",
       "      <td>-5.679</td>\n",
       "      <td>0.75100</td>\n",
       "      <td>0.0319</td>\n",
       "      <td>0.000000</td>\n",
       "      <td>0.1050</td>\n",
       "      <td>0.4460</td>\n",
       "      <td>109.891</td>\n",
       "      <td>182161</td>\n",
       "      <td>Alternative/Indie</td>\n",
       "    </tr>\n",
       "    <tr>\n",
       "      <th>10</th>\n",
       "      <td>KAROL G</td>\n",
       "      <td>Tusa</td>\n",
       "      <td>Tusa</td>\n",
       "      <td>7k4t7uLgtOxPwTpFmtJNTY</td>\n",
       "      <td>0.715</td>\n",
       "      <td>0.803</td>\n",
       "      <td>2</td>\n",
       "      <td>-3.280</td>\n",
       "      <td>0.29500</td>\n",
       "      <td>0.2980</td>\n",
       "      <td>0.000134</td>\n",
       "      <td>0.0574</td>\n",
       "      <td>0.5740</td>\n",
       "      <td>101.085</td>\n",
       "      <td>200960</td>\n",
       "      <td>Pop</td>\n",
       "    </tr>\n",
       "    <tr>\n",
       "      <th>11</th>\n",
       "      <td>Arizona Zervas</td>\n",
       "      <td>ROXANNE</td>\n",
       "      <td>ROXANNE</td>\n",
       "      <td>696DnlkuDOXcMAnKlTgXXK</td>\n",
       "      <td>0.601</td>\n",
       "      <td>0.621</td>\n",
       "      <td>6</td>\n",
       "      <td>-5.616</td>\n",
       "      <td>0.05220</td>\n",
       "      <td>0.1480</td>\n",
       "      <td>0.000000</td>\n",
       "      <td>0.4600</td>\n",
       "      <td>0.4570</td>\n",
       "      <td>116.735</td>\n",
       "      <td>163636</td>\n",
       "      <td>Hip-Hop/Rap</td>\n",
       "    </tr>\n",
       "    <tr>\n",
       "      <th>12</th>\n",
       "      <td>Post Malone</td>\n",
       "      <td>Hollywood's Bleeding</td>\n",
       "      <td>Circles</td>\n",
       "      <td>21jGcNKet2qwijlDFuPiPb</td>\n",
       "      <td>0.762</td>\n",
       "      <td>0.695</td>\n",
       "      <td>0</td>\n",
       "      <td>-3.497</td>\n",
       "      <td>0.19200</td>\n",
       "      <td>0.0395</td>\n",
       "      <td>0.002440</td>\n",
       "      <td>0.0863</td>\n",
       "      <td>0.5530</td>\n",
       "      <td>120.042</td>\n",
       "      <td>215280</td>\n",
       "      <td>Pop/Soft Rock</td>\n",
       "    </tr>\n",
       "    <tr>\n",
       "      <th>13</th>\n",
       "      <td>Lil Mosey</td>\n",
       "      <td>Certified Hitmaker</td>\n",
       "      <td>Blueberry Faygo</td>\n",
       "      <td>22LAwLoDA5b4AaGSkg6bKW</td>\n",
       "      <td>0.554</td>\n",
       "      <td>0.774</td>\n",
       "      <td>0</td>\n",
       "      <td>-7.909</td>\n",
       "      <td>0.20700</td>\n",
       "      <td>0.0383</td>\n",
       "      <td>0.000000</td>\n",
       "      <td>0.1320</td>\n",
       "      <td>0.3490</td>\n",
       "      <td>99.034</td>\n",
       "      <td>162547</td>\n",
       "      <td>Hip-Hop/Rap</td>\n",
       "    </tr>\n",
       "    <tr>\n",
       "      <th>14</th>\n",
       "      <td>Justin Bieber</td>\n",
       "      <td>Changes</td>\n",
       "      <td>Intentions (feat. Quavo)</td>\n",
       "      <td>4umIPjkehX1r7uhmGvXiSV</td>\n",
       "      <td>0.546</td>\n",
       "      <td>0.806</td>\n",
       "      <td>9</td>\n",
       "      <td>-6.637</td>\n",
       "      <td>0.30000</td>\n",
       "      <td>0.0575</td>\n",
       "      <td>0.000000</td>\n",
       "      <td>0.1020</td>\n",
       "      <td>0.8740</td>\n",
       "      <td>147.986</td>\n",
       "      <td>212867</td>\n",
       "      <td>Pop</td>\n",
       "    </tr>\n",
       "    <tr>\n",
       "      <th>15</th>\n",
       "      <td>Drake</td>\n",
       "      <td>Dark Lane Demo Tapes</td>\n",
       "      <td>Toosie Slide</td>\n",
       "      <td>466cKvZn1j45IpxDdYZqdA</td>\n",
       "      <td>0.490</td>\n",
       "      <td>0.830</td>\n",
       "      <td>1</td>\n",
       "      <td>-8.820</td>\n",
       "      <td>0.28900</td>\n",
       "      <td>0.2090</td>\n",
       "      <td>0.000003</td>\n",
       "      <td>0.1130</td>\n",
       "      <td>0.8450</td>\n",
       "      <td>81.604</td>\n",
       "      <td>247059</td>\n",
       "      <td>Hip-Hop/Rap</td>\n",
       "    </tr>\n",
       "    <tr>\n",
       "      <th>16</th>\n",
       "      <td>Lewis Capaldi</td>\n",
       "      <td>Divinely Uninspired To A Hellish Extent (Exten...</td>\n",
       "      <td>Before You Go</td>\n",
       "      <td>2gMXnyrvIjhVBUZwvLZDMP</td>\n",
       "      <td>0.575</td>\n",
       "      <td>0.459</td>\n",
       "      <td>3</td>\n",
       "      <td>-4.858</td>\n",
       "      <td>0.60400</td>\n",
       "      <td>0.0573</td>\n",
       "      <td>0.000000</td>\n",
       "      <td>0.0885</td>\n",
       "      <td>0.1830</td>\n",
       "      <td>111.881</td>\n",
       "      <td>215107</td>\n",
       "      <td>Alternative/Indie</td>\n",
       "    </tr>\n",
       "    <tr>\n",
       "      <th>17</th>\n",
       "      <td>Doja Cat</td>\n",
       "      <td>Hot Pink</td>\n",
       "      <td>Say So</td>\n",
       "      <td>3Dv1eDb0MEgF93GpLXlucZ</td>\n",
       "      <td>0.673</td>\n",
       "      <td>0.787</td>\n",
       "      <td>11</td>\n",
       "      <td>-4.577</td>\n",
       "      <td>0.25600</td>\n",
       "      <td>0.1580</td>\n",
       "      <td>0.000004</td>\n",
       "      <td>0.0904</td>\n",
       "      <td>0.7860</td>\n",
       "      <td>110.962</td>\n",
       "      <td>237893</td>\n",
       "      <td>R&amp;B/Soul</td>\n",
       "    </tr>\n",
       "    <tr>\n",
       "      <th>18</th>\n",
       "      <td>Maroon 5</td>\n",
       "      <td>Memories</td>\n",
       "      <td>Memories</td>\n",
       "      <td>2b8fOow8UzyDFAE27YhOZM</td>\n",
       "      <td>0.320</td>\n",
       "      <td>0.764</td>\n",
       "      <td>11</td>\n",
       "      <td>-7.209</td>\n",
       "      <td>0.83700</td>\n",
       "      <td>0.0546</td>\n",
       "      <td>0.000000</td>\n",
       "      <td>0.0822</td>\n",
       "      <td>0.5750</td>\n",
       "      <td>91.019</td>\n",
       "      <td>189486</td>\n",
       "      <td>Pop</td>\n",
       "    </tr>\n",
       "    <tr>\n",
       "      <th>19</th>\n",
       "      <td>Future</td>\n",
       "      <td>High Off Life</td>\n",
       "      <td>Life Is Good (feat. Drake)</td>\n",
       "      <td>1K5KBOgreBi5fkEHvg5ap3</td>\n",
       "      <td>0.574</td>\n",
       "      <td>0.795</td>\n",
       "      <td>2</td>\n",
       "      <td>-6.903</td>\n",
       "      <td>0.06700</td>\n",
       "      <td>0.4870</td>\n",
       "      <td>0.000000</td>\n",
       "      <td>0.1500</td>\n",
       "      <td>0.5370</td>\n",
       "      <td>142.053</td>\n",
       "      <td>237918</td>\n",
       "      <td>Hip-Hop/Rap</td>\n",
       "    </tr>\n",
       "    <tr>\n",
       "      <th>20</th>\n",
       "      <td>Jawsh 685</td>\n",
       "      <td>Savage Love (Laxed - Siren Beat)</td>\n",
       "      <td>Savage Love (Laxed - Siren Beat)</td>\n",
       "      <td>1xQ6trAsedVPCdbtDAmk0c</td>\n",
       "      <td>0.481</td>\n",
       "      <td>0.767</td>\n",
       "      <td>0</td>\n",
       "      <td>-8.520</td>\n",
       "      <td>0.23400</td>\n",
       "      <td>0.0803</td>\n",
       "      <td>0.000000</td>\n",
       "      <td>0.2690</td>\n",
       "      <td>0.7610</td>\n",
       "      <td>150.076</td>\n",
       "      <td>171375</td>\n",
       "      <td>Hip-Hop/Rap</td>\n",
       "    </tr>\n",
       "    <tr>\n",
       "      <th>21</th>\n",
       "      <td>Harry Styles</td>\n",
       "      <td>Fine Line</td>\n",
       "      <td>Adore You</td>\n",
       "      <td>3jjujdWJ72nww5eGnfs2E7</td>\n",
       "      <td>0.771</td>\n",
       "      <td>0.676</td>\n",
       "      <td>8</td>\n",
       "      <td>-3.675</td>\n",
       "      <td>0.02370</td>\n",
       "      <td>0.0483</td>\n",
       "      <td>0.000007</td>\n",
       "      <td>0.1020</td>\n",
       "      <td>0.5690</td>\n",
       "      <td>99.048</td>\n",
       "      <td>207133</td>\n",
       "      <td>Pop</td>\n",
       "    </tr>\n",
       "    <tr>\n",
       "      <th>22</th>\n",
       "      <td>Topic</td>\n",
       "      <td>Breaking Me</td>\n",
       "      <td>Breaking Me</td>\n",
       "      <td>3H7ihDc1dqLriiWXwsc2po</td>\n",
       "      <td>0.720</td>\n",
       "      <td>0.789</td>\n",
       "      <td>8</td>\n",
       "      <td>-5.652</td>\n",
       "      <td>0.22300</td>\n",
       "      <td>0.2180</td>\n",
       "      <td>0.000000</td>\n",
       "      <td>0.1290</td>\n",
       "      <td>0.6640</td>\n",
       "      <td>122.031</td>\n",
       "      <td>166794</td>\n",
       "      <td>Dance/Electronic</td>\n",
       "    </tr>\n",
       "    <tr>\n",
       "      <th>23</th>\n",
       "      <td>24kGoldn</td>\n",
       "      <td>Mood (feat. iann dior)</td>\n",
       "      <td>Mood (feat. iann dior)</td>\n",
       "      <td>3tjFYV6RSFtuktYl3ZtYcq</td>\n",
       "      <td>0.722</td>\n",
       "      <td>0.700</td>\n",
       "      <td>7</td>\n",
       "      <td>-3.558</td>\n",
       "      <td>0.22100</td>\n",
       "      <td>0.0369</td>\n",
       "      <td>0.000000</td>\n",
       "      <td>0.2720</td>\n",
       "      <td>0.7560</td>\n",
       "      <td>90.989</td>\n",
       "      <td>140526</td>\n",
       "      <td>Pop rap</td>\n",
       "    </tr>\n",
       "    <tr>\n",
       "      <th>24</th>\n",
       "      <td>Billie Eilish</td>\n",
       "      <td>everything i wanted</td>\n",
       "      <td>everything i wanted</td>\n",
       "      <td>3ZCTVFBt2Brf31RLEnCkWJ</td>\n",
       "      <td>0.225</td>\n",
       "      <td>0.704</td>\n",
       "      <td>6</td>\n",
       "      <td>-14.454</td>\n",
       "      <td>0.90200</td>\n",
       "      <td>0.0994</td>\n",
       "      <td>0.657000</td>\n",
       "      <td>0.1060</td>\n",
       "      <td>0.2430</td>\n",
       "      <td>120.006</td>\n",
       "      <td>245426</td>\n",
       "      <td>Pop</td>\n",
       "    </tr>\n",
       "    <tr>\n",
       "      <th>25</th>\n",
       "      <td>Shawn Mendes</td>\n",
       "      <td>Shawn Mendes (Deluxe)</td>\n",
       "      <td>Señorita</td>\n",
       "      <td>6v3KW9xbzN5yKLt9YKDYA2</td>\n",
       "      <td>0.548</td>\n",
       "      <td>0.759</td>\n",
       "      <td>9</td>\n",
       "      <td>-6.049</td>\n",
       "      <td>0.03920</td>\n",
       "      <td>0.0290</td>\n",
       "      <td>0.000000</td>\n",
       "      <td>0.0828</td>\n",
       "      <td>0.7490</td>\n",
       "      <td>116.967</td>\n",
       "      <td>190800</td>\n",
       "      <td>Pop</td>\n",
       "    </tr>\n",
       "    <tr>\n",
       "      <th>26</th>\n",
       "      <td>Billie Eilish</td>\n",
       "      <td>WHEN WE ALL FALL ASLEEP, WHERE DO WE GO?</td>\n",
       "      <td>bad guy</td>\n",
       "      <td>2Fxmhks0bxGSBdJ92vM42m</td>\n",
       "      <td>0.425</td>\n",
       "      <td>0.701</td>\n",
       "      <td>7</td>\n",
       "      <td>-10.965</td>\n",
       "      <td>0.32800</td>\n",
       "      <td>0.3750</td>\n",
       "      <td>0.130000</td>\n",
       "      <td>0.1000</td>\n",
       "      <td>0.5620</td>\n",
       "      <td>135.128</td>\n",
       "      <td>194088</td>\n",
       "      <td>Electro-pop</td>\n",
       "    </tr>\n",
       "    <tr>\n",
       "      <th>27</th>\n",
       "      <td>Cardi B</td>\n",
       "      <td>WAP (feat. Megan Thee Stallion)</td>\n",
       "      <td>WAP (feat. Megan Thee Stallion)</td>\n",
       "      <td>4Oun2ylbjFKMPTiaSbbCih</td>\n",
       "      <td>0.454</td>\n",
       "      <td>0.935</td>\n",
       "      <td>1</td>\n",
       "      <td>-7.509</td>\n",
       "      <td>0.01940</td>\n",
       "      <td>0.3750</td>\n",
       "      <td>0.000000</td>\n",
       "      <td>0.0824</td>\n",
       "      <td>0.3570</td>\n",
       "      <td>133.073</td>\n",
       "      <td>187541</td>\n",
       "      <td>Hip-Hop/Trap</td>\n",
       "    </tr>\n",
       "    <tr>\n",
       "      <th>28</th>\n",
       "      <td>Surfaces</td>\n",
       "      <td>Where the Light Is</td>\n",
       "      <td>Sunday Best</td>\n",
       "      <td>1Cv1YLb4q0RzL6pybtaMLo</td>\n",
       "      <td>0.525</td>\n",
       "      <td>0.878</td>\n",
       "      <td>5</td>\n",
       "      <td>-6.832</td>\n",
       "      <td>0.18300</td>\n",
       "      <td>0.0578</td>\n",
       "      <td>0.000000</td>\n",
       "      <td>0.0714</td>\n",
       "      <td>0.6940</td>\n",
       "      <td>112.022</td>\n",
       "      <td>158571</td>\n",
       "      <td>Electro-pop</td>\n",
       "    </tr>\n",
       "    <tr>\n",
       "      <th>29</th>\n",
       "      <td>Eminem</td>\n",
       "      <td>Music To Be Murdered By</td>\n",
       "      <td>Godzilla (feat. Juice WRLD)</td>\n",
       "      <td>7FIWs0pqAYbP91WWM0vlTQ</td>\n",
       "      <td>0.745</td>\n",
       "      <td>0.808</td>\n",
       "      <td>10</td>\n",
       "      <td>-5.260</td>\n",
       "      <td>0.14500</td>\n",
       "      <td>0.3420</td>\n",
       "      <td>0.000000</td>\n",
       "      <td>0.2920</td>\n",
       "      <td>0.8290</td>\n",
       "      <td>165.995</td>\n",
       "      <td>210800</td>\n",
       "      <td>Hip-Hop/Rap</td>\n",
       "    </tr>\n",
       "    <tr>\n",
       "      <th>30</th>\n",
       "      <td>Justin Bieber</td>\n",
       "      <td>Changes</td>\n",
       "      <td>Yummy</td>\n",
       "      <td>16wAOAZ2OkqoIDN7TpChjR</td>\n",
       "      <td>0.506</td>\n",
       "      <td>0.676</td>\n",
       "      <td>9</td>\n",
       "      <td>-6.652</td>\n",
       "      <td>0.34500</td>\n",
       "      <td>0.0958</td>\n",
       "      <td>0.000000</td>\n",
       "      <td>0.1180</td>\n",
       "      <td>0.4970</td>\n",
       "      <td>145.842</td>\n",
       "      <td>208520</td>\n",
       "      <td>Pop</td>\n",
       "    </tr>\n",
       "    <tr>\n",
       "      <th>31</th>\n",
       "      <td>Dua Lipa</td>\n",
       "      <td>Future Nostalgia</td>\n",
       "      <td>Break My Heart</td>\n",
       "      <td>017PF4Q3l4DBUiWoXk4OWT</td>\n",
       "      <td>0.729</td>\n",
       "      <td>0.730</td>\n",
       "      <td>4</td>\n",
       "      <td>-3.434</td>\n",
       "      <td>0.16700</td>\n",
       "      <td>0.0883</td>\n",
       "      <td>0.000001</td>\n",
       "      <td>0.3490</td>\n",
       "      <td>0.4670</td>\n",
       "      <td>113.013</td>\n",
       "      <td>221820</td>\n",
       "      <td>Dance-pop/Disco</td>\n",
       "    </tr>\n",
       "    <tr>\n",
       "      <th>32</th>\n",
       "      <td>BTS</td>\n",
       "      <td>Dynamite (DayTime Version)</td>\n",
       "      <td>Dynamite</td>\n",
       "      <td>0t1kP63rueHleOhQkYSXFY</td>\n",
       "      <td>0.765</td>\n",
       "      <td>0.746</td>\n",
       "      <td>6</td>\n",
       "      <td>-4.410</td>\n",
       "      <td>0.01120</td>\n",
       "      <td>0.0993</td>\n",
       "      <td>0.000000</td>\n",
       "      <td>0.0936</td>\n",
       "      <td>0.7370</td>\n",
       "      <td>114.044</td>\n",
       "      <td>199054</td>\n",
       "      <td>Disco-pop</td>\n",
       "    </tr>\n",
       "    <tr>\n",
       "      <th>33</th>\n",
       "      <td>BENEE</td>\n",
       "      <td>Hey u x</td>\n",
       "      <td>Supalonely (feat. Gus Dapperton)</td>\n",
       "      <td>3GZoWLVbmxcBys6g0DLFLf</td>\n",
       "      <td>0.631</td>\n",
       "      <td>0.862</td>\n",
       "      <td>7</td>\n",
       "      <td>-4.746</td>\n",
       "      <td>0.29100</td>\n",
       "      <td>0.0515</td>\n",
       "      <td>0.000209</td>\n",
       "      <td>0.1230</td>\n",
       "      <td>0.8410</td>\n",
       "      <td>128.978</td>\n",
       "      <td>223488</td>\n",
       "      <td>Alternative/Indie</td>\n",
       "    </tr>\n",
       "    <tr>\n",
       "      <th>34</th>\n",
       "      <td>Surf Mesa</td>\n",
       "      <td>ily (i love you baby) (feat. Emilee)</td>\n",
       "      <td>ily (i love you baby) (feat. Emilee)</td>\n",
       "      <td>62aP9fBQKYKxi7PDXwcUAS</td>\n",
       "      <td>0.774</td>\n",
       "      <td>0.674</td>\n",
       "      <td>11</td>\n",
       "      <td>-7.567</td>\n",
       "      <td>0.06860</td>\n",
       "      <td>0.0892</td>\n",
       "      <td>0.001880</td>\n",
       "      <td>0.3930</td>\n",
       "      <td>0.3300</td>\n",
       "      <td>112.050</td>\n",
       "      <td>176547</td>\n",
       "      <td>Dance/Electronic</td>\n",
       "    </tr>\n",
       "    <tr>\n",
       "      <th>35</th>\n",
       "      <td>Lady Gaga</td>\n",
       "      <td>Chromatica</td>\n",
       "      <td>Rain On Me (with Ariana Grande)</td>\n",
       "      <td>7ju97lgwC2rKQ6wwsf9no9</td>\n",
       "      <td>0.855</td>\n",
       "      <td>0.672</td>\n",
       "      <td>9</td>\n",
       "      <td>-3.764</td>\n",
       "      <td>0.02100</td>\n",
       "      <td>0.0397</td>\n",
       "      <td>0.000000</td>\n",
       "      <td>0.3230</td>\n",
       "      <td>0.6460</td>\n",
       "      <td>123.056</td>\n",
       "      <td>182200</td>\n",
       "      <td>Pop</td>\n",
       "    </tr>\n",
       "    <tr>\n",
       "      <th>36</th>\n",
       "      <td>Travis Scott</td>\n",
       "      <td>HIGHEST IN THE ROOM</td>\n",
       "      <td>HIGHEST IN THE ROOM</td>\n",
       "      <td>3eekarcy7kvN4yt5ZFzltW</td>\n",
       "      <td>0.427</td>\n",
       "      <td>0.598</td>\n",
       "      <td>7</td>\n",
       "      <td>-8.764</td>\n",
       "      <td>0.05460</td>\n",
       "      <td>0.0317</td>\n",
       "      <td>0.000006</td>\n",
       "      <td>0.2100</td>\n",
       "      <td>0.0605</td>\n",
       "      <td>76.469</td>\n",
       "      <td>175721</td>\n",
       "      <td>Hip-Hop/Rap</td>\n",
       "    </tr>\n",
       "    <tr>\n",
       "      <th>37</th>\n",
       "      <td>Post Malone</td>\n",
       "      <td>Hollywood's Bleeding</td>\n",
       "      <td>Sunflower - Spider-Man: Into the Spider-Verse</td>\n",
       "      <td>0RiRZpuVRbi7oqRdSMwhQY</td>\n",
       "      <td>0.522</td>\n",
       "      <td>0.755</td>\n",
       "      <td>2</td>\n",
       "      <td>-4.368</td>\n",
       "      <td>0.53300</td>\n",
       "      <td>0.0575</td>\n",
       "      <td>0.000000</td>\n",
       "      <td>0.0685</td>\n",
       "      <td>0.9250</td>\n",
       "      <td>89.960</td>\n",
       "      <td>157560</td>\n",
       "      <td>Dreampop/Hip-Hop/R&amp;B</td>\n",
       "    </tr>\n",
       "    <tr>\n",
       "      <th>38</th>\n",
       "      <td>Maluma</td>\n",
       "      <td>PAPI JUANCHO</td>\n",
       "      <td>Hawái</td>\n",
       "      <td>1yoMvmasuxZfqHEipJhRbp</td>\n",
       "      <td>0.727</td>\n",
       "      <td>0.783</td>\n",
       "      <td>6</td>\n",
       "      <td>-3.454</td>\n",
       "      <td>0.18500</td>\n",
       "      <td>0.3890</td>\n",
       "      <td>0.000025</td>\n",
       "      <td>0.0626</td>\n",
       "      <td>0.5580</td>\n",
       "      <td>180.067</td>\n",
       "      <td>199112</td>\n",
       "      <td>Pop</td>\n",
       "    </tr>\n",
       "    <tr>\n",
       "      <th>39</th>\n",
       "      <td>Regard</td>\n",
       "      <td>Ride It</td>\n",
       "      <td>Ride It</td>\n",
       "      <td>2tnVG71enUj33Ic2nFN6kZ</td>\n",
       "      <td>0.751</td>\n",
       "      <td>0.880</td>\n",
       "      <td>7</td>\n",
       "      <td>-4.258</td>\n",
       "      <td>0.17700</td>\n",
       "      <td>0.0874</td>\n",
       "      <td>0.000064</td>\n",
       "      <td>0.1060</td>\n",
       "      <td>0.8840</td>\n",
       "      <td>117.948</td>\n",
       "      <td>157606</td>\n",
       "      <td>Dance/Electronic</td>\n",
       "    </tr>\n",
       "    <tr>\n",
       "      <th>40</th>\n",
       "      <td>Travis Scott</td>\n",
       "      <td>Birds In The Trap Sing McKnight</td>\n",
       "      <td>goosebumps</td>\n",
       "      <td>6gBFPUFcJLzWGx4lenP6h2</td>\n",
       "      <td>0.728</td>\n",
       "      <td>0.841</td>\n",
       "      <td>7</td>\n",
       "      <td>-3.370</td>\n",
       "      <td>0.08470</td>\n",
       "      <td>0.0484</td>\n",
       "      <td>0.000000</td>\n",
       "      <td>0.1490</td>\n",
       "      <td>0.4300</td>\n",
       "      <td>130.049</td>\n",
       "      <td>243837</td>\n",
       "      <td>Hip-Hop/Rap</td>\n",
       "    </tr>\n",
       "    <tr>\n",
       "      <th>41</th>\n",
       "      <td>Black Eyed Peas</td>\n",
       "      <td>Translation</td>\n",
       "      <td>RITMO (Bad Boys For Life)</td>\n",
       "      <td>4NCsrTzgVfsDo8nWyP8PPc</td>\n",
       "      <td>0.704</td>\n",
       "      <td>0.723</td>\n",
       "      <td>10</td>\n",
       "      <td>-7.088</td>\n",
       "      <td>0.02590</td>\n",
       "      <td>0.0571</td>\n",
       "      <td>0.001090</td>\n",
       "      <td>0.7920</td>\n",
       "      <td>0.6840</td>\n",
       "      <td>105.095</td>\n",
       "      <td>214935</td>\n",
       "      <td>Pop</td>\n",
       "    </tr>\n",
       "    <tr>\n",
       "      <th>42</th>\n",
       "      <td>THE SCOTTS</td>\n",
       "      <td>THE SCOTTS</td>\n",
       "      <td>THE SCOTTS</td>\n",
       "      <td>39Yp9wwQiSRIDOvrVg7mbk</td>\n",
       "      <td>0.537</td>\n",
       "      <td>0.716</td>\n",
       "      <td>0</td>\n",
       "      <td>-7.648</td>\n",
       "      <td>0.23300</td>\n",
       "      <td>0.0514</td>\n",
       "      <td>0.000000</td>\n",
       "      <td>0.1570</td>\n",
       "      <td>0.2800</td>\n",
       "      <td>129.979</td>\n",
       "      <td>165978</td>\n",
       "      <td>Hip-Hop/Rap</td>\n",
       "    </tr>\n",
       "    <tr>\n",
       "      <th>43</th>\n",
       "      <td>Bad Bunny</td>\n",
       "      <td>YHLQMDLG</td>\n",
       "      <td>Safaera</td>\n",
       "      <td>2DEZmgHKAvm41k4J3R2E9Y</td>\n",
       "      <td>0.829</td>\n",
       "      <td>0.607</td>\n",
       "      <td>2</td>\n",
       "      <td>-4.074</td>\n",
       "      <td>0.01030</td>\n",
       "      <td>0.3790</td>\n",
       "      <td>0.000000</td>\n",
       "      <td>0.1070</td>\n",
       "      <td>0.6850</td>\n",
       "      <td>96.172</td>\n",
       "      <td>295177</td>\n",
       "      <td>Alternative/reggaeton/experimental</td>\n",
       "    </tr>\n",
       "    <tr>\n",
       "      <th>44</th>\n",
       "      <td>Billie Eilish</td>\n",
       "      <td>lovely (with Khalid)</td>\n",
       "      <td>lovely (with Khalid)</td>\n",
       "      <td>0u2P5u6lvoDfwTYjAADbn4</td>\n",
       "      <td>0.296</td>\n",
       "      <td>0.351</td>\n",
       "      <td>4</td>\n",
       "      <td>-10.109</td>\n",
       "      <td>0.93400</td>\n",
       "      <td>0.0333</td>\n",
       "      <td>0.000000</td>\n",
       "      <td>0.0950</td>\n",
       "      <td>0.1200</td>\n",
       "      <td>115.284</td>\n",
       "      <td>200186</td>\n",
       "      <td>Chamber pop</td>\n",
       "    </tr>\n",
       "    <tr>\n",
       "      <th>45</th>\n",
       "      <td>Juice WRLD</td>\n",
       "      <td>Goodbye &amp; Good Riddance</td>\n",
       "      <td>Lucid Dreams</td>\n",
       "      <td>285pBltuF7vW8TeWk8hdRR</td>\n",
       "      <td>0.566</td>\n",
       "      <td>0.511</td>\n",
       "      <td>6</td>\n",
       "      <td>-7.230</td>\n",
       "      <td>0.34900</td>\n",
       "      <td>0.2000</td>\n",
       "      <td>0.000000</td>\n",
       "      <td>0.3400</td>\n",
       "      <td>0.2180</td>\n",
       "      <td>83.903</td>\n",
       "      <td>239836</td>\n",
       "      <td>Pop</td>\n",
       "    </tr>\n",
       "    <tr>\n",
       "      <th>46</th>\n",
       "      <td>Ariana Grande</td>\n",
       "      <td>Stuck with U</td>\n",
       "      <td>Stuck with U (with Justin Bieber)</td>\n",
       "      <td>4HBZA5flZLE435QTztThqH</td>\n",
       "      <td>0.450</td>\n",
       "      <td>0.597</td>\n",
       "      <td>8</td>\n",
       "      <td>-6.658</td>\n",
       "      <td>0.22300</td>\n",
       "      <td>0.0418</td>\n",
       "      <td>0.000000</td>\n",
       "      <td>0.3820</td>\n",
       "      <td>0.5370</td>\n",
       "      <td>178.765</td>\n",
       "      <td>228482</td>\n",
       "      <td>Pop</td>\n",
       "    </tr>\n",
       "    <tr>\n",
       "      <th>47</th>\n",
       "      <td>JP Saxe</td>\n",
       "      <td>If the World Was Ending (feat. Julia Michaels)</td>\n",
       "      <td>If the World Was Ending - feat. Julia Michaels</td>\n",
       "      <td>2kJwzbxV2ppxnQoYw4GLBZ</td>\n",
       "      <td>0.473</td>\n",
       "      <td>0.464</td>\n",
       "      <td>1</td>\n",
       "      <td>-10.086</td>\n",
       "      <td>0.86600</td>\n",
       "      <td>0.1290</td>\n",
       "      <td>0.000000</td>\n",
       "      <td>0.1090</td>\n",
       "      <td>0.6040</td>\n",
       "      <td>75.801</td>\n",
       "      <td>208687</td>\n",
       "      <td>Pop</td>\n",
       "    </tr>\n",
       "    <tr>\n",
       "      <th>48</th>\n",
       "      <td>Dua Lipa</td>\n",
       "      <td>Future Nostalgia</td>\n",
       "      <td>Physical</td>\n",
       "      <td>3AzjcOeAmA57TIOr9zF1ZW</td>\n",
       "      <td>0.844</td>\n",
       "      <td>0.647</td>\n",
       "      <td>0</td>\n",
       "      <td>-3.756</td>\n",
       "      <td>0.01370</td>\n",
       "      <td>0.0457</td>\n",
       "      <td>0.000658</td>\n",
       "      <td>0.1020</td>\n",
       "      <td>0.7460</td>\n",
       "      <td>146.967</td>\n",
       "      <td>193829</td>\n",
       "      <td>Dance/Electronic</td>\n",
       "    </tr>\n",
       "    <tr>\n",
       "      <th>49</th>\n",
       "      <td>Travis Scott</td>\n",
       "      <td>ASTROWORLD</td>\n",
       "      <td>SICKO MODE</td>\n",
       "      <td>2xLMifQCjDGFmkHkpNLD9h</td>\n",
       "      <td>0.730</td>\n",
       "      <td>0.834</td>\n",
       "      <td>8</td>\n",
       "      <td>-3.714</td>\n",
       "      <td>0.00513</td>\n",
       "      <td>0.2220</td>\n",
       "      <td>0.000000</td>\n",
       "      <td>0.1240</td>\n",
       "      <td>0.4460</td>\n",
       "      <td>155.008</td>\n",
       "      <td>312820</td>\n",
       "      <td>Hip-Hop/Rap</td>\n",
       "    </tr>\n",
       "  </tbody>\n",
       "</table>\n",
       "</div>"
      ],
      "text/plain": [
       "             artist                                              album  \\\n",
       "0        The Weeknd                                        After Hours   \n",
       "1       Tones And I                                       Dance Monkey   \n",
       "2       Roddy Ricch              Please Excuse Me For Being Antisocial   \n",
       "3         SAINt JHN                              Roses (Imanbek Remix)   \n",
       "4          Dua Lipa                                   Future Nostalgia   \n",
       "5            DaBaby                                   BLAME IT ON BABY   \n",
       "6      Harry Styles                                          Fine Line   \n",
       "7             Powfu                   death bed (coffee for your head)   \n",
       "8     Trevor Daniel                                           Nicotine   \n",
       "9     Lewis Capaldi            Divinely Uninspired To A Hellish Extent   \n",
       "10          KAROL G                                               Tusa   \n",
       "11   Arizona Zervas                                            ROXANNE   \n",
       "12      Post Malone                               Hollywood's Bleeding   \n",
       "13        Lil Mosey                                 Certified Hitmaker   \n",
       "14    Justin Bieber                                            Changes   \n",
       "15            Drake                               Dark Lane Demo Tapes   \n",
       "16    Lewis Capaldi  Divinely Uninspired To A Hellish Extent (Exten...   \n",
       "17         Doja Cat                                           Hot Pink   \n",
       "18         Maroon 5                                           Memories   \n",
       "19           Future                                      High Off Life   \n",
       "20        Jawsh 685                   Savage Love (Laxed - Siren Beat)   \n",
       "21     Harry Styles                                          Fine Line   \n",
       "22            Topic                                        Breaking Me   \n",
       "23         24kGoldn                             Mood (feat. iann dior)   \n",
       "24    Billie Eilish                                everything i wanted   \n",
       "25     Shawn Mendes                              Shawn Mendes (Deluxe)   \n",
       "26    Billie Eilish           WHEN WE ALL FALL ASLEEP, WHERE DO WE GO?   \n",
       "27          Cardi B                    WAP (feat. Megan Thee Stallion)   \n",
       "28         Surfaces                                 Where the Light Is   \n",
       "29           Eminem                            Music To Be Murdered By   \n",
       "30    Justin Bieber                                            Changes   \n",
       "31         Dua Lipa                                   Future Nostalgia   \n",
       "32              BTS                         Dynamite (DayTime Version)   \n",
       "33            BENEE                                            Hey u x   \n",
       "34        Surf Mesa               ily (i love you baby) (feat. Emilee)   \n",
       "35        Lady Gaga                                         Chromatica   \n",
       "36     Travis Scott                                HIGHEST IN THE ROOM   \n",
       "37      Post Malone                               Hollywood's Bleeding   \n",
       "38           Maluma                                       PAPI JUANCHO   \n",
       "39           Regard                                            Ride It   \n",
       "40     Travis Scott                    Birds In The Trap Sing McKnight   \n",
       "41  Black Eyed Peas                                        Translation   \n",
       "42       THE SCOTTS                                         THE SCOTTS   \n",
       "43        Bad Bunny                                           YHLQMDLG   \n",
       "44    Billie Eilish                               lovely (with Khalid)   \n",
       "45       Juice WRLD                            Goodbye & Good Riddance   \n",
       "46    Ariana Grande                                       Stuck with U   \n",
       "47          JP Saxe     If the World Was Ending (feat. Julia Michaels)   \n",
       "48         Dua Lipa                                   Future Nostalgia   \n",
       "49     Travis Scott                                         ASTROWORLD   \n",
       "\n",
       "                                        track_name                track_id  \\\n",
       "0                                  Blinding Lights  0VjIjW4GlUZAMYd2vXMi3b   \n",
       "1                                     Dance Monkey  1rgnBhdG2JDFTbYkYRZAku   \n",
       "2                                          The Box  0nbXyq5TXYPCO7pr3N8S4I   \n",
       "3                            Roses - Imanbek Remix  2Wo6QQD1KMDWeFkkjLqwx5   \n",
       "4                                  Don't Start Now  3PfIrDoz19wz7qK7tYeu62   \n",
       "5                     ROCKSTAR (feat. Roddy Ricch)  7ytR5pFWmSjzHJIeQkgog4   \n",
       "6                                 Watermelon Sugar  6UelLqGlWMcVH1E5c4H7lY   \n",
       "7                 death bed (coffee for your head)  7eJMfftS33KTjuF7lTsMCx   \n",
       "8                                          Falling  2rRJrJEo19S2J82BDsQ3F7   \n",
       "9                                Someone You Loved  7qEHsqek33rTcFNT9PFqLf   \n",
       "10                                            Tusa  7k4t7uLgtOxPwTpFmtJNTY   \n",
       "11                                         ROXANNE  696DnlkuDOXcMAnKlTgXXK   \n",
       "12                                         Circles  21jGcNKet2qwijlDFuPiPb   \n",
       "13                                 Blueberry Faygo  22LAwLoDA5b4AaGSkg6bKW   \n",
       "14                        Intentions (feat. Quavo)  4umIPjkehX1r7uhmGvXiSV   \n",
       "15                                    Toosie Slide  466cKvZn1j45IpxDdYZqdA   \n",
       "16                                   Before You Go  2gMXnyrvIjhVBUZwvLZDMP   \n",
       "17                                          Say So  3Dv1eDb0MEgF93GpLXlucZ   \n",
       "18                                        Memories  2b8fOow8UzyDFAE27YhOZM   \n",
       "19                      Life Is Good (feat. Drake)  1K5KBOgreBi5fkEHvg5ap3   \n",
       "20                Savage Love (Laxed - Siren Beat)  1xQ6trAsedVPCdbtDAmk0c   \n",
       "21                                       Adore You  3jjujdWJ72nww5eGnfs2E7   \n",
       "22                                     Breaking Me  3H7ihDc1dqLriiWXwsc2po   \n",
       "23                          Mood (feat. iann dior)  3tjFYV6RSFtuktYl3ZtYcq   \n",
       "24                             everything i wanted  3ZCTVFBt2Brf31RLEnCkWJ   \n",
       "25                                        Señorita  6v3KW9xbzN5yKLt9YKDYA2   \n",
       "26                                         bad guy  2Fxmhks0bxGSBdJ92vM42m   \n",
       "27                 WAP (feat. Megan Thee Stallion)  4Oun2ylbjFKMPTiaSbbCih   \n",
       "28                                     Sunday Best  1Cv1YLb4q0RzL6pybtaMLo   \n",
       "29                     Godzilla (feat. Juice WRLD)  7FIWs0pqAYbP91WWM0vlTQ   \n",
       "30                                           Yummy  16wAOAZ2OkqoIDN7TpChjR   \n",
       "31                                  Break My Heart  017PF4Q3l4DBUiWoXk4OWT   \n",
       "32                                        Dynamite  0t1kP63rueHleOhQkYSXFY   \n",
       "33                Supalonely (feat. Gus Dapperton)  3GZoWLVbmxcBys6g0DLFLf   \n",
       "34            ily (i love you baby) (feat. Emilee)  62aP9fBQKYKxi7PDXwcUAS   \n",
       "35                 Rain On Me (with Ariana Grande)  7ju97lgwC2rKQ6wwsf9no9   \n",
       "36                             HIGHEST IN THE ROOM  3eekarcy7kvN4yt5ZFzltW   \n",
       "37   Sunflower - Spider-Man: Into the Spider-Verse  0RiRZpuVRbi7oqRdSMwhQY   \n",
       "38                                           Hawái  1yoMvmasuxZfqHEipJhRbp   \n",
       "39                                         Ride It  2tnVG71enUj33Ic2nFN6kZ   \n",
       "40                                      goosebumps  6gBFPUFcJLzWGx4lenP6h2   \n",
       "41                       RITMO (Bad Boys For Life)  4NCsrTzgVfsDo8nWyP8PPc   \n",
       "42                                      THE SCOTTS  39Yp9wwQiSRIDOvrVg7mbk   \n",
       "43                                         Safaera  2DEZmgHKAvm41k4J3R2E9Y   \n",
       "44                            lovely (with Khalid)  0u2P5u6lvoDfwTYjAADbn4   \n",
       "45                                    Lucid Dreams  285pBltuF7vW8TeWk8hdRR   \n",
       "46               Stuck with U (with Justin Bieber)  4HBZA5flZLE435QTztThqH   \n",
       "47  If the World Was Ending - feat. Julia Michaels  2kJwzbxV2ppxnQoYw4GLBZ   \n",
       "48                                        Physical  3AzjcOeAmA57TIOr9zF1ZW   \n",
       "49                                      SICKO MODE  2xLMifQCjDGFmkHkpNLD9h   \n",
       "\n",
       "    energy  danceability  key  loudness  acousticness  speechiness  \\\n",
       "0    0.730         0.514    1    -5.934       0.00146       0.0598   \n",
       "1    0.593         0.825    6    -6.401       0.68800       0.0988   \n",
       "2    0.586         0.896   10    -6.687       0.10400       0.0559   \n",
       "3    0.721         0.785    8    -5.457       0.01490       0.0506   \n",
       "4    0.793         0.793   11    -4.521       0.01230       0.0830   \n",
       "5    0.690         0.746   11    -7.956       0.24700       0.1640   \n",
       "6    0.816         0.548    0    -4.209       0.12200       0.0465   \n",
       "7    0.431         0.726    8    -8.765       0.73100       0.1350   \n",
       "8    0.430         0.784   10    -8.756       0.12300       0.0364   \n",
       "9    0.405         0.501    1    -5.679       0.75100       0.0319   \n",
       "10   0.715         0.803    2    -3.280       0.29500       0.2980   \n",
       "11   0.601         0.621    6    -5.616       0.05220       0.1480   \n",
       "12   0.762         0.695    0    -3.497       0.19200       0.0395   \n",
       "13   0.554         0.774    0    -7.909       0.20700       0.0383   \n",
       "14   0.546         0.806    9    -6.637       0.30000       0.0575   \n",
       "15   0.490         0.830    1    -8.820       0.28900       0.2090   \n",
       "16   0.575         0.459    3    -4.858       0.60400       0.0573   \n",
       "17   0.673         0.787   11    -4.577       0.25600       0.1580   \n",
       "18   0.320         0.764   11    -7.209       0.83700       0.0546   \n",
       "19   0.574         0.795    2    -6.903       0.06700       0.4870   \n",
       "20   0.481         0.767    0    -8.520       0.23400       0.0803   \n",
       "21   0.771         0.676    8    -3.675       0.02370       0.0483   \n",
       "22   0.720         0.789    8    -5.652       0.22300       0.2180   \n",
       "23   0.722         0.700    7    -3.558       0.22100       0.0369   \n",
       "24   0.225         0.704    6   -14.454       0.90200       0.0994   \n",
       "25   0.548         0.759    9    -6.049       0.03920       0.0290   \n",
       "26   0.425         0.701    7   -10.965       0.32800       0.3750   \n",
       "27   0.454         0.935    1    -7.509       0.01940       0.3750   \n",
       "28   0.525         0.878    5    -6.832       0.18300       0.0578   \n",
       "29   0.745         0.808   10    -5.260       0.14500       0.3420   \n",
       "30   0.506         0.676    9    -6.652       0.34500       0.0958   \n",
       "31   0.729         0.730    4    -3.434       0.16700       0.0883   \n",
       "32   0.765         0.746    6    -4.410       0.01120       0.0993   \n",
       "33   0.631         0.862    7    -4.746       0.29100       0.0515   \n",
       "34   0.774         0.674   11    -7.567       0.06860       0.0892   \n",
       "35   0.855         0.672    9    -3.764       0.02100       0.0397   \n",
       "36   0.427         0.598    7    -8.764       0.05460       0.0317   \n",
       "37   0.522         0.755    2    -4.368       0.53300       0.0575   \n",
       "38   0.727         0.783    6    -3.454       0.18500       0.3890   \n",
       "39   0.751         0.880    7    -4.258       0.17700       0.0874   \n",
       "40   0.728         0.841    7    -3.370       0.08470       0.0484   \n",
       "41   0.704         0.723   10    -7.088       0.02590       0.0571   \n",
       "42   0.537         0.716    0    -7.648       0.23300       0.0514   \n",
       "43   0.829         0.607    2    -4.074       0.01030       0.3790   \n",
       "44   0.296         0.351    4   -10.109       0.93400       0.0333   \n",
       "45   0.566         0.511    6    -7.230       0.34900       0.2000   \n",
       "46   0.450         0.597    8    -6.658       0.22300       0.0418   \n",
       "47   0.473         0.464    1   -10.086       0.86600       0.1290   \n",
       "48   0.844         0.647    0    -3.756       0.01370       0.0457   \n",
       "49   0.730         0.834    8    -3.714       0.00513       0.2220   \n",
       "\n",
       "    instrumentalness  liveness  valence    tempo  duration_ms  \\\n",
       "0           0.000095    0.0897   0.3340  171.005       200040   \n",
       "1           0.000161    0.1700   0.5400   98.078       209755   \n",
       "2           0.000000    0.7900   0.6420  116.971       196653   \n",
       "3           0.004320    0.2850   0.8940  121.962       176219   \n",
       "4           0.000000    0.0951   0.6790  123.950       183290   \n",
       "5           0.000000    0.1010   0.4970   89.977       181733   \n",
       "6           0.000000    0.3350   0.5570   95.390       174000   \n",
       "7           0.000000    0.6960   0.3480  144.026       173333   \n",
       "8           0.000000    0.0887   0.2360  127.087       159382   \n",
       "9           0.000000    0.1050   0.4460  109.891       182161   \n",
       "10          0.000134    0.0574   0.5740  101.085       200960   \n",
       "11          0.000000    0.4600   0.4570  116.735       163636   \n",
       "12          0.002440    0.0863   0.5530  120.042       215280   \n",
       "13          0.000000    0.1320   0.3490   99.034       162547   \n",
       "14          0.000000    0.1020   0.8740  147.986       212867   \n",
       "15          0.000003    0.1130   0.8450   81.604       247059   \n",
       "16          0.000000    0.0885   0.1830  111.881       215107   \n",
       "17          0.000004    0.0904   0.7860  110.962       237893   \n",
       "18          0.000000    0.0822   0.5750   91.019       189486   \n",
       "19          0.000000    0.1500   0.5370  142.053       237918   \n",
       "20          0.000000    0.2690   0.7610  150.076       171375   \n",
       "21          0.000007    0.1020   0.5690   99.048       207133   \n",
       "22          0.000000    0.1290   0.6640  122.031       166794   \n",
       "23          0.000000    0.2720   0.7560   90.989       140526   \n",
       "24          0.657000    0.1060   0.2430  120.006       245426   \n",
       "25          0.000000    0.0828   0.7490  116.967       190800   \n",
       "26          0.130000    0.1000   0.5620  135.128       194088   \n",
       "27          0.000000    0.0824   0.3570  133.073       187541   \n",
       "28          0.000000    0.0714   0.6940  112.022       158571   \n",
       "29          0.000000    0.2920   0.8290  165.995       210800   \n",
       "30          0.000000    0.1180   0.4970  145.842       208520   \n",
       "31          0.000001    0.3490   0.4670  113.013       221820   \n",
       "32          0.000000    0.0936   0.7370  114.044       199054   \n",
       "33          0.000209    0.1230   0.8410  128.978       223488   \n",
       "34          0.001880    0.3930   0.3300  112.050       176547   \n",
       "35          0.000000    0.3230   0.6460  123.056       182200   \n",
       "36          0.000006    0.2100   0.0605   76.469       175721   \n",
       "37          0.000000    0.0685   0.9250   89.960       157560   \n",
       "38          0.000025    0.0626   0.5580  180.067       199112   \n",
       "39          0.000064    0.1060   0.8840  117.948       157606   \n",
       "40          0.000000    0.1490   0.4300  130.049       243837   \n",
       "41          0.001090    0.7920   0.6840  105.095       214935   \n",
       "42          0.000000    0.1570   0.2800  129.979       165978   \n",
       "43          0.000000    0.1070   0.6850   96.172       295177   \n",
       "44          0.000000    0.0950   0.1200  115.284       200186   \n",
       "45          0.000000    0.3400   0.2180   83.903       239836   \n",
       "46          0.000000    0.3820   0.5370  178.765       228482   \n",
       "47          0.000000    0.1090   0.6040   75.801       208687   \n",
       "48          0.000658    0.1020   0.7460  146.967       193829   \n",
       "49          0.000000    0.1240   0.4460  155.008       312820   \n",
       "\n",
       "                                 genre  \n",
       "0                             R&B/Soul  \n",
       "1                    Alternative/Indie  \n",
       "2                          Hip-Hop/Rap  \n",
       "3                     Dance/Electronic  \n",
       "4                             Nu-disco  \n",
       "5                          Hip-Hop/Rap  \n",
       "6                                  Pop  \n",
       "7                          Hip-Hop/Rap  \n",
       "8              R&B/Hip-Hop alternative  \n",
       "9                    Alternative/Indie  \n",
       "10                                 Pop  \n",
       "11                         Hip-Hop/Rap  \n",
       "12                       Pop/Soft Rock  \n",
       "13                         Hip-Hop/Rap  \n",
       "14                                 Pop  \n",
       "15                         Hip-Hop/Rap  \n",
       "16                   Alternative/Indie  \n",
       "17                            R&B/Soul  \n",
       "18                                 Pop  \n",
       "19                         Hip-Hop/Rap  \n",
       "20                         Hip-Hop/Rap  \n",
       "21                                 Pop  \n",
       "22                    Dance/Electronic  \n",
       "23                             Pop rap  \n",
       "24                                 Pop  \n",
       "25                                 Pop  \n",
       "26                         Electro-pop  \n",
       "27                        Hip-Hop/Trap  \n",
       "28                         Electro-pop  \n",
       "29                         Hip-Hop/Rap  \n",
       "30                                 Pop  \n",
       "31                     Dance-pop/Disco  \n",
       "32                           Disco-pop  \n",
       "33                   Alternative/Indie  \n",
       "34                    Dance/Electronic  \n",
       "35                                 Pop  \n",
       "36                         Hip-Hop/Rap  \n",
       "37                Dreampop/Hip-Hop/R&B  \n",
       "38                                 Pop  \n",
       "39                    Dance/Electronic  \n",
       "40                         Hip-Hop/Rap  \n",
       "41                                 Pop  \n",
       "42                         Hip-Hop/Rap  \n",
       "43  Alternative/reggaeton/experimental  \n",
       "44                         Chamber pop  \n",
       "45                                 Pop  \n",
       "46                                 Pop  \n",
       "47                                 Pop  \n",
       "48                    Dance/Electronic  \n",
       "49                         Hip-Hop/Rap  "
      ]
     },
     "execution_count": 15,
     "metadata": {},
     "output_type": "execute_result"
    }
   ],
   "source": [
    "top_fifty"
   ]
  },
  {
   "cell_type": "markdown",
   "id": "official-shoot",
   "metadata": {},
   "source": [
    "## Exploratory Data Analysis\n",
    "\n",
    "This section shows basic analysis of this data set to determine the following information:\n",
    "\n",
    "1. Data types\n",
    "2. NaN values\n",
    "3. Duplicate values\n",
    "4. Missing values"
   ]
  },
  {
   "cell_type": "markdown",
   "id": "painted-essay",
   "metadata": {},
   "source": [
    "### Data Types\n",
    "\n",
    "This data set is made of three data types:\n",
    "\n",
    "- float64 (9 columns)\n",
    "- objects(5 columns) # Point to string values of different lengths. \n",
    "- int64 (2 columns)"
   ]
  },
  {
   "cell_type": "code",
   "execution_count": 18,
   "id": "criminal-movie",
   "metadata": {
    "scrolled": false
   },
   "outputs": [
    {
     "data": {
      "text/plain": [
       "<AxesSubplot:>"
      ]
     },
     "execution_count": 18,
     "metadata": {},
     "output_type": "execute_result"
    },
    {
     "data": {
      "image/png": "[encoded data removed]",
      "text/plain": [
       "<Figure size 432x288 with 1 Axes>"
      ]
     },
     "metadata": {
      "needs_background": "light"
     },
     "output_type": "display_data"
    }
   ],
   "source": [
    "top_fifty.dtypes.value_counts().plot.bar()"
   ]
  },
  {
   "cell_type": "code",
   "execution_count": 16,
   "id": "accessory-synthetic",
   "metadata": {},
   "outputs": [
    {
     "data": {
      "text/plain": [
       "float64    9\n",
       "object     5\n",
       "int64      2\n",
       "dtype: int64"
      ]
     },
     "execution_count": 16,
     "metadata": {},
     "output_type": "execute_result"
    }
   ],
   "source": [
    "top_fifty.dtypes.value_counts()"
   ]
  },
  {
   "cell_type": "code",
   "execution_count": 17,
   "id": "ahead-elizabeth",
   "metadata": {
    "scrolled": true
   },
   "outputs": [
    {
     "data": {
      "text/plain": [
       "artist               object\n",
       "album                object\n",
       "track_name           object\n",
       "track_id             object\n",
       "energy              float64\n",
       "danceability        float64\n",
       "key                   int64\n",
       "loudness            float64\n",
       "acousticness        float64\n",
       "speechiness         float64\n",
       "instrumentalness    float64\n",
       "liveness            float64\n",
       "valence             float64\n",
       "tempo               float64\n",
       "duration_ms           int64\n",
       "genre                object\n",
       "dtype: object"
      ]
     },
     "execution_count": 17,
     "metadata": {},
     "output_type": "execute_result"
    }
   ],
   "source": [
    "top_fifty.dtypes"
   ]
  },
  {
   "cell_type": "markdown",
   "id": "packed-premium",
   "metadata": {},
   "source": [
    "### NaN or Null Values\n",
    "\n",
    "This data set contains no NaN (an acronym for Not a Number) or Null values. This means that this set contains no missing data. Pandas treat None and NaN as essentially interchangeable for indicating missing or null values. "
   ]
  },
  {
   "cell_type": "code",
   "execution_count": 260,
   "id": "common-encyclopedia",
   "metadata": {},
   "outputs": [
    {
     "data": {
      "text/plain": [
       "False"
      ]
     },
     "execution_count": 260,
     "metadata": {},
     "output_type": "execute_result"
    }
   ],
   "source": [
    "top_fifty.isnull().any().any() # Determines if there are any True values, in which case the output would be True."
   ]
  },
  {
   "cell_type": "code",
   "execution_count": 261,
   "id": "qualified-exhibit",
   "metadata": {
    "scrolled": true
   },
   "outputs": [
    {
     "data": {
      "text/plain": [
       "artist              0\n",
       "album               0\n",
       "track_name          0\n",
       "track_id            0\n",
       "energy              0\n",
       "danceability        0\n",
       "key                 0\n",
       "loudness            0\n",
       "acousticness        0\n",
       "speechiness         0\n",
       "instrumentalness    0\n",
       "liveness            0\n",
       "valence             0\n",
       "tempo               0\n",
       "duration_ms         0\n",
       "genre               0\n",
       "dtype: int64"
      ]
     },
     "execution_count": 261,
     "metadata": {},
     "output_type": "execute_result"
    }
   ],
   "source": [
    "top_fifty.isnull().sum()"
   ]
  },
  {
   "cell_type": "code",
   "execution_count": 259,
   "id": "encouraging-understanding",
   "metadata": {
    "scrolled": true
   },
   "outputs": [
    {
     "data": {
      "text/plain": [
       "artist              False\n",
       "album               False\n",
       "track_name          False\n",
       "track_id            False\n",
       "energy              False\n",
       "danceability        False\n",
       "key                 False\n",
       "loudness            False\n",
       "acousticness        False\n",
       "speechiness         False\n",
       "instrumentalness    False\n",
       "liveness            False\n",
       "valence             False\n",
       "tempo               False\n",
       "duration_ms         False\n",
       "genre               False\n",
       "dtype: bool"
      ]
     },
     "execution_count": 259,
     "metadata": {},
     "output_type": "execute_result"
    }
   ],
   "source": [
    "top_fifty.isnull().any()"
   ]
  },
  {
   "cell_type": "markdown",
   "id": "fabulous-indianapolis",
   "metadata": {},
   "source": [
    "### Duplicate Values \n",
    "\n",
    "This dataset contains no duplicate values."
   ]
  },
  {
   "cell_type": "code",
   "execution_count": 264,
   "id": "settled-passenger",
   "metadata": {
    "scrolled": true
   },
   "outputs": [
    {
     "data": {
      "text/plain": [
       "artist              0.0\n",
       "album               0.0\n",
       "track_name          0.0\n",
       "track_id            0.0\n",
       "energy              0.0\n",
       "danceability        0.0\n",
       "key                 0.0\n",
       "loudness            0.0\n",
       "acousticness        0.0\n",
       "speechiness         0.0\n",
       "instrumentalness    0.0\n",
       "liveness            0.0\n",
       "valence             0.0\n",
       "tempo               0.0\n",
       "duration_ms         0.0\n",
       "genre               0.0\n",
       "dtype: float64"
      ]
     },
     "execution_count": 264,
     "metadata": {},
     "output_type": "execute_result"
    }
   ],
   "source": [
    "top_fifty[top_fifty.duplicated(keep = False)].sum()"
   ]
  },
  {
   "cell_type": "code",
   "execution_count": 263,
   "id": "intensive-springer",
   "metadata": {},
   "outputs": [
    {
     "data": {
      "text/plain": [
       "artist              False\n",
       "album               False\n",
       "track_name          False\n",
       "track_id            False\n",
       "energy              False\n",
       "danceability        False\n",
       "key                 False\n",
       "loudness            False\n",
       "acousticness        False\n",
       "speechiness         False\n",
       "instrumentalness    False\n",
       "liveness            False\n",
       "valence             False\n",
       "tempo               False\n",
       "duration_ms         False\n",
       "genre               False\n",
       "dtype: bool"
      ]
     },
     "execution_count": 263,
     "metadata": {},
     "output_type": "execute_result"
    }
   ],
   "source": [
    "top_fifty[top_fifty.duplicated(keep = False)].any()"
   ]
  },
  {
   "cell_type": "markdown",
   "id": "supposed-lewis",
   "metadata": {},
   "source": [
    "## Descriptive Statistics\n",
    "\n",
    "In this section, I provide basic statistical details on 10 features of this dataset:\n",
    "\n",
    "1.  energy\n",
    "2.  danceability\n",
    "3.  loudness\n",
    "4.  accoustiness\n",
    "5.  speechiness\n",
    "6.  instrumentalness\n",
    "7.  liveness\n",
    "8.  valence\n",
    "9.  tempo\n",
    "10. duration"
   ]
  },
  {
   "cell_type": "markdown",
   "id": "breeding-palestinian",
   "metadata": {},
   "source": [
    "### Energy"
   ]
  },
  {
   "cell_type": "code",
   "execution_count": 265,
   "id": "clear-bennett",
   "metadata": {},
   "outputs": [
    {
     "data": {
      "text/plain": [
       "count    50.000000\n",
       "mean      0.609300\n",
       "std       0.154348\n",
       "min       0.225000\n",
       "25%       0.494000\n",
       "50%       0.597000\n",
       "75%       0.729750\n",
       "max       0.855000\n",
       "Name: energy, dtype: float64"
      ]
     },
     "execution_count": 265,
     "metadata": {},
     "output_type": "execute_result"
    }
   ],
   "source": [
    "top_fifty['energy'].describe()"
   ]
  },
  {
   "cell_type": "markdown",
   "id": "arranged-shade",
   "metadata": {},
   "source": [
    "### Danceability"
   ]
  },
  {
   "cell_type": "code",
   "execution_count": 266,
   "id": "mexican-instrument",
   "metadata": {},
   "outputs": [
    {
     "data": {
      "text/plain": [
       "count    50.000000\n",
       "mean      0.716720\n",
       "std       0.124975\n",
       "min       0.351000\n",
       "25%       0.672500\n",
       "50%       0.746000\n",
       "75%       0.794500\n",
       "max       0.935000\n",
       "Name: danceability, dtype: float64"
      ]
     },
     "execution_count": 266,
     "metadata": {},
     "output_type": "execute_result"
    }
   ],
   "source": [
    "top_fifty['danceability'].describe()"
   ]
  },
  {
   "cell_type": "markdown",
   "id": "surrounded-gateway",
   "metadata": {},
   "source": [
    "### Loudness"
   ]
  },
  {
   "cell_type": "code",
   "execution_count": 267,
   "id": "flush-document",
   "metadata": {},
   "outputs": [
    {
     "data": {
      "text/plain": [
       "count    50.000000\n",
       "mean     -6.225900\n",
       "std       2.349744\n",
       "min     -14.454000\n",
       "25%      -7.552500\n",
       "50%      -5.991500\n",
       "75%      -4.285500\n",
       "max      -3.280000\n",
       "Name: loudness, dtype: float64"
      ]
     },
     "execution_count": 267,
     "metadata": {},
     "output_type": "execute_result"
    }
   ],
   "source": [
    "top_fifty['loudness'].describe()"
   ]
  },
  {
   "cell_type": "markdown",
   "id": "sitting-pantyhose",
   "metadata": {},
   "source": [
    "### Accoustiness"
   ]
  },
  {
   "cell_type": "code",
   "execution_count": 268,
   "id": "cultural-serbia",
   "metadata": {},
   "outputs": [
    {
     "data": {
      "text/plain": [
       "count    50.000000\n",
       "mean      0.256206\n",
       "std       0.265250\n",
       "min       0.001460\n",
       "25%       0.052800\n",
       "50%       0.188500\n",
       "75%       0.298750\n",
       "max       0.934000\n",
       "Name: acousticness, dtype: float64"
      ]
     },
     "execution_count": 268,
     "metadata": {},
     "output_type": "execute_result"
    }
   ],
   "source": [
    "top_fifty['acousticness'].describe()"
   ]
  },
  {
   "cell_type": "markdown",
   "id": "irish-recall",
   "metadata": {},
   "source": [
    "### Speechiness"
   ]
  },
  {
   "cell_type": "code",
   "execution_count": 269,
   "id": "simple-indonesia",
   "metadata": {},
   "outputs": [
    {
     "data": {
      "text/plain": [
       "count    50.000000\n",
       "mean      0.124158\n",
       "std       0.116836\n",
       "min       0.029000\n",
       "25%       0.048325\n",
       "50%       0.070050\n",
       "75%       0.155500\n",
       "max       0.487000\n",
       "Name: speechiness, dtype: float64"
      ]
     },
     "execution_count": 269,
     "metadata": {},
     "output_type": "execute_result"
    }
   ],
   "source": [
    "top_fifty['speechiness'].describe()"
   ]
  },
  {
   "cell_type": "markdown",
   "id": "confident-montreal",
   "metadata": {},
   "source": [
    "### Instrumentalness"
   ]
  },
  {
   "cell_type": "code",
   "execution_count": 270,
   "id": "rental-overview",
   "metadata": {},
   "outputs": [
    {
     "data": {
      "text/plain": [
       "count    50.000000\n",
       "mean      0.015962\n",
       "std       0.094312\n",
       "min       0.000000\n",
       "25%       0.000000\n",
       "50%       0.000000\n",
       "75%       0.000020\n",
       "max       0.657000\n",
       "Name: instrumentalness, dtype: float64"
      ]
     },
     "execution_count": 270,
     "metadata": {},
     "output_type": "execute_result"
    }
   ],
   "source": [
    "top_fifty['instrumentalness'].describe()"
   ]
  },
  {
   "cell_type": "markdown",
   "id": "standing-azerbaijan",
   "metadata": {},
   "source": [
    "### Liveness"
   ]
  },
  {
   "cell_type": "code",
   "execution_count": 271,
   "id": "musical-mongolia",
   "metadata": {
    "scrolled": true
   },
   "outputs": [
    {
     "data": {
      "text/plain": [
       "count    50.000000\n",
       "mean      0.196552\n",
       "std       0.176610\n",
       "min       0.057400\n",
       "25%       0.093950\n",
       "50%       0.111000\n",
       "75%       0.271250\n",
       "max       0.792000\n",
       "Name: liveness, dtype: float64"
      ]
     },
     "execution_count": 271,
     "metadata": {},
     "output_type": "execute_result"
    }
   ],
   "source": [
    "top_fifty['liveness'].describe()"
   ]
  },
  {
   "cell_type": "markdown",
   "id": "caroline-error",
   "metadata": {},
   "source": [
    "### Valence"
   ]
  },
  {
   "cell_type": "code",
   "execution_count": 272,
   "id": "sharing-count",
   "metadata": {},
   "outputs": [
    {
     "data": {
      "text/plain": [
       "count    50.000000\n",
       "mean      0.555710\n",
       "std       0.216386\n",
       "min       0.060500\n",
       "25%       0.434000\n",
       "50%       0.560000\n",
       "75%       0.726250\n",
       "max       0.925000\n",
       "Name: valence, dtype: float64"
      ]
     },
     "execution_count": 272,
     "metadata": {},
     "output_type": "execute_result"
    }
   ],
   "source": [
    "top_fifty['valence'].describe()"
   ]
  },
  {
   "cell_type": "markdown",
   "id": "north-nelson",
   "metadata": {},
   "source": [
    "### Tempo"
   ]
  },
  {
   "cell_type": "code",
   "execution_count": 273,
   "id": "reduced-render",
   "metadata": {},
   "outputs": [
    {
     "data": {
      "text/plain": [
       "count     50.000000\n",
       "mean     119.690460\n",
       "std       25.414778\n",
       "min       75.801000\n",
       "25%       99.557250\n",
       "50%      116.969000\n",
       "75%      132.317000\n",
       "max      180.067000\n",
       "Name: tempo, dtype: float64"
      ]
     },
     "execution_count": 273,
     "metadata": {},
     "output_type": "execute_result"
    }
   ],
   "source": [
    "top_fifty['tempo'].describe()"
   ]
  },
  {
   "cell_type": "markdown",
   "id": "structured-satin",
   "metadata": {},
   "source": [
    "### Duration"
   ]
  },
  {
   "cell_type": "code",
   "execution_count": 274,
   "id": "gorgeous-provision",
   "metadata": {},
   "outputs": [
    {
     "data": {
      "text/plain": [
       "count        50.000000\n",
       "mean     199955.360000\n",
       "std       33996.122488\n",
       "min      140526.000000\n",
       "25%      175845.500000\n",
       "50%      197853.500000\n",
       "75%      215064.000000\n",
       "max      312820.000000\n",
       "Name: duration_ms, dtype: float64"
      ]
     },
     "execution_count": 274,
     "metadata": {},
     "output_type": "execute_result"
    }
   ],
   "source": [
    "top_fifty['duration_ms'].describe()"
   ]
  },
  {
   "cell_type": "markdown",
   "id": "catholic-logistics",
   "metadata": {},
   "source": [
    "## Artists\n",
    "\n",
    "In this section, I will answer the following questions:\n",
    "\n",
    "1. How many artists in total have their songs in the top 50?\n",
    "2. Who was the most popular artist?\n",
    "3. Are there any artists that have more than 1 popular track? If yes, which and how many?"
   ]
  },
  {
   "cell_type": "markdown",
   "id": "false-chuck",
   "metadata": {},
   "source": [
    "### Artists with Songs in the Top 50"
   ]
  },
  {
   "cell_type": "markdown",
   "id": "verbal-geometry",
   "metadata": {},
   "source": [
    "How many artists in total have their songs in the top 50? Total number of artists with songs in the top 50 is forty(40). There are seven(7) artists who have more than one album in the top 50."
   ]
  },
  {
   "cell_type": "code",
   "execution_count": 275,
   "id": "solved-queens",
   "metadata": {},
   "outputs": [
    {
     "ename": "NameError",
     "evalue": "name 'artists' is not defined",
     "output_type": "error",
     "traceback": [
      "\u001b[1;31m---------------------------------------------------------------------------\u001b[0m",
      "\u001b[1;31mNameError\u001b[0m                                 Traceback (most recent call last)",
      "\u001b[1;32m<ipython-input-275-4af992d81973>\u001b[0m in \u001b[0;36m<module>\u001b[1;34m\u001b[0m\n\u001b[1;32m----> 1\u001b[1;33m \u001b[0martists\u001b[0m\u001b[1;33m.\u001b[0m\u001b[0mcount\u001b[0m\u001b[1;33m(\u001b[0m\u001b[1;33m)\u001b[0m\u001b[1;33m\u001b[0m\u001b[1;33m\u001b[0m\u001b[0m\n\u001b[0m",
      "\u001b[1;31mNameError\u001b[0m: name 'artists' is not defined"
     ]
    }
   ],
   "source": [
    "artists.count()"
   ]
  },
  {
   "cell_type": "code",
   "execution_count": null,
   "id": "hourly-excess",
   "metadata": {},
   "outputs": [],
   "source": [
    "unique_artists = artists.sort_values(ascending=True).drop_duplicates(keep = 'first')\n",
    "\n",
    "unique_artists"
   ]
  },
  {
   "cell_type": "code",
   "execution_count": null,
   "id": "widespread-queen",
   "metadata": {},
   "outputs": [],
   "source": [
    "# List of artists in alphabetical order.\n",
    "artists = top_fifty['artist'].sort_values(ascending = True)\n",
    "\n",
    "artists"
   ]
  },
  {
   "cell_type": "code",
   "execution_count": null,
   "id": "private-summary",
   "metadata": {
    "scrolled": true
   },
   "outputs": [],
   "source": [
    "unique_artists.count()"
   ]
  },
  {
   "cell_type": "markdown",
   "id": "unsigned-radio",
   "metadata": {},
   "source": [
    "### Most Popular Artist"
   ]
  },
  {
   "cell_type": "markdown",
   "id": "respective-bryan",
   "metadata": {},
   "source": [
    "Who was the most popular artist? There are three artists who have 3 tracks each in the top 50 list. They are:\n",
    "- Travis Scott\n",
    "- Billie Eilish\n",
    "- Dua Lipa"
   ]
  },
  {
   "cell_type": "markdown",
   "id": "egyptian-gibraltar",
   "metadata": {},
   "source": [
    "### Artists with More than One Popular Song"
   ]
  },
  {
   "cell_type": "markdown",
   "id": "compound-milan",
   "metadata": {},
   "source": [
    "Are there any artists that have more than 1 popular track? If yes, which and how many? The following artists have more than one popular track:\n",
    "- Travis Scott (3)\n",
    "- Billie Eilish (3)\n",
    "- Dua Lipa (3)\n",
    "- Justin Bieber (2)\n",
    "- Post Malone (2)\n",
    "- Harry Styles (2)\n",
    "- Lewis Capaldi (2)"
   ]
  },
  {
   "cell_type": "code",
   "execution_count": null,
   "id": "creative-substance",
   "metadata": {},
   "outputs": [],
   "source": [
    "dups_artist = top_fifty.pivot_table(index = ['artist'], aggfunc ='size')\n",
    "\n",
    "dups_artist.sort_values(ascending = False)"
   ]
  },
  {
   "cell_type": "markdown",
   "id": "married-columbia",
   "metadata": {},
   "source": [
    "## Albums\n",
    "\n",
    "In this section, I will answer the following questions:\n",
    "\n",
    "1. How many albums in total have their songs in the top 50?\n",
    "2. Are there any albums that have more than 1 popular track? If yes, which and how many? "
   ]
  },
  {
   "cell_type": "markdown",
   "id": "gorgeous-church",
   "metadata": {},
   "source": [
    "### Total Number of Albums"
   ]
  },
  {
   "cell_type": "markdown",
   "id": "continuing-ecology",
   "metadata": {},
   "source": [
    "How many albums in total have their songs in the top 50? There are 45 albums that have songs in the top 50."
   ]
  },
  {
   "cell_type": "code",
   "execution_count": null,
   "id": "operating-lodging",
   "metadata": {},
   "outputs": [],
   "source": [
    "dups_albums = top_fifty.pivot_table(index = ['album'], aggfunc ='size')"
   ]
  },
  {
   "cell_type": "code",
   "execution_count": null,
   "id": "cordless-senegal",
   "metadata": {},
   "outputs": [],
   "source": [
    "dups_albums.sort_values(ascending = False).count()"
   ]
  },
  {
   "cell_type": "markdown",
   "id": "everyday-potter",
   "metadata": {},
   "source": [
    "### Albums with More than One Popular Track"
   ]
  },
  {
   "cell_type": "markdown",
   "id": "peaceful-fleet",
   "metadata": {},
   "source": [
    "Are there any albums that have more than 1 popular track? If yes, which and how many? The following albums have more than one popular songs:\n",
    "- Future Nostalgia(3)\n",
    "- Fine Line(2)\n",
    "- Hollywood's Bleeding(2)\n",
    "- Changes(2)"
   ]
  },
  {
   "cell_type": "code",
   "execution_count": null,
   "id": "collected-bookmark",
   "metadata": {},
   "outputs": [],
   "source": [
    "dups_albums.sort_values(ascending = False)"
   ]
  },
  {
   "cell_type": "markdown",
   "id": "challenging-communication",
   "metadata": {},
   "source": [
    "## Duration\n",
    "\n",
    "In this section, I will answer the following questions:\n",
    "\n",
    "1. Which track is the longest?\n",
    "2. Which track is the shortest?"
   ]
  },
  {
   "cell_type": "markdown",
   "id": "contained-millennium",
   "metadata": {},
   "source": [
    "I obtain a new data frame with only ```track_name``` and ```duration_ms``` as colmns, and the ```track_name``` set as index."
   ]
  },
  {
   "cell_type": "code",
   "execution_count": null,
   "id": "altered-chapel",
   "metadata": {},
   "outputs": [],
   "source": [
    "duration = top_fifty[['track_name','album','duration_ms']] # Creates a new data frame from the original.\n",
    "duration.set_index('track_name', inplace = True) # Sets the track_name as the index."
   ]
  },
  {
   "cell_type": "markdown",
   "id": "irish-animal",
   "metadata": {},
   "source": [
    "### Track with the Longest Duration\n",
    "\n",
    "The track with the longest duration is SICKO MODE from the ablum, ASTROWORLD with 312820 ms."
   ]
  },
  {
   "cell_type": "code",
   "execution_count": null,
   "id": "structured-median",
   "metadata": {
    "scrolled": true
   },
   "outputs": [],
   "source": [
    "duration_ascending = duration.sort_values(by='duration_ms', ascending = False) # Sorts the data frame based on duration_ms column\n",
    "\n",
    "duration_ascending"
   ]
  },
  {
   "cell_type": "code",
   "execution_count": null,
   "id": "agreed-forestry",
   "metadata": {},
   "outputs": [],
   "source": [
    "duration_ascending.iloc[[0]]"
   ]
  },
  {
   "cell_type": "markdown",
   "id": "expanded-delay",
   "metadata": {},
   "source": [
    "### Track with the Shortest Duration\n",
    "\n",
    "The track with the shortest duration is Mood (feat. iann dior) from album, Mood (feat. iann dior) with 140526 ms."
   ]
  },
  {
   "cell_type": "code",
   "execution_count": null,
   "id": "personal-tracker",
   "metadata": {},
   "outputs": [],
   "source": [
    "duration_descending = duration.sort_values(by = 'duration_ms', ascending = True) # Sorts the data frame based on duration_ms column\n",
    "\n",
    "duration_descending"
   ]
  },
  {
   "cell_type": "code",
   "execution_count": null,
   "id": "working-briefs",
   "metadata": {},
   "outputs": [],
   "source": [
    "duration_descending.iloc[[0]]"
   ]
  },
  {
   "cell_type": "markdown",
   "id": "regulation-factor",
   "metadata": {},
   "source": [
    "## Questions about the Genres\n",
    "\n",
    "In this section, I will answer the following questions:\n",
    "\n",
    "1. How many genres in total are represented in the top 50?\n",
    "2. Which genre is the most popular?\n",
    "3. Which genres have just one song on the top 50?"
   ]
  },
  {
   "cell_type": "code",
   "execution_count": null,
   "id": "sunrise-pantyhose",
   "metadata": {},
   "outputs": [],
   "source": [
    "genre = top_fifty[['genre']] # Creates a new data frame from the original.\n",
    "# genre.set_index('genre', inplace = True) # Sets the track_name as the index.\n",
    "# genre_ascending = genre.sort_values(by = 'genre') # Sorts the data frame by genre."
   ]
  },
  {
   "cell_type": "code",
   "execution_count": 295,
   "id": "objective-brief",
   "metadata": {},
   "outputs": [
    {
     "data": {
      "text/html": [
       "<div>\n",
       "<style scoped>\n",
       "    .dataframe tbody tr th:only-of-type {\n",
       "        vertical-align: middle;\n",
       "    }\n",
       "\n",
       "    .dataframe tbody tr th {\n",
       "        vertical-align: top;\n",
       "    }\n",
       "\n",
       "    .dataframe thead th {\n",
       "        text-align: right;\n",
       "    }\n",
       "</style>\n",
       "<table border=\"1\" class=\"dataframe\">\n",
       "  <thead>\n",
       "    <tr style=\"text-align: right;\">\n",
       "      <th></th>\n",
       "      <th>genre</th>\n",
       "    </tr>\n",
       "  </thead>\n",
       "  <tbody>\n",
       "    <tr>\n",
       "      <th>0</th>\n",
       "      <td>R&amp;B/Soul</td>\n",
       "    </tr>\n",
       "    <tr>\n",
       "      <th>1</th>\n",
       "      <td>Alternative/Indie</td>\n",
       "    </tr>\n",
       "    <tr>\n",
       "      <th>2</th>\n",
       "      <td>Hip-Hop/Rap</td>\n",
       "    </tr>\n",
       "    <tr>\n",
       "      <th>3</th>\n",
       "      <td>Dance/Electronic</td>\n",
       "    </tr>\n",
       "    <tr>\n",
       "      <th>4</th>\n",
       "      <td>Nu-disco</td>\n",
       "    </tr>\n",
       "    <tr>\n",
       "      <th>5</th>\n",
       "      <td>Hip-Hop/Rap</td>\n",
       "    </tr>\n",
       "    <tr>\n",
       "      <th>6</th>\n",
       "      <td>Pop</td>\n",
       "    </tr>\n",
       "    <tr>\n",
       "      <th>7</th>\n",
       "      <td>Hip-Hop/Rap</td>\n",
       "    </tr>\n",
       "    <tr>\n",
       "      <th>8</th>\n",
       "      <td>R&amp;B/Hip-Hop alternative</td>\n",
       "    </tr>\n",
       "    <tr>\n",
       "      <th>9</th>\n",
       "      <td>Alternative/Indie</td>\n",
       "    </tr>\n",
       "    <tr>\n",
       "      <th>10</th>\n",
       "      <td>Pop</td>\n",
       "    </tr>\n",
       "    <tr>\n",
       "      <th>11</th>\n",
       "      <td>Hip-Hop/Rap</td>\n",
       "    </tr>\n",
       "    <tr>\n",
       "      <th>12</th>\n",
       "      <td>Pop/Soft Rock</td>\n",
       "    </tr>\n",
       "    <tr>\n",
       "      <th>13</th>\n",
       "      <td>Hip-Hop/Rap</td>\n",
       "    </tr>\n",
       "    <tr>\n",
       "      <th>14</th>\n",
       "      <td>Pop</td>\n",
       "    </tr>\n",
       "    <tr>\n",
       "      <th>15</th>\n",
       "      <td>Hip-Hop/Rap</td>\n",
       "    </tr>\n",
       "    <tr>\n",
       "      <th>16</th>\n",
       "      <td>Alternative/Indie</td>\n",
       "    </tr>\n",
       "    <tr>\n",
       "      <th>17</th>\n",
       "      <td>R&amp;B/Soul</td>\n",
       "    </tr>\n",
       "    <tr>\n",
       "      <th>18</th>\n",
       "      <td>Pop</td>\n",
       "    </tr>\n",
       "    <tr>\n",
       "      <th>19</th>\n",
       "      <td>Hip-Hop/Rap</td>\n",
       "    </tr>\n",
       "    <tr>\n",
       "      <th>20</th>\n",
       "      <td>Hip-Hop/Rap</td>\n",
       "    </tr>\n",
       "    <tr>\n",
       "      <th>21</th>\n",
       "      <td>Pop</td>\n",
       "    </tr>\n",
       "    <tr>\n",
       "      <th>22</th>\n",
       "      <td>Dance/Electronic</td>\n",
       "    </tr>\n",
       "    <tr>\n",
       "      <th>23</th>\n",
       "      <td>Pop rap</td>\n",
       "    </tr>\n",
       "    <tr>\n",
       "      <th>24</th>\n",
       "      <td>Pop</td>\n",
       "    </tr>\n",
       "    <tr>\n",
       "      <th>25</th>\n",
       "      <td>Pop</td>\n",
       "    </tr>\n",
       "    <tr>\n",
       "      <th>26</th>\n",
       "      <td>Electro-pop</td>\n",
       "    </tr>\n",
       "    <tr>\n",
       "      <th>27</th>\n",
       "      <td>Hip-Hop/Trap</td>\n",
       "    </tr>\n",
       "    <tr>\n",
       "      <th>28</th>\n",
       "      <td>Electro-pop</td>\n",
       "    </tr>\n",
       "    <tr>\n",
       "      <th>29</th>\n",
       "      <td>Hip-Hop/Rap</td>\n",
       "    </tr>\n",
       "    <tr>\n",
       "      <th>30</th>\n",
       "      <td>Pop</td>\n",
       "    </tr>\n",
       "    <tr>\n",
       "      <th>31</th>\n",
       "      <td>Dance-pop/Disco</td>\n",
       "    </tr>\n",
       "    <tr>\n",
       "      <th>32</th>\n",
       "      <td>Disco-pop</td>\n",
       "    </tr>\n",
       "    <tr>\n",
       "      <th>33</th>\n",
       "      <td>Alternative/Indie</td>\n",
       "    </tr>\n",
       "    <tr>\n",
       "      <th>34</th>\n",
       "      <td>Dance/Electronic</td>\n",
       "    </tr>\n",
       "    <tr>\n",
       "      <th>35</th>\n",
       "      <td>Pop</td>\n",
       "    </tr>\n",
       "    <tr>\n",
       "      <th>36</th>\n",
       "      <td>Hip-Hop/Rap</td>\n",
       "    </tr>\n",
       "    <tr>\n",
       "      <th>37</th>\n",
       "      <td>Dreampop/Hip-Hop/R&amp;B</td>\n",
       "    </tr>\n",
       "    <tr>\n",
       "      <th>38</th>\n",
       "      <td>Pop</td>\n",
       "    </tr>\n",
       "    <tr>\n",
       "      <th>39</th>\n",
       "      <td>Dance/Electronic</td>\n",
       "    </tr>\n",
       "    <tr>\n",
       "      <th>40</th>\n",
       "      <td>Hip-Hop/Rap</td>\n",
       "    </tr>\n",
       "    <tr>\n",
       "      <th>41</th>\n",
       "      <td>Pop</td>\n",
       "    </tr>\n",
       "    <tr>\n",
       "      <th>42</th>\n",
       "      <td>Hip-Hop/Rap</td>\n",
       "    </tr>\n",
       "    <tr>\n",
       "      <th>43</th>\n",
       "      <td>Alternative/reggaeton/experimental</td>\n",
       "    </tr>\n",
       "    <tr>\n",
       "      <th>44</th>\n",
       "      <td>Chamber pop</td>\n",
       "    </tr>\n",
       "    <tr>\n",
       "      <th>45</th>\n",
       "      <td>Pop</td>\n",
       "    </tr>\n",
       "    <tr>\n",
       "      <th>46</th>\n",
       "      <td>Pop</td>\n",
       "    </tr>\n",
       "    <tr>\n",
       "      <th>47</th>\n",
       "      <td>Pop</td>\n",
       "    </tr>\n",
       "    <tr>\n",
       "      <th>48</th>\n",
       "      <td>Dance/Electronic</td>\n",
       "    </tr>\n",
       "    <tr>\n",
       "      <th>49</th>\n",
       "      <td>Hip-Hop/Rap</td>\n",
       "    </tr>\n",
       "  </tbody>\n",
       "</table>\n",
       "</div>"
      ],
      "text/plain": [
       "                                 genre\n",
       "0                             R&B/Soul\n",
       "1                    Alternative/Indie\n",
       "2                          Hip-Hop/Rap\n",
       "3                     Dance/Electronic\n",
       "4                             Nu-disco\n",
       "5                          Hip-Hop/Rap\n",
       "6                                  Pop\n",
       "7                          Hip-Hop/Rap\n",
       "8              R&B/Hip-Hop alternative\n",
       "9                    Alternative/Indie\n",
       "10                                 Pop\n",
       "11                         Hip-Hop/Rap\n",
       "12                       Pop/Soft Rock\n",
       "13                         Hip-Hop/Rap\n",
       "14                                 Pop\n",
       "15                         Hip-Hop/Rap\n",
       "16                   Alternative/Indie\n",
       "17                            R&B/Soul\n",
       "18                                 Pop\n",
       "19                         Hip-Hop/Rap\n",
       "20                         Hip-Hop/Rap\n",
       "21                                 Pop\n",
       "22                    Dance/Electronic\n",
       "23                             Pop rap\n",
       "24                                 Pop\n",
       "25                                 Pop\n",
       "26                         Electro-pop\n",
       "27                        Hip-Hop/Trap\n",
       "28                         Electro-pop\n",
       "29                         Hip-Hop/Rap\n",
       "30                                 Pop\n",
       "31                     Dance-pop/Disco\n",
       "32                           Disco-pop\n",
       "33                   Alternative/Indie\n",
       "34                    Dance/Electronic\n",
       "35                                 Pop\n",
       "36                         Hip-Hop/Rap\n",
       "37                Dreampop/Hip-Hop/R&B\n",
       "38                                 Pop\n",
       "39                    Dance/Electronic\n",
       "40                         Hip-Hop/Rap\n",
       "41                                 Pop\n",
       "42                         Hip-Hop/Rap\n",
       "43  Alternative/reggaeton/experimental\n",
       "44                         Chamber pop\n",
       "45                                 Pop\n",
       "46                                 Pop\n",
       "47                                 Pop\n",
       "48                    Dance/Electronic\n",
       "49                         Hip-Hop/Rap"
      ]
     },
     "execution_count": 295,
     "metadata": {},
     "output_type": "execute_result"
    }
   ],
   "source": [
    "genre"
   ]
  },
  {
   "cell_type": "markdown",
   "id": "fourth-skiing",
   "metadata": {},
   "source": [
    "### Total Number of Genres in the Top 50\n",
    "\n",
    "There are 16 unique genres in the Top 50."
   ]
  },
  {
   "cell_type": "code",
   "execution_count": 316,
   "id": "several-injection",
   "metadata": {},
   "outputs": [
    {
     "data": {
      "text/plain": [
       "genre    16\n",
       "dtype: int64"
      ]
     },
     "execution_count": 316,
     "metadata": {},
     "output_type": "execute_result"
    }
   ],
   "source": [
    "genre.nunique()"
   ]
  },
  {
   "cell_type": "code",
   "execution_count": 317,
   "id": "friendly-company",
   "metadata": {},
   "outputs": [
    {
     "data": {
      "text/html": [
       "<style type=\"text/css\">\n",
       "</style>\n",
       "<table id=\"T_94396_\">\n",
       "  <thead>\n",
       "    <tr>\n",
       "      <th class=\"col_heading level0 col0\" >genre</th>\n",
       "    </tr>\n",
       "  </thead>\n",
       "  <tbody>\n",
       "    <tr>\n",
       "      <td id=\"T_94396_row0_col0\" class=\"data row0 col0\" >R&B/Soul</td>\n",
       "    </tr>\n",
       "    <tr>\n",
       "      <td id=\"T_94396_row1_col0\" class=\"data row1 col0\" >Alternative/Indie</td>\n",
       "    </tr>\n",
       "    <tr>\n",
       "      <td id=\"T_94396_row2_col0\" class=\"data row2 col0\" >Hip-Hop/Rap</td>\n",
       "    </tr>\n",
       "    <tr>\n",
       "      <td id=\"T_94396_row3_col0\" class=\"data row3 col0\" >Dance/Electronic</td>\n",
       "    </tr>\n",
       "    <tr>\n",
       "      <td id=\"T_94396_row4_col0\" class=\"data row4 col0\" >Nu-disco</td>\n",
       "    </tr>\n",
       "    <tr>\n",
       "      <td id=\"T_94396_row5_col0\" class=\"data row5 col0\" >Pop</td>\n",
       "    </tr>\n",
       "    <tr>\n",
       "      <td id=\"T_94396_row6_col0\" class=\"data row6 col0\" >R&B/Hip-Hop alternative</td>\n",
       "    </tr>\n",
       "    <tr>\n",
       "      <td id=\"T_94396_row7_col0\" class=\"data row7 col0\" >Pop/Soft Rock</td>\n",
       "    </tr>\n",
       "    <tr>\n",
       "      <td id=\"T_94396_row8_col0\" class=\"data row8 col0\" >Pop rap</td>\n",
       "    </tr>\n",
       "    <tr>\n",
       "      <td id=\"T_94396_row9_col0\" class=\"data row9 col0\" > Electro-pop</td>\n",
       "    </tr>\n",
       "    <tr>\n",
       "      <td id=\"T_94396_row10_col0\" class=\"data row10 col0\" >Hip-Hop/Trap</td>\n",
       "    </tr>\n",
       "    <tr>\n",
       "      <td id=\"T_94396_row11_col0\" class=\"data row11 col0\" >Dance-pop/Disco</td>\n",
       "    </tr>\n",
       "    <tr>\n",
       "      <td id=\"T_94396_row12_col0\" class=\"data row12 col0\" >Disco-pop</td>\n",
       "    </tr>\n",
       "    <tr>\n",
       "      <td id=\"T_94396_row13_col0\" class=\"data row13 col0\" >Dreampop/Hip-Hop/R&B</td>\n",
       "    </tr>\n",
       "    <tr>\n",
       "      <td id=\"T_94396_row14_col0\" class=\"data row14 col0\" >Alternative/reggaeton/experimental</td>\n",
       "    </tr>\n",
       "    <tr>\n",
       "      <td id=\"T_94396_row15_col0\" class=\"data row15 col0\" >Chamber pop</td>\n",
       "    </tr>\n",
       "  </tbody>\n",
       "</table>\n"
      ],
      "text/plain": [
       "<pandas.io.formats.style.Styler at 0x1f9f184e550>"
      ]
     },
     "execution_count": 317,
     "metadata": {},
     "output_type": "execute_result"
    }
   ],
   "source": [
    "genre.drop_duplicates().style.hide_index()"
   ]
  },
  {
   "cell_type": "markdown",
   "id": "published-obligation",
   "metadata": {},
   "source": [
    "### The Most Popular Genre in the Top 50"
   ]
  },
  {
   "cell_type": "markdown",
   "id": "human-premises",
   "metadata": {},
   "source": [
    "Pop is the most popular genre in the Top 50."
   ]
  },
  {
   "cell_type": "code",
   "execution_count": 318,
   "id": "colonial-faith",
   "metadata": {},
   "outputs": [
    {
     "data": {
      "text/plain": [
       "genre                             \n",
       "Pop                                   14\n",
       "Hip-Hop/Rap                           13\n",
       "Dance/Electronic                       5\n",
       "Alternative/Indie                      4\n",
       " Electro-pop                           2\n",
       "R&B/Soul                               2\n",
       "Alternative/reggaeton/experimental     1\n",
       "Chamber pop                            1\n",
       "Dance-pop/Disco                        1\n",
       "Disco-pop                              1\n",
       "Dreampop/Hip-Hop/R&B                   1\n",
       "Hip-Hop/Trap                           1\n",
       "Nu-disco                               1\n",
       "Pop rap                                1\n",
       "Pop/Soft Rock                          1\n",
       "R&B/Hip-Hop alternative                1\n",
       "dtype: int64"
      ]
     },
     "execution_count": 318,
     "metadata": {},
     "output_type": "execute_result"
    }
   ],
   "source": [
    "genre.value_counts()"
   ]
  },
  {
   "cell_type": "code",
   "execution_count": 319,
   "id": "pacific-paintball",
   "metadata": {},
   "outputs": [
    {
     "data": {
      "text/plain": [
       "genre                             \n",
       "Pop                                   0.28\n",
       "Hip-Hop/Rap                           0.26\n",
       "Dance/Electronic                      0.10\n",
       "Alternative/Indie                     0.08\n",
       " Electro-pop                          0.04\n",
       "R&B/Soul                              0.04\n",
       "Alternative/reggaeton/experimental    0.02\n",
       "Chamber pop                           0.02\n",
       "Dance-pop/Disco                       0.02\n",
       "Disco-pop                             0.02\n",
       "Dreampop/Hip-Hop/R&B                  0.02\n",
       "Hip-Hop/Trap                          0.02\n",
       "Nu-disco                              0.02\n",
       "Pop rap                               0.02\n",
       "Pop/Soft Rock                         0.02\n",
       "R&B/Hip-Hop alternative               0.02\n",
       "dtype: float64"
      ]
     },
     "execution_count": 319,
     "metadata": {},
     "output_type": "execute_result"
    }
   ],
   "source": [
    "genre.value_counts(normalize=True)"
   ]
  },
  {
   "cell_type": "code",
   "execution_count": 320,
   "id": "voluntary-replacement",
   "metadata": {},
   "outputs": [
    {
     "data": {
      "text/plain": [
       "<AxesSubplot:xlabel='genre'>"
      ]
     },
     "execution_count": 320,
     "metadata": {},
     "output_type": "execute_result"
    },
    {
     "data": {
      "image/png": "[encoded data removed]",
      "text/plain": [
       "<Figure size 432x288 with 1 Axes>"
      ]
     },
     "metadata": {
      "needs_background": "light"
     },
     "output_type": "display_data"
    }
   ],
   "source": [
    "genre.value_counts().plot.bar()"
   ]
  },
  {
   "cell_type": "markdown",
   "id": "level-circulation",
   "metadata": {},
   "source": [
    "### Genres with Just One Track in the Top 50\n",
    "\n",
    "There are 10 genres with just one track in the Top 50."
   ]
  },
  {
   "cell_type": "code",
   "execution_count": 311,
   "id": "copyrighted-disposal",
   "metadata": {},
   "outputs": [
    {
     "data": {
      "text/plain": [
       "genre                             \n",
       "Pop                                   False\n",
       "Hip-Hop/Rap                           False\n",
       "Dance/Electronic                      False\n",
       "Alternative/Indie                     False\n",
       " Electro-pop                          False\n",
       "R&B/Soul                              False\n",
       "Alternative/reggaeton/experimental     True\n",
       "Chamber pop                            True\n",
       "Dance-pop/Disco                        True\n",
       "Disco-pop                              True\n",
       "Dreampop/Hip-Hop/R&B                   True\n",
       "Hip-Hop/Trap                           True\n",
       "Nu-disco                               True\n",
       "Pop rap                                True\n",
       "Pop/Soft Rock                          True\n",
       "R&B/Hip-Hop alternative                True\n",
       "dtype: bool"
      ]
     },
     "execution_count": 311,
     "metadata": {},
     "output_type": "execute_result"
    }
   ],
   "source": [
    "num_tracks = genre.value_counts() == 1\n",
    "\n",
    "num_tracks"
   ]
  },
  {
   "cell_type": "code",
   "execution_count": 313,
   "id": "interracial-wheat",
   "metadata": {},
   "outputs": [
    {
     "data": {
      "text/plain": [
       "10"
      ]
     },
     "execution_count": 313,
     "metadata": {},
     "output_type": "execute_result"
    }
   ],
   "source": [
    "one_song.shape[0]"
   ]
  },
  {
   "cell_type": "code",
   "execution_count": 312,
   "id": "virtual-title",
   "metadata": {
    "scrolled": true
   },
   "outputs": [
    {
     "data": {
      "text/plain": [
       "genre                             \n",
       "Alternative/reggaeton/experimental    True\n",
       "Chamber pop                           True\n",
       "Dance-pop/Disco                       True\n",
       "Disco-pop                             True\n",
       "Dreampop/Hip-Hop/R&B                  True\n",
       "Hip-Hop/Trap                          True\n",
       "Nu-disco                              True\n",
       "Pop rap                               True\n",
       "Pop/Soft Rock                         True\n",
       "R&B/Hip-Hop alternative               True\n",
       "dtype: bool"
      ]
     },
     "execution_count": 312,
     "metadata": {},
     "output_type": "execute_result"
    }
   ],
   "source": [
    "one_song = num_tracks [num_tracks == True]  # Shows only rows with True values.\n",
    "\n",
    "one_song"
   ]
  },
  {
   "cell_type": "markdown",
   "id": "cellular-salem",
   "metadata": {},
   "source": [
    "## Questions about the Dancability\n",
    "\n",
    "In this section, I will answer the following questions:\n",
    "\n",
    "1. Which tracks have a danceability score above 0.7?\n",
    "2. Which tracks have a danceability score below 0.4?"
   ]
  },
  {
   "cell_type": "code",
   "execution_count": 324,
   "id": "viral-america",
   "metadata": {},
   "outputs": [
    {
     "data": {
      "text/html": [
       "<div>\n",
       "<style scoped>\n",
       "    .dataframe tbody tr th:only-of-type {\n",
       "        vertical-align: middle;\n",
       "    }\n",
       "\n",
       "    .dataframe tbody tr th {\n",
       "        vertical-align: top;\n",
       "    }\n",
       "\n",
       "    .dataframe thead th {\n",
       "        text-align: right;\n",
       "    }\n",
       "</style>\n",
       "<table border=\"1\" class=\"dataframe\">\n",
       "  <thead>\n",
       "    <tr style=\"text-align: right;\">\n",
       "      <th></th>\n",
       "      <th>album</th>\n",
       "      <th>danceability</th>\n",
       "    </tr>\n",
       "    <tr>\n",
       "      <th>track_name</th>\n",
       "      <th></th>\n",
       "      <th></th>\n",
       "    </tr>\n",
       "  </thead>\n",
       "  <tbody>\n",
       "    <tr>\n",
       "      <th>Blinding Lights</th>\n",
       "      <td>After Hours</td>\n",
       "      <td>0.514</td>\n",
       "    </tr>\n",
       "    <tr>\n",
       "      <th>Dance Monkey</th>\n",
       "      <td>Dance Monkey</td>\n",
       "      <td>0.825</td>\n",
       "    </tr>\n",
       "    <tr>\n",
       "      <th>The Box</th>\n",
       "      <td>Please Excuse Me For Being Antisocial</td>\n",
       "      <td>0.896</td>\n",
       "    </tr>\n",
       "    <tr>\n",
       "      <th>Roses - Imanbek Remix</th>\n",
       "      <td>Roses (Imanbek Remix)</td>\n",
       "      <td>0.785</td>\n",
       "    </tr>\n",
       "    <tr>\n",
       "      <th>Don't Start Now</th>\n",
       "      <td>Future Nostalgia</td>\n",
       "      <td>0.793</td>\n",
       "    </tr>\n",
       "    <tr>\n",
       "      <th>ROCKSTAR (feat. Roddy Ricch)</th>\n",
       "      <td>BLAME IT ON BABY</td>\n",
       "      <td>0.746</td>\n",
       "    </tr>\n",
       "    <tr>\n",
       "      <th>Watermelon Sugar</th>\n",
       "      <td>Fine Line</td>\n",
       "      <td>0.548</td>\n",
       "    </tr>\n",
       "    <tr>\n",
       "      <th>death bed (coffee for your head)</th>\n",
       "      <td>death bed (coffee for your head)</td>\n",
       "      <td>0.726</td>\n",
       "    </tr>\n",
       "    <tr>\n",
       "      <th>Falling</th>\n",
       "      <td>Nicotine</td>\n",
       "      <td>0.784</td>\n",
       "    </tr>\n",
       "    <tr>\n",
       "      <th>Someone You Loved</th>\n",
       "      <td>Divinely Uninspired To A Hellish Extent</td>\n",
       "      <td>0.501</td>\n",
       "    </tr>\n",
       "    <tr>\n",
       "      <th>Tusa</th>\n",
       "      <td>Tusa</td>\n",
       "      <td>0.803</td>\n",
       "    </tr>\n",
       "    <tr>\n",
       "      <th>ROXANNE</th>\n",
       "      <td>ROXANNE</td>\n",
       "      <td>0.621</td>\n",
       "    </tr>\n",
       "    <tr>\n",
       "      <th>Circles</th>\n",
       "      <td>Hollywood's Bleeding</td>\n",
       "      <td>0.695</td>\n",
       "    </tr>\n",
       "    <tr>\n",
       "      <th>Blueberry Faygo</th>\n",
       "      <td>Certified Hitmaker</td>\n",
       "      <td>0.774</td>\n",
       "    </tr>\n",
       "    <tr>\n",
       "      <th>Intentions (feat. Quavo)</th>\n",
       "      <td>Changes</td>\n",
       "      <td>0.806</td>\n",
       "    </tr>\n",
       "    <tr>\n",
       "      <th>Toosie Slide</th>\n",
       "      <td>Dark Lane Demo Tapes</td>\n",
       "      <td>0.830</td>\n",
       "    </tr>\n",
       "    <tr>\n",
       "      <th>Before You Go</th>\n",
       "      <td>Divinely Uninspired To A Hellish Extent (Exten...</td>\n",
       "      <td>0.459</td>\n",
       "    </tr>\n",
       "    <tr>\n",
       "      <th>Say So</th>\n",
       "      <td>Hot Pink</td>\n",
       "      <td>0.787</td>\n",
       "    </tr>\n",
       "    <tr>\n",
       "      <th>Memories</th>\n",
       "      <td>Memories</td>\n",
       "      <td>0.764</td>\n",
       "    </tr>\n",
       "    <tr>\n",
       "      <th>Life Is Good (feat. Drake)</th>\n",
       "      <td>High Off Life</td>\n",
       "      <td>0.795</td>\n",
       "    </tr>\n",
       "    <tr>\n",
       "      <th>Savage Love (Laxed - Siren Beat)</th>\n",
       "      <td>Savage Love (Laxed - Siren Beat)</td>\n",
       "      <td>0.767</td>\n",
       "    </tr>\n",
       "    <tr>\n",
       "      <th>Adore You</th>\n",
       "      <td>Fine Line</td>\n",
       "      <td>0.676</td>\n",
       "    </tr>\n",
       "    <tr>\n",
       "      <th>Breaking Me</th>\n",
       "      <td>Breaking Me</td>\n",
       "      <td>0.789</td>\n",
       "    </tr>\n",
       "    <tr>\n",
       "      <th>Mood (feat. iann dior)</th>\n",
       "      <td>Mood (feat. iann dior)</td>\n",
       "      <td>0.700</td>\n",
       "    </tr>\n",
       "    <tr>\n",
       "      <th>everything i wanted</th>\n",
       "      <td>everything i wanted</td>\n",
       "      <td>0.704</td>\n",
       "    </tr>\n",
       "    <tr>\n",
       "      <th>Señorita</th>\n",
       "      <td>Shawn Mendes (Deluxe)</td>\n",
       "      <td>0.759</td>\n",
       "    </tr>\n",
       "    <tr>\n",
       "      <th>bad guy</th>\n",
       "      <td>WHEN WE ALL FALL ASLEEP, WHERE DO WE GO?</td>\n",
       "      <td>0.701</td>\n",
       "    </tr>\n",
       "    <tr>\n",
       "      <th>WAP (feat. Megan Thee Stallion)</th>\n",
       "      <td>WAP (feat. Megan Thee Stallion)</td>\n",
       "      <td>0.935</td>\n",
       "    </tr>\n",
       "    <tr>\n",
       "      <th>Sunday Best</th>\n",
       "      <td>Where the Light Is</td>\n",
       "      <td>0.878</td>\n",
       "    </tr>\n",
       "    <tr>\n",
       "      <th>Godzilla (feat. Juice WRLD)</th>\n",
       "      <td>Music To Be Murdered By</td>\n",
       "      <td>0.808</td>\n",
       "    </tr>\n",
       "    <tr>\n",
       "      <th>Yummy</th>\n",
       "      <td>Changes</td>\n",
       "      <td>0.676</td>\n",
       "    </tr>\n",
       "    <tr>\n",
       "      <th>Break My Heart</th>\n",
       "      <td>Future Nostalgia</td>\n",
       "      <td>0.730</td>\n",
       "    </tr>\n",
       "    <tr>\n",
       "      <th>Dynamite</th>\n",
       "      <td>Dynamite (DayTime Version)</td>\n",
       "      <td>0.746</td>\n",
       "    </tr>\n",
       "    <tr>\n",
       "      <th>Supalonely (feat. Gus Dapperton)</th>\n",
       "      <td>Hey u x</td>\n",
       "      <td>0.862</td>\n",
       "    </tr>\n",
       "    <tr>\n",
       "      <th>ily (i love you baby) (feat. Emilee)</th>\n",
       "      <td>ily (i love you baby) (feat. Emilee)</td>\n",
       "      <td>0.674</td>\n",
       "    </tr>\n",
       "    <tr>\n",
       "      <th>Rain On Me (with Ariana Grande)</th>\n",
       "      <td>Chromatica</td>\n",
       "      <td>0.672</td>\n",
       "    </tr>\n",
       "    <tr>\n",
       "      <th>HIGHEST IN THE ROOM</th>\n",
       "      <td>HIGHEST IN THE ROOM</td>\n",
       "      <td>0.598</td>\n",
       "    </tr>\n",
       "    <tr>\n",
       "      <th>Sunflower - Spider-Man: Into the Spider-Verse</th>\n",
       "      <td>Hollywood's Bleeding</td>\n",
       "      <td>0.755</td>\n",
       "    </tr>\n",
       "    <tr>\n",
       "      <th>Hawái</th>\n",
       "      <td>PAPI JUANCHO</td>\n",
       "      <td>0.783</td>\n",
       "    </tr>\n",
       "    <tr>\n",
       "      <th>Ride It</th>\n",
       "      <td>Ride It</td>\n",
       "      <td>0.880</td>\n",
       "    </tr>\n",
       "    <tr>\n",
       "      <th>goosebumps</th>\n",
       "      <td>Birds In The Trap Sing McKnight</td>\n",
       "      <td>0.841</td>\n",
       "    </tr>\n",
       "    <tr>\n",
       "      <th>RITMO (Bad Boys For Life)</th>\n",
       "      <td>Translation</td>\n",
       "      <td>0.723</td>\n",
       "    </tr>\n",
       "    <tr>\n",
       "      <th>THE SCOTTS</th>\n",
       "      <td>THE SCOTTS</td>\n",
       "      <td>0.716</td>\n",
       "    </tr>\n",
       "    <tr>\n",
       "      <th>Safaera</th>\n",
       "      <td>YHLQMDLG</td>\n",
       "      <td>0.607</td>\n",
       "    </tr>\n",
       "    <tr>\n",
       "      <th>lovely (with Khalid)</th>\n",
       "      <td>lovely (with Khalid)</td>\n",
       "      <td>0.351</td>\n",
       "    </tr>\n",
       "    <tr>\n",
       "      <th>Lucid Dreams</th>\n",
       "      <td>Goodbye &amp; Good Riddance</td>\n",
       "      <td>0.511</td>\n",
       "    </tr>\n",
       "    <tr>\n",
       "      <th>Stuck with U (with Justin Bieber)</th>\n",
       "      <td>Stuck with U</td>\n",
       "      <td>0.597</td>\n",
       "    </tr>\n",
       "    <tr>\n",
       "      <th>If the World Was Ending - feat. Julia Michaels</th>\n",
       "      <td>If the World Was Ending (feat. Julia Michaels)</td>\n",
       "      <td>0.464</td>\n",
       "    </tr>\n",
       "    <tr>\n",
       "      <th>Physical</th>\n",
       "      <td>Future Nostalgia</td>\n",
       "      <td>0.647</td>\n",
       "    </tr>\n",
       "    <tr>\n",
       "      <th>SICKO MODE</th>\n",
       "      <td>ASTROWORLD</td>\n",
       "      <td>0.834</td>\n",
       "    </tr>\n",
       "  </tbody>\n",
       "</table>\n",
       "</div>"
      ],
      "text/plain": [
       "                                                                                            album  \\\n",
       "track_name                                                                                          \n",
       "Blinding Lights                                                                       After Hours   \n",
       "Dance Monkey                                                                         Dance Monkey   \n",
       "The Box                                                     Please Excuse Me For Being Antisocial   \n",
       "Roses - Imanbek Remix                                                       Roses (Imanbek Remix)   \n",
       "Don't Start Now                                                                  Future Nostalgia   \n",
       "ROCKSTAR (feat. Roddy Ricch)                                                     BLAME IT ON BABY   \n",
       "Watermelon Sugar                                                                        Fine Line   \n",
       "death bed (coffee for your head)                                 death bed (coffee for your head)   \n",
       "Falling                                                                                  Nicotine   \n",
       "Someone You Loved                                         Divinely Uninspired To A Hellish Extent   \n",
       "Tusa                                                                                         Tusa   \n",
       "ROXANNE                                                                                   ROXANNE   \n",
       "Circles                                                                      Hollywood's Bleeding   \n",
       "Blueberry Faygo                                                                Certified Hitmaker   \n",
       "Intentions (feat. Quavo)                                                                  Changes   \n",
       "Toosie Slide                                                                 Dark Lane Demo Tapes   \n",
       "Before You Go                                   Divinely Uninspired To A Hellish Extent (Exten...   \n",
       "Say So                                                                                   Hot Pink   \n",
       "Memories                                                                                 Memories   \n",
       "Life Is Good (feat. Drake)                                                          High Off Life   \n",
       "Savage Love (Laxed - Siren Beat)                                 Savage Love (Laxed - Siren Beat)   \n",
       "Adore You                                                                               Fine Line   \n",
       "Breaking Me                                                                           Breaking Me   \n",
       "Mood (feat. iann dior)                                                     Mood (feat. iann dior)   \n",
       "everything i wanted                                                           everything i wanted   \n",
       "Señorita                                                                    Shawn Mendes (Deluxe)   \n",
       "bad guy                                                  WHEN WE ALL FALL ASLEEP, WHERE DO WE GO?   \n",
       "WAP (feat. Megan Thee Stallion)                                   WAP (feat. Megan Thee Stallion)   \n",
       "Sunday Best                                                                    Where the Light Is   \n",
       "Godzilla (feat. Juice WRLD)                                               Music To Be Murdered By   \n",
       "Yummy                                                                                     Changes   \n",
       "Break My Heart                                                                   Future Nostalgia   \n",
       "Dynamite                                                               Dynamite (DayTime Version)   \n",
       "Supalonely (feat. Gus Dapperton)                                                          Hey u x   \n",
       "ily (i love you baby) (feat. Emilee)                         ily (i love you baby) (feat. Emilee)   \n",
       "Rain On Me (with Ariana Grande)                                                        Chromatica   \n",
       "HIGHEST IN THE ROOM                                                           HIGHEST IN THE ROOM   \n",
       "Sunflower - Spider-Man: Into the Spider-Verse                                Hollywood's Bleeding   \n",
       "Hawái                                                                                PAPI JUANCHO   \n",
       "Ride It                                                                                   Ride It   \n",
       "goosebumps                                                        Birds In The Trap Sing McKnight   \n",
       "RITMO (Bad Boys For Life)                                                             Translation   \n",
       "THE SCOTTS                                                                             THE SCOTTS   \n",
       "Safaera                                                                                  YHLQMDLG   \n",
       "lovely (with Khalid)                                                         lovely (with Khalid)   \n",
       "Lucid Dreams                                                              Goodbye & Good Riddance   \n",
       "Stuck with U (with Justin Bieber)                                                    Stuck with U   \n",
       "If the World Was Ending - feat. Julia Michaels     If the World Was Ending (feat. Julia Michaels)   \n",
       "Physical                                                                         Future Nostalgia   \n",
       "SICKO MODE                                                                             ASTROWORLD   \n",
       "\n",
       "                                                danceability  \n",
       "track_name                                                    \n",
       "Blinding Lights                                        0.514  \n",
       "Dance Monkey                                           0.825  \n",
       "The Box                                                0.896  \n",
       "Roses - Imanbek Remix                                  0.785  \n",
       "Don't Start Now                                        0.793  \n",
       "ROCKSTAR (feat. Roddy Ricch)                           0.746  \n",
       "Watermelon Sugar                                       0.548  \n",
       "death bed (coffee for your head)                       0.726  \n",
       "Falling                                                0.784  \n",
       "Someone You Loved                                      0.501  \n",
       "Tusa                                                   0.803  \n",
       "ROXANNE                                                0.621  \n",
       "Circles                                                0.695  \n",
       "Blueberry Faygo                                        0.774  \n",
       "Intentions (feat. Quavo)                               0.806  \n",
       "Toosie Slide                                           0.830  \n",
       "Before You Go                                          0.459  \n",
       "Say So                                                 0.787  \n",
       "Memories                                               0.764  \n",
       "Life Is Good (feat. Drake)                             0.795  \n",
       "Savage Love (Laxed - Siren Beat)                       0.767  \n",
       "Adore You                                              0.676  \n",
       "Breaking Me                                            0.789  \n",
       "Mood (feat. iann dior)                                 0.700  \n",
       "everything i wanted                                    0.704  \n",
       "Señorita                                               0.759  \n",
       "bad guy                                                0.701  \n",
       "WAP (feat. Megan Thee Stallion)                        0.935  \n",
       "Sunday Best                                            0.878  \n",
       "Godzilla (feat. Juice WRLD)                            0.808  \n",
       "Yummy                                                  0.676  \n",
       "Break My Heart                                         0.730  \n",
       "Dynamite                                               0.746  \n",
       "Supalonely (feat. Gus Dapperton)                       0.862  \n",
       "ily (i love you baby) (feat. Emilee)                   0.674  \n",
       "Rain On Me (with Ariana Grande)                        0.672  \n",
       "HIGHEST IN THE ROOM                                    0.598  \n",
       "Sunflower - Spider-Man: Into the Spider-Verse          0.755  \n",
       "Hawái                                                  0.783  \n",
       "Ride It                                                0.880  \n",
       "goosebumps                                             0.841  \n",
       "RITMO (Bad Boys For Life)                              0.723  \n",
       "THE SCOTTS                                             0.716  \n",
       "Safaera                                                0.607  \n",
       "lovely (with Khalid)                                   0.351  \n",
       "Lucid Dreams                                           0.511  \n",
       "Stuck with U (with Justin Bieber)                      0.597  \n",
       "If the World Was Ending - feat. Julia Michaels         0.464  \n",
       "Physical                                               0.647  \n",
       "SICKO MODE                                             0.834  "
      ]
     },
     "execution_count": 324,
     "metadata": {},
     "output_type": "execute_result"
    }
   ],
   "source": [
    "danceability = top_fifty[['track_name','album','danceability']] # Creates a new data frame from the original.\n",
    "danceability.set_index('track_name', inplace = True) # Sets the track_name as the index.\n",
    "\n",
    "danceability"
   ]
  },
  {
   "cell_type": "code",
   "execution_count": 350,
   "id": "joint-banking",
   "metadata": {},
   "outputs": [
    {
     "data": {
      "text/plain": [
       "50"
      ]
     },
     "execution_count": 350,
     "metadata": {},
     "output_type": "execute_result"
    }
   ],
   "source": [
    "danceability.shape[0]"
   ]
  },
  {
   "cell_type": "markdown",
   "id": "classified-humanity",
   "metadata": {},
   "source": [
    "### Tracks with Daceability Score Above 0.7\n",
    "\n",
    "There are 32 tracks with danceability score above 0.7 in the Top 50."
   ]
  },
  {
   "cell_type": "code",
   "execution_count": 360,
   "id": "average-tsunami",
   "metadata": {},
   "outputs": [
    {
     "data": {
      "text/plain": [
       "track_name\n",
       "Blinding Lights                                   False\n",
       "Dance Monkey                                       True\n",
       "The Box                                            True\n",
       "Roses - Imanbek Remix                              True\n",
       "Don't Start Now                                    True\n",
       "ROCKSTAR (feat. Roddy Ricch)                       True\n",
       "Watermelon Sugar                                  False\n",
       "death bed (coffee for your head)                   True\n",
       "Falling                                            True\n",
       "Someone You Loved                                 False\n",
       "Tusa                                               True\n",
       "ROXANNE                                           False\n",
       "Circles                                           False\n",
       "Blueberry Faygo                                    True\n",
       "Intentions (feat. Quavo)                           True\n",
       "Toosie Slide                                       True\n",
       "Before You Go                                     False\n",
       "Say So                                             True\n",
       "Memories                                           True\n",
       "Life Is Good (feat. Drake)                         True\n",
       "Savage Love (Laxed - Siren Beat)                   True\n",
       "Adore You                                         False\n",
       "Breaking Me                                        True\n",
       "Mood (feat. iann dior)                            False\n",
       "everything i wanted                                True\n",
       "Señorita                                           True\n",
       "bad guy                                            True\n",
       "WAP (feat. Megan Thee Stallion)                    True\n",
       "Sunday Best                                        True\n",
       "Godzilla (feat. Juice WRLD)                        True\n",
       "Yummy                                             False\n",
       "Break My Heart                                     True\n",
       "Dynamite                                           True\n",
       "Supalonely (feat. Gus Dapperton)                   True\n",
       "ily (i love you baby) (feat. Emilee)              False\n",
       "Rain On Me (with Ariana Grande)                   False\n",
       "HIGHEST IN THE ROOM                               False\n",
       "Sunflower - Spider-Man: Into the Spider-Verse      True\n",
       "Hawái                                              True\n",
       "Ride It                                            True\n",
       "goosebumps                                         True\n",
       "RITMO (Bad Boys For Life)                          True\n",
       "THE SCOTTS                                         True\n",
       "Safaera                                           False\n",
       "lovely (with Khalid)                              False\n",
       "Lucid Dreams                                      False\n",
       "Stuck with U (with Justin Bieber)                 False\n",
       "If the World Was Ending - feat. Julia Michaels    False\n",
       "Physical                                          False\n",
       "SICKO MODE                                         True\n",
       "Name: danceability, dtype: bool"
      ]
     },
     "execution_count": 360,
     "metadata": {},
     "output_type": "execute_result"
    }
   ],
   "source": [
    "danceability_bool = danceability['danceability'] > 0.7\n",
    "\n",
    "danceability_bool"
   ]
  },
  {
   "cell_type": "code",
   "execution_count": 361,
   "id": "hourly-style",
   "metadata": {},
   "outputs": [
    {
     "data": {
      "text/plain": [
       "track_name\n",
       "Dance Monkey                                     True\n",
       "The Box                                          True\n",
       "Roses - Imanbek Remix                            True\n",
       "Don't Start Now                                  True\n",
       "ROCKSTAR (feat. Roddy Ricch)                     True\n",
       "death bed (coffee for your head)                 True\n",
       "Falling                                          True\n",
       "Tusa                                             True\n",
       "Blueberry Faygo                                  True\n",
       "Intentions (feat. Quavo)                         True\n",
       "Toosie Slide                                     True\n",
       "Say So                                           True\n",
       "Memories                                         True\n",
       "Life Is Good (feat. Drake)                       True\n",
       "Savage Love (Laxed - Siren Beat)                 True\n",
       "Breaking Me                                      True\n",
       "everything i wanted                              True\n",
       "Señorita                                         True\n",
       "bad guy                                          True\n",
       "WAP (feat. Megan Thee Stallion)                  True\n",
       "Sunday Best                                      True\n",
       "Godzilla (feat. Juice WRLD)                      True\n",
       "Break My Heart                                   True\n",
       "Dynamite                                         True\n",
       "Supalonely (feat. Gus Dapperton)                 True\n",
       "Sunflower - Spider-Man: Into the Spider-Verse    True\n",
       "Hawái                                            True\n",
       "Ride It                                          True\n",
       "goosebumps                                       True\n",
       "RITMO (Bad Boys For Life)                        True\n",
       "THE SCOTTS                                       True\n",
       "SICKO MODE                                       True\n",
       "Name: danceability, dtype: bool"
      ]
     },
     "execution_count": 361,
     "metadata": {},
     "output_type": "execute_result"
    }
   ],
   "source": [
    "danceability_high = danceability_bool [danceability_bool == True]  # Shows only rows with True values.\n",
    "\n",
    "danceability_high"
   ]
  },
  {
   "cell_type": "code",
   "execution_count": 362,
   "id": "seeing-little",
   "metadata": {},
   "outputs": [
    {
     "data": {
      "text/plain": [
       "track_name\n",
       "Dance Monkey                                     True\n",
       "The Box                                          True\n",
       "Roses - Imanbek Remix                            True\n",
       "Don't Start Now                                  True\n",
       "ROCKSTAR (feat. Roddy Ricch)                     True\n",
       "death bed (coffee for your head)                 True\n",
       "Falling                                          True\n",
       "Tusa                                             True\n",
       "Blueberry Faygo                                  True\n",
       "Intentions (feat. Quavo)                         True\n",
       "Toosie Slide                                     True\n",
       "Say So                                           True\n",
       "Memories                                         True\n",
       "Life Is Good (feat. Drake)                       True\n",
       "Savage Love (Laxed - Siren Beat)                 True\n",
       "Breaking Me                                      True\n",
       "everything i wanted                              True\n",
       "Señorita                                         True\n",
       "bad guy                                          True\n",
       "WAP (feat. Megan Thee Stallion)                  True\n",
       "Sunday Best                                      True\n",
       "Godzilla (feat. Juice WRLD)                      True\n",
       "Break My Heart                                   True\n",
       "Dynamite                                         True\n",
       "Supalonely (feat. Gus Dapperton)                 True\n",
       "Sunflower - Spider-Man: Into the Spider-Verse    True\n",
       "Hawái                                            True\n",
       "Ride It                                          True\n",
       "goosebumps                                       True\n",
       "RITMO (Bad Boys For Life)                        True\n",
       "THE SCOTTS                                       True\n",
       "SICKO MODE                                       True\n",
       "Name: danceability, dtype: bool"
      ]
     },
     "execution_count": 362,
     "metadata": {},
     "output_type": "execute_result"
    }
   ],
   "source": [
    "danceability_high[danceability_high == True]"
   ]
  },
  {
   "cell_type": "code",
   "execution_count": 363,
   "id": "unlimited-chrome",
   "metadata": {},
   "outputs": [
    {
     "data": {
      "text/plain": [
       "32"
      ]
     },
     "execution_count": 363,
     "metadata": {},
     "output_type": "execute_result"
    }
   ],
   "source": [
    "danceability_high.shape[0]"
   ]
  },
  {
   "cell_type": "markdown",
   "id": "geological-wales",
   "metadata": {},
   "source": [
    "### Tracks with Daceability Score Below 0.4\n",
    "\n",
    "There is 1 track with danceability score below 0.4 in the Top 50."
   ]
  },
  {
   "cell_type": "code",
   "execution_count": 367,
   "id": "seven-accused",
   "metadata": {},
   "outputs": [
    {
     "data": {
      "text/plain": [
       "track_name\n",
       "lovely (with Khalid)    True\n",
       "Name: danceability, dtype: bool"
      ]
     },
     "execution_count": 367,
     "metadata": {},
     "output_type": "execute_result"
    }
   ],
   "source": [
    "danceability_bool_low = danceability['danceability'] < 0.4\n",
    "danceability_low = danceability_bool_low[danceability_bool_low == True]\n",
    "\n",
    "danceability_low"
   ]
  },
  {
   "cell_type": "code",
   "execution_count": 369,
   "id": "violent-debate",
   "metadata": {},
   "outputs": [
    {
     "data": {
      "text/plain": [
       "1"
      ]
     },
     "execution_count": 369,
     "metadata": {},
     "output_type": "execute_result"
    }
   ],
   "source": [
    "danceability_low.shape[0]"
   ]
  },
  {
   "cell_type": "markdown",
   "id": "representative-diana",
   "metadata": {},
   "source": [
    "## Questions about the Loudness\n",
    "\n",
    "In this section, I will answer the following questions:\n",
    "\n",
    "1. Which tracks have their loudness above -5?\n",
    "2. Which tracks have their loudness below -8?"
   ]
  },
  {
   "cell_type": "code",
   "execution_count": 372,
   "id": "pacific-belfast",
   "metadata": {},
   "outputs": [
    {
     "data": {
      "text/html": [
       "<div>\n",
       "<style scoped>\n",
       "    .dataframe tbody tr th:only-of-type {\n",
       "        vertical-align: middle;\n",
       "    }\n",
       "\n",
       "    .dataframe tbody tr th {\n",
       "        vertical-align: top;\n",
       "    }\n",
       "\n",
       "    .dataframe thead th {\n",
       "        text-align: right;\n",
       "    }\n",
       "</style>\n",
       "<table border=\"1\" class=\"dataframe\">\n",
       "  <thead>\n",
       "    <tr style=\"text-align: right;\">\n",
       "      <th></th>\n",
       "      <th>album</th>\n",
       "      <th>loudness</th>\n",
       "    </tr>\n",
       "    <tr>\n",
       "      <th>track_name</th>\n",
       "      <th></th>\n",
       "      <th></th>\n",
       "    </tr>\n",
       "  </thead>\n",
       "  <tbody>\n",
       "    <tr>\n",
       "      <th>Blinding Lights</th>\n",
       "      <td>After Hours</td>\n",
       "      <td>-5.934</td>\n",
       "    </tr>\n",
       "    <tr>\n",
       "      <th>Dance Monkey</th>\n",
       "      <td>Dance Monkey</td>\n",
       "      <td>-6.401</td>\n",
       "    </tr>\n",
       "    <tr>\n",
       "      <th>The Box</th>\n",
       "      <td>Please Excuse Me For Being Antisocial</td>\n",
       "      <td>-6.687</td>\n",
       "    </tr>\n",
       "    <tr>\n",
       "      <th>Roses - Imanbek Remix</th>\n",
       "      <td>Roses (Imanbek Remix)</td>\n",
       "      <td>-5.457</td>\n",
       "    </tr>\n",
       "    <tr>\n",
       "      <th>Don't Start Now</th>\n",
       "      <td>Future Nostalgia</td>\n",
       "      <td>-4.521</td>\n",
       "    </tr>\n",
       "    <tr>\n",
       "      <th>ROCKSTAR (feat. Roddy Ricch)</th>\n",
       "      <td>BLAME IT ON BABY</td>\n",
       "      <td>-7.956</td>\n",
       "    </tr>\n",
       "    <tr>\n",
       "      <th>Watermelon Sugar</th>\n",
       "      <td>Fine Line</td>\n",
       "      <td>-4.209</td>\n",
       "    </tr>\n",
       "    <tr>\n",
       "      <th>death bed (coffee for your head)</th>\n",
       "      <td>death bed (coffee for your head)</td>\n",
       "      <td>-8.765</td>\n",
       "    </tr>\n",
       "    <tr>\n",
       "      <th>Falling</th>\n",
       "      <td>Nicotine</td>\n",
       "      <td>-8.756</td>\n",
       "    </tr>\n",
       "    <tr>\n",
       "      <th>Someone You Loved</th>\n",
       "      <td>Divinely Uninspired To A Hellish Extent</td>\n",
       "      <td>-5.679</td>\n",
       "    </tr>\n",
       "    <tr>\n",
       "      <th>Tusa</th>\n",
       "      <td>Tusa</td>\n",
       "      <td>-3.280</td>\n",
       "    </tr>\n",
       "    <tr>\n",
       "      <th>ROXANNE</th>\n",
       "      <td>ROXANNE</td>\n",
       "      <td>-5.616</td>\n",
       "    </tr>\n",
       "    <tr>\n",
       "      <th>Circles</th>\n",
       "      <td>Hollywood's Bleeding</td>\n",
       "      <td>-3.497</td>\n",
       "    </tr>\n",
       "    <tr>\n",
       "      <th>Blueberry Faygo</th>\n",
       "      <td>Certified Hitmaker</td>\n",
       "      <td>-7.909</td>\n",
       "    </tr>\n",
       "    <tr>\n",
       "      <th>Intentions (feat. Quavo)</th>\n",
       "      <td>Changes</td>\n",
       "      <td>-6.637</td>\n",
       "    </tr>\n",
       "    <tr>\n",
       "      <th>Toosie Slide</th>\n",
       "      <td>Dark Lane Demo Tapes</td>\n",
       "      <td>-8.820</td>\n",
       "    </tr>\n",
       "    <tr>\n",
       "      <th>Before You Go</th>\n",
       "      <td>Divinely Uninspired To A Hellish Extent (Exten...</td>\n",
       "      <td>-4.858</td>\n",
       "    </tr>\n",
       "    <tr>\n",
       "      <th>Say So</th>\n",
       "      <td>Hot Pink</td>\n",
       "      <td>-4.577</td>\n",
       "    </tr>\n",
       "    <tr>\n",
       "      <th>Memories</th>\n",
       "      <td>Memories</td>\n",
       "      <td>-7.209</td>\n",
       "    </tr>\n",
       "    <tr>\n",
       "      <th>Life Is Good (feat. Drake)</th>\n",
       "      <td>High Off Life</td>\n",
       "      <td>-6.903</td>\n",
       "    </tr>\n",
       "    <tr>\n",
       "      <th>Savage Love (Laxed - Siren Beat)</th>\n",
       "      <td>Savage Love (Laxed - Siren Beat)</td>\n",
       "      <td>-8.520</td>\n",
       "    </tr>\n",
       "    <tr>\n",
       "      <th>Adore You</th>\n",
       "      <td>Fine Line</td>\n",
       "      <td>-3.675</td>\n",
       "    </tr>\n",
       "    <tr>\n",
       "      <th>Breaking Me</th>\n",
       "      <td>Breaking Me</td>\n",
       "      <td>-5.652</td>\n",
       "    </tr>\n",
       "    <tr>\n",
       "      <th>Mood (feat. iann dior)</th>\n",
       "      <td>Mood (feat. iann dior)</td>\n",
       "      <td>-3.558</td>\n",
       "    </tr>\n",
       "    <tr>\n",
       "      <th>everything i wanted</th>\n",
       "      <td>everything i wanted</td>\n",
       "      <td>-14.454</td>\n",
       "    </tr>\n",
       "    <tr>\n",
       "      <th>Señorita</th>\n",
       "      <td>Shawn Mendes (Deluxe)</td>\n",
       "      <td>-6.049</td>\n",
       "    </tr>\n",
       "    <tr>\n",
       "      <th>bad guy</th>\n",
       "      <td>WHEN WE ALL FALL ASLEEP, WHERE DO WE GO?</td>\n",
       "      <td>-10.965</td>\n",
       "    </tr>\n",
       "    <tr>\n",
       "      <th>WAP (feat. Megan Thee Stallion)</th>\n",
       "      <td>WAP (feat. Megan Thee Stallion)</td>\n",
       "      <td>-7.509</td>\n",
       "    </tr>\n",
       "    <tr>\n",
       "      <th>Sunday Best</th>\n",
       "      <td>Where the Light Is</td>\n",
       "      <td>-6.832</td>\n",
       "    </tr>\n",
       "    <tr>\n",
       "      <th>Godzilla (feat. Juice WRLD)</th>\n",
       "      <td>Music To Be Murdered By</td>\n",
       "      <td>-5.260</td>\n",
       "    </tr>\n",
       "    <tr>\n",
       "      <th>Yummy</th>\n",
       "      <td>Changes</td>\n",
       "      <td>-6.652</td>\n",
       "    </tr>\n",
       "    <tr>\n",
       "      <th>Break My Heart</th>\n",
       "      <td>Future Nostalgia</td>\n",
       "      <td>-3.434</td>\n",
       "    </tr>\n",
       "    <tr>\n",
       "      <th>Dynamite</th>\n",
       "      <td>Dynamite (DayTime Version)</td>\n",
       "      <td>-4.410</td>\n",
       "    </tr>\n",
       "    <tr>\n",
       "      <th>Supalonely (feat. Gus Dapperton)</th>\n",
       "      <td>Hey u x</td>\n",
       "      <td>-4.746</td>\n",
       "    </tr>\n",
       "    <tr>\n",
       "      <th>ily (i love you baby) (feat. Emilee)</th>\n",
       "      <td>ily (i love you baby) (feat. Emilee)</td>\n",
       "      <td>-7.567</td>\n",
       "    </tr>\n",
       "    <tr>\n",
       "      <th>Rain On Me (with Ariana Grande)</th>\n",
       "      <td>Chromatica</td>\n",
       "      <td>-3.764</td>\n",
       "    </tr>\n",
       "    <tr>\n",
       "      <th>HIGHEST IN THE ROOM</th>\n",
       "      <td>HIGHEST IN THE ROOM</td>\n",
       "      <td>-8.764</td>\n",
       "    </tr>\n",
       "    <tr>\n",
       "      <th>Sunflower - Spider-Man: Into the Spider-Verse</th>\n",
       "      <td>Hollywood's Bleeding</td>\n",
       "      <td>-4.368</td>\n",
       "    </tr>\n",
       "    <tr>\n",
       "      <th>Hawái</th>\n",
       "      <td>PAPI JUANCHO</td>\n",
       "      <td>-3.454</td>\n",
       "    </tr>\n",
       "    <tr>\n",
       "      <th>Ride It</th>\n",
       "      <td>Ride It</td>\n",
       "      <td>-4.258</td>\n",
       "    </tr>\n",
       "    <tr>\n",
       "      <th>goosebumps</th>\n",
       "      <td>Birds In The Trap Sing McKnight</td>\n",
       "      <td>-3.370</td>\n",
       "    </tr>\n",
       "    <tr>\n",
       "      <th>RITMO (Bad Boys For Life)</th>\n",
       "      <td>Translation</td>\n",
       "      <td>-7.088</td>\n",
       "    </tr>\n",
       "    <tr>\n",
       "      <th>THE SCOTTS</th>\n",
       "      <td>THE SCOTTS</td>\n",
       "      <td>-7.648</td>\n",
       "    </tr>\n",
       "    <tr>\n",
       "      <th>Safaera</th>\n",
       "      <td>YHLQMDLG</td>\n",
       "      <td>-4.074</td>\n",
       "    </tr>\n",
       "    <tr>\n",
       "      <th>lovely (with Khalid)</th>\n",
       "      <td>lovely (with Khalid)</td>\n",
       "      <td>-10.109</td>\n",
       "    </tr>\n",
       "    <tr>\n",
       "      <th>Lucid Dreams</th>\n",
       "      <td>Goodbye &amp; Good Riddance</td>\n",
       "      <td>-7.230</td>\n",
       "    </tr>\n",
       "    <tr>\n",
       "      <th>Stuck with U (with Justin Bieber)</th>\n",
       "      <td>Stuck with U</td>\n",
       "      <td>-6.658</td>\n",
       "    </tr>\n",
       "    <tr>\n",
       "      <th>If the World Was Ending - feat. Julia Michaels</th>\n",
       "      <td>If the World Was Ending (feat. Julia Michaels)</td>\n",
       "      <td>-10.086</td>\n",
       "    </tr>\n",
       "    <tr>\n",
       "      <th>Physical</th>\n",
       "      <td>Future Nostalgia</td>\n",
       "      <td>-3.756</td>\n",
       "    </tr>\n",
       "    <tr>\n",
       "      <th>SICKO MODE</th>\n",
       "      <td>ASTROWORLD</td>\n",
       "      <td>-3.714</td>\n",
       "    </tr>\n",
       "  </tbody>\n",
       "</table>\n",
       "</div>"
      ],
      "text/plain": [
       "                                                                                            album  \\\n",
       "track_name                                                                                          \n",
       "Blinding Lights                                                                       After Hours   \n",
       "Dance Monkey                                                                         Dance Monkey   \n",
       "The Box                                                     Please Excuse Me For Being Antisocial   \n",
       "Roses - Imanbek Remix                                                       Roses (Imanbek Remix)   \n",
       "Don't Start Now                                                                  Future Nostalgia   \n",
       "ROCKSTAR (feat. Roddy Ricch)                                                     BLAME IT ON BABY   \n",
       "Watermelon Sugar                                                                        Fine Line   \n",
       "death bed (coffee for your head)                                 death bed (coffee for your head)   \n",
       "Falling                                                                                  Nicotine   \n",
       "Someone You Loved                                         Divinely Uninspired To A Hellish Extent   \n",
       "Tusa                                                                                         Tusa   \n",
       "ROXANNE                                                                                   ROXANNE   \n",
       "Circles                                                                      Hollywood's Bleeding   \n",
       "Blueberry Faygo                                                                Certified Hitmaker   \n",
       "Intentions (feat. Quavo)                                                                  Changes   \n",
       "Toosie Slide                                                                 Dark Lane Demo Tapes   \n",
       "Before You Go                                   Divinely Uninspired To A Hellish Extent (Exten...   \n",
       "Say So                                                                                   Hot Pink   \n",
       "Memories                                                                                 Memories   \n",
       "Life Is Good (feat. Drake)                                                          High Off Life   \n",
       "Savage Love (Laxed - Siren Beat)                                 Savage Love (Laxed - Siren Beat)   \n",
       "Adore You                                                                               Fine Line   \n",
       "Breaking Me                                                                           Breaking Me   \n",
       "Mood (feat. iann dior)                                                     Mood (feat. iann dior)   \n",
       "everything i wanted                                                           everything i wanted   \n",
       "Señorita                                                                    Shawn Mendes (Deluxe)   \n",
       "bad guy                                                  WHEN WE ALL FALL ASLEEP, WHERE DO WE GO?   \n",
       "WAP (feat. Megan Thee Stallion)                                   WAP (feat. Megan Thee Stallion)   \n",
       "Sunday Best                                                                    Where the Light Is   \n",
       "Godzilla (feat. Juice WRLD)                                               Music To Be Murdered By   \n",
       "Yummy                                                                                     Changes   \n",
       "Break My Heart                                                                   Future Nostalgia   \n",
       "Dynamite                                                               Dynamite (DayTime Version)   \n",
       "Supalonely (feat. Gus Dapperton)                                                          Hey u x   \n",
       "ily (i love you baby) (feat. Emilee)                         ily (i love you baby) (feat. Emilee)   \n",
       "Rain On Me (with Ariana Grande)                                                        Chromatica   \n",
       "HIGHEST IN THE ROOM                                                           HIGHEST IN THE ROOM   \n",
       "Sunflower - Spider-Man: Into the Spider-Verse                                Hollywood's Bleeding   \n",
       "Hawái                                                                                PAPI JUANCHO   \n",
       "Ride It                                                                                   Ride It   \n",
       "goosebumps                                                        Birds In The Trap Sing McKnight   \n",
       "RITMO (Bad Boys For Life)                                                             Translation   \n",
       "THE SCOTTS                                                                             THE SCOTTS   \n",
       "Safaera                                                                                  YHLQMDLG   \n",
       "lovely (with Khalid)                                                         lovely (with Khalid)   \n",
       "Lucid Dreams                                                              Goodbye & Good Riddance   \n",
       "Stuck with U (with Justin Bieber)                                                    Stuck with U   \n",
       "If the World Was Ending - feat. Julia Michaels     If the World Was Ending (feat. Julia Michaels)   \n",
       "Physical                                                                         Future Nostalgia   \n",
       "SICKO MODE                                                                             ASTROWORLD   \n",
       "\n",
       "                                                loudness  \n",
       "track_name                                                \n",
       "Blinding Lights                                   -5.934  \n",
       "Dance Monkey                                      -6.401  \n",
       "The Box                                           -6.687  \n",
       "Roses - Imanbek Remix                             -5.457  \n",
       "Don't Start Now                                   -4.521  \n",
       "ROCKSTAR (feat. Roddy Ricch)                      -7.956  \n",
       "Watermelon Sugar                                  -4.209  \n",
       "death bed (coffee for your head)                  -8.765  \n",
       "Falling                                           -8.756  \n",
       "Someone You Loved                                 -5.679  \n",
       "Tusa                                              -3.280  \n",
       "ROXANNE                                           -5.616  \n",
       "Circles                                           -3.497  \n",
       "Blueberry Faygo                                   -7.909  \n",
       "Intentions (feat. Quavo)                          -6.637  \n",
       "Toosie Slide                                      -8.820  \n",
       "Before You Go                                     -4.858  \n",
       "Say So                                            -4.577  \n",
       "Memories                                          -7.209  \n",
       "Life Is Good (feat. Drake)                        -6.903  \n",
       "Savage Love (Laxed - Siren Beat)                  -8.520  \n",
       "Adore You                                         -3.675  \n",
       "Breaking Me                                       -5.652  \n",
       "Mood (feat. iann dior)                            -3.558  \n",
       "everything i wanted                              -14.454  \n",
       "Señorita                                          -6.049  \n",
       "bad guy                                          -10.965  \n",
       "WAP (feat. Megan Thee Stallion)                   -7.509  \n",
       "Sunday Best                                       -6.832  \n",
       "Godzilla (feat. Juice WRLD)                       -5.260  \n",
       "Yummy                                             -6.652  \n",
       "Break My Heart                                    -3.434  \n",
       "Dynamite                                          -4.410  \n",
       "Supalonely (feat. Gus Dapperton)                  -4.746  \n",
       "ily (i love you baby) (feat. Emilee)              -7.567  \n",
       "Rain On Me (with Ariana Grande)                   -3.764  \n",
       "HIGHEST IN THE ROOM                               -8.764  \n",
       "Sunflower - Spider-Man: Into the Spider-Verse     -4.368  \n",
       "Hawái                                             -3.454  \n",
       "Ride It                                           -4.258  \n",
       "goosebumps                                        -3.370  \n",
       "RITMO (Bad Boys For Life)                         -7.088  \n",
       "THE SCOTTS                                        -7.648  \n",
       "Safaera                                           -4.074  \n",
       "lovely (with Khalid)                             -10.109  \n",
       "Lucid Dreams                                      -7.230  \n",
       "Stuck with U (with Justin Bieber)                 -6.658  \n",
       "If the World Was Ending - feat. Julia Michaels   -10.086  \n",
       "Physical                                          -3.756  \n",
       "SICKO MODE                                        -3.714  "
      ]
     },
     "execution_count": 372,
     "metadata": {},
     "output_type": "execute_result"
    }
   ],
   "source": [
    "loudness = top_fifty[['track_name','album','loudness']] # Creates a new data frame from the original.\n",
    "loudness.set_index('track_name', inplace = True) # Sets the track_name as the index.\n",
    "\n",
    "loudness"
   ]
  },
  {
   "cell_type": "markdown",
   "id": "reverse-abortion",
   "metadata": {},
   "source": [
    "### Tracks with Loudness Score above -5\n",
    "\n",
    "There are 19 tracks with loudness scores above -5. They are listed below."
   ]
  },
  {
   "cell_type": "code",
   "execution_count": 373,
   "id": "entitled-village",
   "metadata": {},
   "outputs": [
    {
     "data": {
      "text/plain": [
       "track_name\n",
       "Don't Start Now                                  True\n",
       "Watermelon Sugar                                 True\n",
       "Tusa                                             True\n",
       "Circles                                          True\n",
       "Before You Go                                    True\n",
       "Say So                                           True\n",
       "Adore You                                        True\n",
       "Mood (feat. iann dior)                           True\n",
       "Break My Heart                                   True\n",
       "Dynamite                                         True\n",
       "Supalonely (feat. Gus Dapperton)                 True\n",
       "Rain On Me (with Ariana Grande)                  True\n",
       "Sunflower - Spider-Man: Into the Spider-Verse    True\n",
       "Hawái                                            True\n",
       "Ride It                                          True\n",
       "goosebumps                                       True\n",
       "Safaera                                          True\n",
       "Physical                                         True\n",
       "SICKO MODE                                       True\n",
       "Name: loudness, dtype: bool"
      ]
     },
     "execution_count": 373,
     "metadata": {},
     "output_type": "execute_result"
    }
   ],
   "source": [
    "loudness_bool_high = loudness['loudness'] > -5\n",
    "loudness_high = loudness_bool_high[loudness_bool_high == True]\n",
    "\n",
    "loudness_high"
   ]
  },
  {
   "cell_type": "code",
   "execution_count": 374,
   "id": "union-sitting",
   "metadata": {},
   "outputs": [
    {
     "data": {
      "text/plain": [
       "19"
      ]
     },
     "execution_count": 374,
     "metadata": {},
     "output_type": "execute_result"
    }
   ],
   "source": [
    "loudness_high.shape[0]"
   ]
  },
  {
   "cell_type": "markdown",
   "id": "individual-ticket",
   "metadata": {},
   "source": [
    "### Tracks with Loudness Score Below -8\n",
    "\n",
    "There are 9 tracks with loudness scores below -8. They are listed below."
   ]
  },
  {
   "cell_type": "code",
   "execution_count": 377,
   "id": "brave-leone",
   "metadata": {},
   "outputs": [
    {
     "data": {
      "text/plain": [
       "track_name\n",
       "death bed (coffee for your head)                  True\n",
       "Falling                                           True\n",
       "Toosie Slide                                      True\n",
       "Savage Love (Laxed - Siren Beat)                  True\n",
       "everything i wanted                               True\n",
       "bad guy                                           True\n",
       "HIGHEST IN THE ROOM                               True\n",
       "lovely (with Khalid)                              True\n",
       "If the World Was Ending - feat. Julia Michaels    True\n",
       "Name: loudness, dtype: bool"
      ]
     },
     "execution_count": 377,
     "metadata": {},
     "output_type": "execute_result"
    }
   ],
   "source": [
    "loudness_bool_low = loudness['loudness'] < -8\n",
    "loudness_low = loudness_bool_low[loudness_bool_low == True]\n",
    "\n",
    "loudness_low"
   ]
  },
  {
   "cell_type": "code",
   "execution_count": 378,
   "id": "norman-omaha",
   "metadata": {},
   "outputs": [
    {
     "data": {
      "text/plain": [
       "9"
      ]
     },
     "execution_count": 378,
     "metadata": {},
     "output_type": "execute_result"
    }
   ],
   "source": [
    "loudness_low.shape[0]"
   ]
  },
  {
   "cell_type": "markdown",
   "id": "acceptable-cooling",
   "metadata": {},
   "source": [
    "## Questions about the Correlation\n",
    "\n",
    "In this section, I will answer the following questions:\n",
    "\n",
    "1. Which features are strongly positively correlated?\n",
    "2. Which features are strongly negatively correlated?\n",
    "3. Which features are not correlated?\n",
    "4. How does the danceability score compare between Pop, Hip-Hop/Rap, Dance/Electronic, and Alternative/Indie genres?\n",
    "5. How does the loudness score compare between Pop, Hip-Hop/Rap, Dance/Electronic, and Alternative/Indie genres?\n",
    "6. How does the acousticness score compare between Pop, Hip-Hop/Rap, Dance/Electronic, and Alternative/Indie genres?"
   ]
  },
  {
   "cell_type": "markdown",
   "id": "abandoned-times",
   "metadata": {},
   "source": [
    "### Correlation between Numerical Features"
   ]
  },
  {
   "cell_type": "code",
   "execution_count": null,
   "id": "linear-jones",
   "metadata": {},
   "outputs": [],
   "source": [
    "numerical_values = top_fifty.drop(['track_id','artist', 'album', 'track_name', 'genre'], axis = 1)\n",
    "\n",
    "numerical_values"
   ]
  },
  {
   "cell_type": "code",
   "execution_count": 393,
   "id": "overall-invasion",
   "metadata": {
    "scrolled": true
   },
   "outputs": [
    {
     "data": {
      "text/html": [
       "<div>\n",
       "<style scoped>\n",
       "    .dataframe tbody tr th:only-of-type {\n",
       "        vertical-align: middle;\n",
       "    }\n",
       "\n",
       "    .dataframe tbody tr th {\n",
       "        vertical-align: top;\n",
       "    }\n",
       "\n",
       "    .dataframe thead th {\n",
       "        text-align: right;\n",
       "    }\n",
       "</style>\n",
       "<table border=\"1\" class=\"dataframe\">\n",
       "  <thead>\n",
       "    <tr style=\"text-align: right;\">\n",
       "      <th></th>\n",
       "      <th>energy</th>\n",
       "      <th>danceability</th>\n",
       "      <th>key</th>\n",
       "      <th>loudness</th>\n",
       "      <th>acousticness</th>\n",
       "      <th>speechiness</th>\n",
       "      <th>instrumentalness</th>\n",
       "      <th>liveness</th>\n",
       "      <th>valence</th>\n",
       "      <th>tempo</th>\n",
       "      <th>duration_ms</th>\n",
       "    </tr>\n",
       "  </thead>\n",
       "  <tbody>\n",
       "    <tr>\n",
       "      <th>energy</th>\n",
       "      <td>1.000000</td>\n",
       "      <td>0.152552</td>\n",
       "      <td>0.062428</td>\n",
       "      <td>0.791640</td>\n",
       "      <td>-0.682479</td>\n",
       "      <td>0.074267</td>\n",
       "      <td>-0.385515</td>\n",
       "      <td>0.069487</td>\n",
       "      <td>0.393453</td>\n",
       "      <td>0.075191</td>\n",
       "      <td>0.081971</td>\n",
       "    </tr>\n",
       "    <tr>\n",
       "      <th>danceability</th>\n",
       "      <td>0.152552</td>\n",
       "      <td>1.000000</td>\n",
       "      <td>0.285036</td>\n",
       "      <td>0.167147</td>\n",
       "      <td>-0.359135</td>\n",
       "      <td>0.226148</td>\n",
       "      <td>-0.017706</td>\n",
       "      <td>-0.006648</td>\n",
       "      <td>0.479953</td>\n",
       "      <td>0.168956</td>\n",
       "      <td>-0.033763</td>\n",
       "    </tr>\n",
       "    <tr>\n",
       "      <th>key</th>\n",
       "      <td>0.062428</td>\n",
       "      <td>0.285036</td>\n",
       "      <td>1.000000</td>\n",
       "      <td>-0.009178</td>\n",
       "      <td>-0.113394</td>\n",
       "      <td>-0.094965</td>\n",
       "      <td>0.020802</td>\n",
       "      <td>0.278672</td>\n",
       "      <td>0.120007</td>\n",
       "      <td>0.080475</td>\n",
       "      <td>-0.003345</td>\n",
       "    </tr>\n",
       "    <tr>\n",
       "      <th>loudness</th>\n",
       "      <td>0.791640</td>\n",
       "      <td>0.167147</td>\n",
       "      <td>-0.009178</td>\n",
       "      <td>1.000000</td>\n",
       "      <td>-0.498695</td>\n",
       "      <td>-0.021693</td>\n",
       "      <td>-0.553735</td>\n",
       "      <td>-0.069939</td>\n",
       "      <td>0.406772</td>\n",
       "      <td>0.102097</td>\n",
       "      <td>0.064130</td>\n",
       "    </tr>\n",
       "    <tr>\n",
       "      <th>acousticness</th>\n",
       "      <td>-0.682479</td>\n",
       "      <td>-0.359135</td>\n",
       "      <td>-0.113394</td>\n",
       "      <td>-0.498695</td>\n",
       "      <td>1.000000</td>\n",
       "      <td>-0.135392</td>\n",
       "      <td>0.352184</td>\n",
       "      <td>-0.128384</td>\n",
       "      <td>-0.243192</td>\n",
       "      <td>-0.241119</td>\n",
       "      <td>-0.010988</td>\n",
       "    </tr>\n",
       "    <tr>\n",
       "      <th>speechiness</th>\n",
       "      <td>0.074267</td>\n",
       "      <td>0.226148</td>\n",
       "      <td>-0.094965</td>\n",
       "      <td>-0.021693</td>\n",
       "      <td>-0.135392</td>\n",
       "      <td>1.000000</td>\n",
       "      <td>0.028948</td>\n",
       "      <td>-0.142957</td>\n",
       "      <td>0.053867</td>\n",
       "      <td>0.215504</td>\n",
       "      <td>0.366976</td>\n",
       "    </tr>\n",
       "    <tr>\n",
       "      <th>instrumentalness</th>\n",
       "      <td>-0.385515</td>\n",
       "      <td>-0.017706</td>\n",
       "      <td>0.020802</td>\n",
       "      <td>-0.553735</td>\n",
       "      <td>0.352184</td>\n",
       "      <td>0.028948</td>\n",
       "      <td>1.000000</td>\n",
       "      <td>-0.087034</td>\n",
       "      <td>-0.203283</td>\n",
       "      <td>0.018853</td>\n",
       "      <td>0.184709</td>\n",
       "    </tr>\n",
       "    <tr>\n",
       "      <th>liveness</th>\n",
       "      <td>0.069487</td>\n",
       "      <td>-0.006648</td>\n",
       "      <td>0.278672</td>\n",
       "      <td>-0.069939</td>\n",
       "      <td>-0.128384</td>\n",
       "      <td>-0.142957</td>\n",
       "      <td>-0.087034</td>\n",
       "      <td>1.000000</td>\n",
       "      <td>-0.033366</td>\n",
       "      <td>0.025457</td>\n",
       "      <td>-0.090188</td>\n",
       "    </tr>\n",
       "    <tr>\n",
       "      <th>valence</th>\n",
       "      <td>0.393453</td>\n",
       "      <td>0.479953</td>\n",
       "      <td>0.120007</td>\n",
       "      <td>0.406772</td>\n",
       "      <td>-0.243192</td>\n",
       "      <td>0.053867</td>\n",
       "      <td>-0.203283</td>\n",
       "      <td>-0.033366</td>\n",
       "      <td>1.000000</td>\n",
       "      <td>0.045089</td>\n",
       "      <td>-0.039794</td>\n",
       "    </tr>\n",
       "    <tr>\n",
       "      <th>tempo</th>\n",
       "      <td>0.075191</td>\n",
       "      <td>0.168956</td>\n",
       "      <td>0.080475</td>\n",
       "      <td>0.102097</td>\n",
       "      <td>-0.241119</td>\n",
       "      <td>0.215504</td>\n",
       "      <td>0.018853</td>\n",
       "      <td>0.025457</td>\n",
       "      <td>0.045089</td>\n",
       "      <td>1.000000</td>\n",
       "      <td>0.130328</td>\n",
       "    </tr>\n",
       "    <tr>\n",
       "      <th>duration_ms</th>\n",
       "      <td>0.081971</td>\n",
       "      <td>-0.033763</td>\n",
       "      <td>-0.003345</td>\n",
       "      <td>0.064130</td>\n",
       "      <td>-0.010988</td>\n",
       "      <td>0.366976</td>\n",
       "      <td>0.184709</td>\n",
       "      <td>-0.090188</td>\n",
       "      <td>-0.039794</td>\n",
       "      <td>0.130328</td>\n",
       "      <td>1.000000</td>\n",
       "    </tr>\n",
       "  </tbody>\n",
       "</table>\n",
       "</div>"
      ],
      "text/plain": [
       "                    energy  danceability       key  loudness  acousticness  \\\n",
       "energy            1.000000      0.152552  0.062428  0.791640     -0.682479   \n",
       "danceability      0.152552      1.000000  0.285036  0.167147     -0.359135   \n",
       "key               0.062428      0.285036  1.000000 -0.009178     -0.113394   \n",
       "loudness          0.791640      0.167147 -0.009178  1.000000     -0.498695   \n",
       "acousticness     -0.682479     -0.359135 -0.113394 -0.498695      1.000000   \n",
       "speechiness       0.074267      0.226148 -0.094965 -0.021693     -0.135392   \n",
       "instrumentalness -0.385515     -0.017706  0.020802 -0.553735      0.352184   \n",
       "liveness          0.069487     -0.006648  0.278672 -0.069939     -0.128384   \n",
       "valence           0.393453      0.479953  0.120007  0.406772     -0.243192   \n",
       "tempo             0.075191      0.168956  0.080475  0.102097     -0.241119   \n",
       "duration_ms       0.081971     -0.033763 -0.003345  0.064130     -0.010988   \n",
       "\n",
       "                  speechiness  instrumentalness  liveness   valence     tempo  \\\n",
       "energy               0.074267         -0.385515  0.069487  0.393453  0.075191   \n",
       "danceability         0.226148         -0.017706 -0.006648  0.479953  0.168956   \n",
       "key                 -0.094965          0.020802  0.278672  0.120007  0.080475   \n",
       "loudness            -0.021693         -0.553735 -0.069939  0.406772  0.102097   \n",
       "acousticness        -0.135392          0.352184 -0.128384 -0.243192 -0.241119   \n",
       "speechiness          1.000000          0.028948 -0.142957  0.053867  0.215504   \n",
       "instrumentalness     0.028948          1.000000 -0.087034 -0.203283  0.018853   \n",
       "liveness            -0.142957         -0.087034  1.000000 -0.033366  0.025457   \n",
       "valence              0.053867         -0.203283 -0.033366  1.000000  0.045089   \n",
       "tempo                0.215504          0.018853  0.025457  0.045089  1.000000   \n",
       "duration_ms          0.366976          0.184709 -0.090188 -0.039794  0.130328   \n",
       "\n",
       "                  duration_ms  \n",
       "energy               0.081971  \n",
       "danceability        -0.033763  \n",
       "key                 -0.003345  \n",
       "loudness             0.064130  \n",
       "acousticness        -0.010988  \n",
       "speechiness          0.366976  \n",
       "instrumentalness     0.184709  \n",
       "liveness            -0.090188  \n",
       "valence             -0.039794  \n",
       "tempo                0.130328  \n",
       "duration_ms          1.000000  "
      ]
     },
     "execution_count": 393,
     "metadata": {},
     "output_type": "execute_result"
    }
   ],
   "source": [
    "corr_matrix_numerical = numerical_values.corr()\n",
    "\n",
    "corr_matrix_numerical\n",
    "# print(corr_matrix[\"your_target_variable\"].sort_values(ascending=False))"
   ]
  },
  {
   "cell_type": "code",
   "execution_count": 402,
   "id": "round-elder",
   "metadata": {},
   "outputs": [
    {
     "data": {
      "text/plain": [
       "<AxesSubplot:>"
      ]
     },
     "execution_count": 402,
     "metadata": {},
     "output_type": "execute_result"
    },
    {
     "data": {
      "image/png": "[encoded data removed]",
      "text/plain": [
       "<Figure size 432x288 with 2 Axes>"
      ]
     },
     "metadata": {
      "needs_background": "light"
     },
     "output_type": "display_data"
    }
   ],
   "source": [
    "sns.heatmap(corr_matrix_numerical.corr())"
   ]
  },
  {
   "cell_type": "markdown",
   "id": "shared-oklahoma",
   "metadata": {},
   "source": [
    "### Correlation between Catagorical Features"
   ]
  },
  {
   "cell_type": "code",
   "execution_count": 394,
   "id": "surprised-snapshot",
   "metadata": {},
   "outputs": [],
   "source": [
    "top_fifty['artist'] =top_fifty['artist'].astype('category').cat.codes\n",
    "top_fifty['album'] =top_fifty['album'].astype('category').cat.codes\n",
    "top_fifty['track_name'] =top_fifty['track_name'].astype('category').cat.codes\n",
    "top_fifty['genre'] =top_fifty['genre'].astype('category').cat.codes"
   ]
  },
  {
   "cell_type": "code",
   "execution_count": null,
   "id": "stretch-netherlands",
   "metadata": {},
   "outputs": [],
   "source": [
    "catagorical_values = top_fifty[['artist', 'album', 'track_name', 'genre']]\n",
    "\n",
    "catagorical_values"
   ]
  },
  {
   "cell_type": "code",
   "execution_count": null,
   "id": "complicated-capital",
   "metadata": {
    "scrolled": true
   },
   "outputs": [],
   "source": [
    "corr_matrix_catagorical = catagorical_values.corr()\n",
    "\n",
    "corr_matrix_catagorical\n",
    "# print(corr_matrix[\"your_target_variable\"].sort_values(ascending=False))"
   ]
  },
  {
   "cell_type": "code",
   "execution_count": 403,
   "id": "vocational-indiana",
   "metadata": {},
   "outputs": [
    {
     "data": {
      "text/plain": [
       "<AxesSubplot:>"
      ]
     },
     "execution_count": 403,
     "metadata": {},
     "output_type": "execute_result"
    },
    {
     "data": {
      "image/png": "[encoded data removed]",
      "text/plain": [
       "<Figure size 432x288 with 2 Axes>"
      ]
     },
     "metadata": {
      "needs_background": "light"
     },
     "output_type": "display_data"
    }
   ],
   "source": [
    "sns.heatmap(corr_matrix_catagorical.corr())"
   ]
  },
  {
   "cell_type": "markdown",
   "id": "controlling-johns",
   "metadata": {},
   "source": [
    "### Correlation between All Features Numerical and Catagorical"
   ]
  },
  {
   "cell_type": "code",
   "execution_count": null,
   "id": "dedicated-rogers",
   "metadata": {},
   "outputs": [],
   "source": [
    "all_values = top_fifty.drop(['track_id'], axis = 1) # I dropped track_id.\n",
    "\n",
    "all_values"
   ]
  },
  {
   "cell_type": "code",
   "execution_count": null,
   "id": "remarkable-genesis",
   "metadata": {},
   "outputs": [],
   "source": [
    "corr_matrix_all = all_values.corr()\n",
    "\n",
    "corr_matrix_all\n",
    "# print(corr_matrix[\"your_target_variable\"].sort_values(ascending=False))"
   ]
  },
  {
   "cell_type": "code",
   "execution_count": 404,
   "id": "common-comedy",
   "metadata": {},
   "outputs": [
    {
     "data": {
      "text/plain": [
       "<AxesSubplot:>"
      ]
     },
     "execution_count": 404,
     "metadata": {},
     "output_type": "execute_result"
    },
    {
     "data": {
      "image/png": "[encoded data removed]",
      "text/plain": [
       "<Figure size 432x288 with 2 Axes>"
      ]
     },
     "metadata": {
      "needs_background": "light"
     },
     "output_type": "display_data"
    }
   ],
   "source": [
    "sns.heatmap(corr_matrix_all.corr())"
   ]
  },
  {
   "cell_type": "markdown",
   "id": "italic-courage",
   "metadata": {},
   "source": [
    "### Features that are Strongly Positively Correlated"
   ]
  },
  {
   "cell_type": "markdown",
   "id": "cognitive-amount",
   "metadata": {},
   "source": [
    "### Features that are Strongly Negatively Correlated"
   ]
  },
  {
   "cell_type": "markdown",
   "id": "organizational-surface",
   "metadata": {},
   "source": [
    "### Features that are not Correlated"
   ]
  },
  {
   "cell_type": "markdown",
   "id": "demonstrated-mailman",
   "metadata": {},
   "source": [
    "### How Danceability Score Compare Between Pop, Hip-Hop/Rap, Dance/Electronic, and Alternative/Indie genres?"
   ]
  },
  {
   "cell_type": "markdown",
   "id": "rapid-genetics",
   "metadata": {},
   "source": [
    "### How Loudness Score Compare Between Pop, Hip-Hop/Rap, Dance/Electronic, and Alternative/Indie genres?"
   ]
  },
  {
   "cell_type": "markdown",
   "id": "stuck-aircraft",
   "metadata": {},
   "source": [
    "### How Acousticness Score Compare Between Pop, Hip-Hop/Rap, Dance/Electronic, and Alternative/Indie genres?"
   ]
  },
  {
   "cell_type": "markdown",
   "id": "southeast-bulletin",
   "metadata": {},
   "source": [
    "## Outliers\n",
    "\n",
    "In broad strokes, there are three causes for outliers—data entry or measurement errors, sampling problems and unusual conditions, and natural variation.\n",
    "\n",
    "1. Data Entry and Measurement Errors\n",
    "2. Sampling Problems\n",
    "3. Natural Variation\n",
    "\n",
    "Even though there is data that does not fit the rest, I left it in the model. It’s bad practice to remove data points simply to produce a better fitting model or statistically significant results.\n",
    "\n",
    "If the extreme value is a legitimate observation that is a natural part of the population you’re studying, you should leave it in the dataset. I’ll explain how to analyze datasets that contain outliers you can’t exclude shortly!\n",
    "\n",
    "They can capture valuable information that is part of your study area. Retaining these points can be hard, particularly when it reduces statistical significance! However, excluding extreme values solely due to their extremeness can distort the results by removing information about the variability inherent in the study area. You’re forcing the subject area to appear less variable than it is in reality."
   ]
  },
  {
   "cell_type": "code",
   "execution_count": 425,
   "id": "amended-jewel",
   "metadata": {},
   "outputs": [],
   "source": [
    "# Ignores FutureWarning message that appears with the code below.\n",
    "\n",
    "warnings.simplefilter(action = \"ignore\", category = FutureWarning) "
   ]
  },
  {
   "cell_type": "code",
   "execution_count": 423,
   "id": "chicken-monroe",
   "metadata": {},
   "outputs": [
    {
     "data": {
      "text/plain": [
       "acousticness         7\n",
       "album                0\n",
       "artist               0\n",
       "danceability         3\n",
       "duration_ms          2\n",
       "energy               0\n",
       "genre                0\n",
       "instrumentalness    12\n",
       "key                  0\n",
       "liveness             3\n",
       "loudness             1\n",
       "speechiness          6\n",
       "tempo                0\n",
       "track_id             0\n",
       "track_name           0\n",
       "valence              0\n",
       "dtype: int64"
      ]
     },
     "execution_count": 423,
     "metadata": {},
     "output_type": "execute_result"
    }
   ],
   "source": [
    "Q1 = top_fifty.quantile(0.25)\n",
    "Q3 = top_fifty.quantile(0.75)\n",
    "IQR = Q3 - Q1\n",
    "\n",
    "outliers_df = (top_fifty < (Q1 - 1.5 * IQR)) | (\n",
    "    top_fifty > (Q3 + 1.5 * IQR)\n",
    ")\n",
    "\n",
    "((top_fifty < (Q1 - 1.5 * IQR)) | (top_fifty > (Q3 + 1.5 * IQR))).sum()"
   ]
  },
  {
   "cell_type": "markdown",
   "id": "outside-canon",
   "metadata": {},
   "source": [
    "### Outliers: Acousticness \n",
    "\n",
    "Acousticness has 7 outliers."
   ]
  },
  {
   "cell_type": "code",
   "execution_count": 432,
   "id": "touched-empire",
   "metadata": {
    "scrolled": true
   },
   "outputs": [
    {
     "name": "stdout",
     "output_type": "stream",
     "text": [
      "0.0528\n",
      "0.29874999999999996\n",
      "0.24594999999999995\n",
      "-0.31612499999999993 0.6676749999999999\n"
     ]
    }
   ],
   "source": [
    "Q1 = top_fifty['acousticness'].quantile(0.25)\n",
    "Q3 = top_fifty['acousticness'].quantile(0.75)\n",
    "IQR = Q3-Q1\n",
    "print(Q1)\n",
    "print(Q3)\n",
    "print(IQR)\n",
    "Lower_Whisker = Q1 - 1.5 * IQR\n",
    "Upper_Whisker = Q3 + 1.5 * IQR\n",
    "print(Lower_Whisker, Upper_Whisker)"
   ]
  },
  {
   "cell_type": "code",
   "execution_count": 433,
   "id": "charitable-lancaster",
   "metadata": {
    "scrolled": true
   },
   "outputs": [
    {
     "data": {
      "text/plain": [
       "<AxesSubplot:xlabel='acousticness'>"
      ]
     },
     "execution_count": 433,
     "metadata": {},
     "output_type": "execute_result"
    },
    {
     "data": {
      "image/png": "[encoded data removed]",
      "text/plain": [
       "<Figure size 432x288 with 1 Axes>"
      ]
     },
     "metadata": {
      "needs_background": "light"
     },
     "output_type": "display_data"
    }
   ],
   "source": [
    "sns.boxplot(data = top_fifty, x = top_fifty ['acousticness'])"
   ]
  },
  {
   "cell_type": "markdown",
   "id": "uniform-flood",
   "metadata": {},
   "source": [
    "### Outliers: Danceability\n",
    "\n",
    "Danceability has 3 outliers."
   ]
  },
  {
   "cell_type": "code",
   "execution_count": 434,
   "id": "alert-charm",
   "metadata": {
    "scrolled": true
   },
   "outputs": [
    {
     "name": "stdout",
     "output_type": "stream",
     "text": [
      "0.6725000000000001\n",
      "0.7945\n",
      "0.12199999999999989\n",
      "0.48950000000000027 0.9774999999999998\n"
     ]
    }
   ],
   "source": [
    "Q1 = top_fifty['danceability'].quantile(0.25)\n",
    "Q3 = top_fifty['danceability'].quantile(0.75)\n",
    "IQR = Q3-Q1\n",
    "print(Q1)\n",
    "print(Q3)\n",
    "print(IQR)\n",
    "Lower_Whisker = Q1 - 1.5 * IQR\n",
    "Upper_Whisker = Q3 + 1.5 * IQR\n",
    "print(Lower_Whisker, Upper_Whisker)"
   ]
  },
  {
   "cell_type": "code",
   "execution_count": 435,
   "id": "bigger-adolescent",
   "metadata": {},
   "outputs": [
    {
     "data": {
      "text/plain": [
       "<AxesSubplot:xlabel='danceability'>"
      ]
     },
     "execution_count": 435,
     "metadata": {},
     "output_type": "execute_result"
    },
    {
     "data": {
      "image/png": "[encoded data removed]",
      "text/plain": [
       "<Figure size 432x288 with 1 Axes>"
      ]
     },
     "metadata": {
      "needs_background": "light"
     },
     "output_type": "display_data"
    }
   ],
   "source": [
    "sns.boxplot(data = top_fifty, x = top_fifty ['danceability'])"
   ]
  },
  {
   "cell_type": "markdown",
   "id": "acting-freedom",
   "metadata": {},
   "source": [
    "### Outliers: Duration\n",
    "\n",
    "Duration has 2 outliers."
   ]
  },
  {
   "cell_type": "code",
   "execution_count": 426,
   "id": "artistic-nepal",
   "metadata": {
    "scrolled": false
   },
   "outputs": [
    {
     "name": "stdout",
     "output_type": "stream",
     "text": [
      "175845.5\n",
      "215064.0\n",
      "39218.5\n",
      "117017.75 273891.75\n"
     ]
    }
   ],
   "source": [
    "Q1 = top_fifty['duration_ms'].quantile(0.25)\n",
    "Q3 = top_fifty['duration_ms'].quantile(0.75)\n",
    "IQR = Q3-Q1\n",
    "print(Q1)\n",
    "print(Q3)\n",
    "print(IQR)\n",
    "Lower_Whisker = Q1 - 1.5 * IQR\n",
    "Upper_Whisker = Q3 + 1.5 * IQR\n",
    "print(Lower_Whisker, Upper_Whisker)"
   ]
  },
  {
   "cell_type": "code",
   "execution_count": 427,
   "id": "documented-logging",
   "metadata": {
    "scrolled": true
   },
   "outputs": [
    {
     "data": {
      "text/plain": [
       "<AxesSubplot:xlabel='duration_ms'>"
      ]
     },
     "execution_count": 427,
     "metadata": {},
     "output_type": "execute_result"
    },
    {
     "data": {
      "image/png": "[encoded data removed]",
      "text/plain": [
       "<Figure size 432x288 with 1 Axes>"
      ]
     },
     "metadata": {
      "needs_background": "light"
     },
     "output_type": "display_data"
    }
   ],
   "source": [
    "sns.boxplot(data = top_fifty, x = top_fifty ['duration_ms'])"
   ]
  },
  {
   "cell_type": "markdown",
   "id": "italic-aside",
   "metadata": {},
   "source": [
    "### Outliers: Instrumentalness\n",
    "\n",
    "Instrumentalness has 12 outliers."
   ]
  },
  {
   "cell_type": "code",
   "execution_count": 428,
   "id": "tender-stocks",
   "metadata": {
    "scrolled": true
   },
   "outputs": [
    {
     "name": "stdout",
     "output_type": "stream",
     "text": [
      "0.0\n",
      "2.0200000000000003e-05\n",
      "2.0200000000000003e-05\n",
      "-3.0300000000000005e-05 5.050000000000001e-05\n"
     ]
    }
   ],
   "source": [
    "Q1 = top_fifty['instrumentalness'].quantile(0.25)\n",
    "Q3 = top_fifty['instrumentalness'].quantile(0.75)\n",
    "IQR = Q3-Q1\n",
    "print(Q1)\n",
    "print(Q3)\n",
    "print(IQR)\n",
    "Lower_Whisker = Q1 - 1.5 * IQR\n",
    "Upper_Whisker = Q3 + 1.5 * IQR\n",
    "print(Lower_Whisker, Upper_Whisker)"
   ]
  },
  {
   "cell_type": "code",
   "execution_count": 429,
   "id": "modified-kingdom",
   "metadata": {
    "scrolled": false
   },
   "outputs": [
    {
     "data": {
      "text/plain": [
       "<AxesSubplot:xlabel='instrumentalness'>"
      ]
     },
     "execution_count": 429,
     "metadata": {},
     "output_type": "execute_result"
    },
    {
     "data": {
      "image/png": "[encoded data removed]",
      "text/plain": [
       "<Figure size 432x288 with 1 Axes>"
      ]
     },
     "metadata": {
      "needs_background": "light"
     },
     "output_type": "display_data"
    }
   ],
   "source": [
    "sns.boxplot(data = top_fifty, x = top_fifty ['instrumentalness'])"
   ]
  },
  {
   "cell_type": "markdown",
   "id": "reported-click",
   "metadata": {},
   "source": [
    "### Outliers: Liveness\n",
    "\n",
    "Liveness has 3 outliers."
   ]
  },
  {
   "cell_type": "code",
   "execution_count": 430,
   "id": "overhead-priest",
   "metadata": {
    "scrolled": false
   },
   "outputs": [
    {
     "name": "stdout",
     "output_type": "stream",
     "text": [
      "0.09395\n",
      "0.27125\n",
      "0.17729999999999999\n",
      "-0.17199999999999996 0.5371999999999999\n"
     ]
    }
   ],
   "source": [
    "Q1 = top_fifty['liveness'].quantile(0.25)\n",
    "Q3 = top_fifty['liveness'].quantile(0.75)\n",
    "IQR = Q3-Q1\n",
    "print(Q1)\n",
    "print(Q3)\n",
    "print(IQR)\n",
    "Lower_Whisker = Q1 - 1.5 * IQR\n",
    "Upper_Whisker = Q3 + 1.5 * IQR\n",
    "print(Lower_Whisker, Upper_Whisker)"
   ]
  },
  {
   "cell_type": "code",
   "execution_count": 431,
   "id": "operating-tanzania",
   "metadata": {
    "scrolled": false
   },
   "outputs": [
    {
     "data": {
      "text/plain": [
       "<AxesSubplot:xlabel='liveness'>"
      ]
     },
     "execution_count": 431,
     "metadata": {},
     "output_type": "execute_result"
    },
    {
     "data": {
      "image/png": "[encoded data removed]",
      "text/plain": [
       "<Figure size 432x288 with 1 Axes>"
      ]
     },
     "metadata": {
      "needs_background": "light"
     },
     "output_type": "display_data"
    }
   ],
   "source": [
    "sns.boxplot(data = top_fifty, x = top_fifty ['liveness'])"
   ]
  },
  {
   "cell_type": "markdown",
   "id": "controlling-binding",
   "metadata": {},
   "source": [
    "### Outliers: Loudness\n",
    "\n",
    "Loudness has 1 outlier."
   ]
  },
  {
   "cell_type": "code",
   "execution_count": 414,
   "id": "cardiovascular-consequence",
   "metadata": {
    "scrolled": true
   },
   "outputs": [
    {
     "name": "stdout",
     "output_type": "stream",
     "text": [
      "-7.5525\n",
      "-4.2855\n",
      "3.2670000000000003\n",
      "-12.453000000000001 0.6150000000000011\n"
     ]
    }
   ],
   "source": [
    "Q1 = top_fifty['loudness'].quantile(0.25)\n",
    "Q3 = top_fifty['loudness'].quantile(0.75)\n",
    "IQR = Q3-Q1\n",
    "print(Q1)\n",
    "print(Q3)\n",
    "print(IQR)\n",
    "Lower_Whisker = Q1 - 1.5 * IQR\n",
    "Upper_Whisker = Q3 + 1.5 * IQR\n",
    "print(Lower_Whisker, Upper_Whisker)"
   ]
  },
  {
   "cell_type": "code",
   "execution_count": 415,
   "id": "little-fight",
   "metadata": {
    "scrolled": false
   },
   "outputs": [
    {
     "data": {
      "text/plain": [
       "<AxesSubplot:xlabel='loudness'>"
      ]
     },
     "execution_count": 415,
     "metadata": {},
     "output_type": "execute_result"
    },
    {
     "data": {
      "image/png": "[encoded data removed]",
      "text/plain": [
       "<Figure size 432x288 with 1 Axes>"
      ]
     },
     "metadata": {
      "needs_background": "light"
     },
     "output_type": "display_data"
    }
   ],
   "source": [
    "sns.boxplot(data = top_fifty, x = top_fifty ['loudness'])"
   ]
  },
  {
   "cell_type": "markdown",
   "id": "balanced-march",
   "metadata": {},
   "source": [
    "### Outliers: Speechiness\n",
    "\n",
    "Speechiness has 6 outliers."
   ]
  },
  {
   "cell_type": "code",
   "execution_count": 418,
   "id": "caroline-thickness",
   "metadata": {
    "scrolled": true
   },
   "outputs": [
    {
     "name": "stdout",
     "output_type": "stream",
     "text": [
      "0.048325\n",
      "0.1555\n",
      "0.10717499999999999\n",
      "-0.11243749999999997 0.3162625\n"
     ]
    }
   ],
   "source": [
    "Q1 = top_fifty['speechiness'].quantile(0.25)\n",
    "Q3 = top_fifty['speechiness'].quantile(0.75)\n",
    "IQR = Q3-Q1\n",
    "print(Q1)\n",
    "print(Q3)\n",
    "print(IQR)\n",
    "Lower_Whisker = Q1 - 1.5 * IQR\n",
    "Upper_Whisker = Q3 + 1.5 * IQR\n",
    "print(Lower_Whisker, Upper_Whisker)"
   ]
  },
  {
   "cell_type": "code",
   "execution_count": 419,
   "id": "acknowledged-working",
   "metadata": {
    "scrolled": false
   },
   "outputs": [
    {
     "data": {
      "text/plain": [
       "<AxesSubplot:xlabel='speechiness'>"
      ]
     },
     "execution_count": 419,
     "metadata": {},
     "output_type": "execute_result"
    },
    {
     "data": {
      "image/png": "[encoded data removed]",
      "text/plain": [
       "<Figure size 432x288 with 1 Axes>"
      ]
     },
     "metadata": {
      "needs_background": "light"
     },
     "output_type": "display_data"
    }
   ],
   "source": [
    "sns.boxplot(data = top_fifty, x = top_fifty ['speechiness'])"
   ]
  }
 ],
 "metadata": {
  "kernelspec": {
   "display_name": "Python 3",
   "language": "python",
   "name": "python3"
  },
  "language_info": {
   "codemirror_mode": {
    "name": "ipython",
    "version": 3
   },
   "file_extension": ".py",
   "mimetype": "text/x-python",
   "name": "python",
   "nbconvert_exporter": "python",
   "pygments_lexer": "ipython3",
   "version": "3.9.6"
  },
  "toc": {
   "base_numbering": 1,
   "nav_menu": {},
   "number_sections": true,
   "sideBar": true,
   "skip_h1_title": false,
   "title_cell": "Table of Contents",
   "title_sidebar": "Contents",
   "toc_cell": false,
   "toc_position": {
    "height": "calc(100% - 180px)",
    "left": "10px",
    "top": "150px",
    "width": "360px"
   },
   "toc_section_display": true,
   "toc_window_display": true
  }
 },
 "nbformat": 4,
 "nbformat_minor": 5
}
